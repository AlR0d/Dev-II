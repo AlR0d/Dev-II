{
 "cells": [
  {
   "cell_type": "markdown",
   "metadata": {},
   "source": [
    "## Replicating Ashraf, Karlan and Yin (2006) \n",
    "**\"Tying Odysseus to the Mast: Evidence from a Commitment Savings Product in the Philippines,\"** *Quarterly Journal of Economics.*"
   ]
  },
  {
   "cell_type": "markdown",
   "metadata": {},
   "source": [
    "What follows are notes on the replication files for this paper (available from Harvard Dataverse).  This is written in a jupyter notebook using the ipystata python library which basically allows us to run stata code.\n",
    "\n",
    "In what follows I have reproduced only parts of the analysis from the following do files:\n",
    " - [SEED.QJEtable.impact.do](AKY06\\SEED.QJEtable.impact.do)  \n",
    " - [SEED.QJEtables.takeup.do](AKY06\\SEED.QJEtables.takeup.do)  "
   ]
  },
  {
   "cell_type": "markdown",
   "metadata": {},
   "source": [
    "**Opening the datasets**\n",
    "\n",
    "One disadvantage of proprietary software like Stata is that you often cannot open a dataset saved with a later version of the software unless you pay to upgrade the software.  The datasets seem to have been saved as Stata 13 but (separately) I've used the stata saveold command to save them as Stata 11 datasets to be more widely available.  Analysis that follows opens these version11 files."
   ]
  },
  {
   "cell_type": "code",
   "execution_count": 1,
   "metadata": {
    "collapsed": false
   },
   "outputs": [
    {
     "data": {
      "application/javascript": [
       "IPython.CodeCell.config_defaults.highlight_modes['magic_stata'] = {'reg':[/^%%stata/]};"
      ]
     },
     "metadata": {},
     "output_type": "display_data"
    }
   ],
   "source": [
    "import ipystata"
   ]
  },
  {
   "cell_type": "markdown",
   "metadata": {
    "collapsed": false
   },
   "source": [
    "## Observations about the datasets"
   ]
  },
  {
   "cell_type": "markdown",
   "metadata": {},
   "source": [
    "These are the original datasets. They have non-obvious names:\n",
    "\n",
    " - **seedanalysis_011204_1.dta**: -- Six month impacts\n",
    "\n",
    " - **seedanalysis_011204_080404_1.dta**:  -- Twelve month impacts\n",
    "\n",
    " - **seedanalysis_080404_1.dta**: -- not sure yet.."
   ]
  },
  {
   "cell_type": "markdown",
   "metadata": {},
   "source": [
    "The dataset has 3153 observations but the baseline survey appears to have been administered to only 1777 (if call==1)"
   ]
  },
  {
   "cell_type": "code",
   "execution_count": 2,
   "metadata": {
    "collapsed": false
   },
   "outputs": [
    {
     "name": "stdout",
     "output_type": "stream",
     "text": [
      "\n",
      "G:\\GC\\Dev-II\\notebooks\n",
      "\n",
      "      group |      Freq.     Percent        Cum.\n",
      "------------+-----------------------------------\n",
      "          C |        809       25.66       25.66\n",
      "          M |        776       24.61       50.27\n",
      "          T |      1,568       49.73      100.00\n",
      "------------+-----------------------------------\n",
      "      Total |      3,153      100.00\n",
      "\n",
      "      group |      Freq.     Percent        Cum.\n",
      "------------+-----------------------------------\n",
      "          C |        469       26.39       26.39\n",
      "          M |        466       26.22       52.62\n",
      "          T |        842       47.38      100.00\n",
      "------------+-----------------------------------\n",
      "      Total |      1,777      100.00\n"
     ]
    }
   ],
   "source": [
    "%%stata\n",
    "cd G:\\GC\\Dev-II\\notebooks\n",
    "use AKY06\\seedanalysis_011204_080404_1_v11.dta\n",
    "\n",
    "tab group\n",
    "tab group if treatment !=."
   ]
  },
  {
   "cell_type": "markdown",
   "metadata": {},
   "source": [
    "## Table 6: Impact "
   ]
  },
  {
   "cell_type": "markdown",
   "metadata": {},
   "source": [
    "### OLS 6 months\n",
    "Note that the 6 months data is in the file:\n",
    "AKY06\\seedanalysis_011204_1.dta"
   ]
  },
  {
   "cell_type": "code",
   "execution_count": 3,
   "metadata": {
    "collapsed": false
   },
   "outputs": [
    {
     "name": "stdout",
     "output_type": "stream",
     "text": [
      "\n",
      "Linear regression                               Number of obs     =      1,777\n",
      "                                                F(2, 1774)        =       2.90\n",
      "                                                Prob > F          =     0.0553\n",
      "                                                R-squared         =     0.0018\n",
      "                                                Root MSE          =     2293.2\n",
      "\n",
      "------------------------------------------------------------------------------\n",
      "             |               Robust\n",
      "   balchange |      Coef.   Std. Err.      t    P>|t|     [95% Conf. Interval]\n",
      "-------------+----------------------------------------------------------------\n",
      "   treatment |   234.6785   101.7479     2.31   0.021     35.12004     434.237\n",
      "   marketing |   184.8506   146.9815     1.26   0.209    -103.4246    473.1257\n",
      "       _cons |   40.62573   61.67617     0.66   0.510    -80.33988    161.5913\n",
      "------------------------------------------------------------------------------\n",
      "\n",
      "Linear regression                               Number of obs     =      1,308\n",
      "                                                F(1, 1306)        =       0.10\n",
      "                                                Prob > F          =     0.7495\n",
      "                                                R-squared         =     0.0001\n",
      "                                                Root MSE          =     2550.2\n",
      "\n",
      "------------------------------------------------------------------------------\n",
      "             |               Robust\n",
      "   balchange |      Coef.   Std. Err.      t    P>|t|     [95% Conf. Interval]\n",
      "-------------+----------------------------------------------------------------\n",
      "   treatment |   49.82794    156.027     0.32   0.750    -256.2631    355.9189\n",
      "       _cons |   225.4763   133.4046     1.69   0.091     -36.2344     487.187\n"
     ]
    }
   ],
   "source": [
    "%%stata\n",
    "use AKY06\\seedanalysis_011204_1_v11.dta\n",
    "xi: reg balchange treatment marketing, robust\n",
    "xi: reg balchange treatment if (treatment == 1 | marketing == 1), robust"
   ]
  },
  {
   "cell_type": "markdown",
   "metadata": {},
   "source": [
    "### OLS 12 months\n",
    "Note that the 12 months data is in the file:\n",
    "AKY06\\seedanalysis_011204_080404_1.dta"
   ]
  },
  {
   "cell_type": "code",
   "execution_count": 4,
   "metadata": {
    "collapsed": false
   },
   "outputs": [
    {
     "name": "stdout",
     "output_type": "stream",
     "text": [
      "\n",
      "Linear regression                               Number of obs     =      1,777\n",
      "                                                F(2, 1774)        =       1.43\n",
      "                                                Prob > F          =     0.2398\n",
      "                                                R-squared         =     0.0016\n",
      "                                                Root MSE          =       4528\n",
      "\n",
      "------------------------------------------------------------------------------\n",
      "             |               Robust\n",
      "   balchange |      Coef.   Std. Err.      t    P>|t|     [95% Conf. Interval]\n",
      "-------------+----------------------------------------------------------------\n",
      "   treatment |   411.4664   244.0205     1.69   0.092    -67.13149    890.0644\n",
      "   marketing |    123.891   153.4397     0.81   0.420    -177.0506    424.8327\n",
      "       _cons |     65.183   124.2152     0.52   0.600    -178.4406    308.8066\n",
      "------------------------------------------------------------------------------\n",
      "\n",
      "Linear regression                               Number of obs     =      1,308\n",
      "                                                F(1, 1306)        =       1.58\n",
      "                                                Prob > F          =     0.2085\n",
      "                                                R-squared         =     0.0008\n",
      "                                                Root MSE          =     5025.5\n",
      "\n",
      "------------------------------------------------------------------------------\n",
      "             |               Robust\n",
      "   balchange |      Coef.   Std. Err.      t    P>|t|     [95% Conf. Interval]\n",
      "-------------+----------------------------------------------------------------\n",
      "   treatment |   287.5754   228.5226     1.26   0.208    -160.7361    735.8869\n",
      "       _cons |    189.074   90.07236     2.10   0.036     12.37169    365.7764\n"
     ]
    }
   ],
   "source": [
    "%%stata\n",
    "use AKY06\\seedanalysis_011204_080404_1_v11.dta\n",
    "\n",
    "xi: reg balchange treatment marketing, robust\n",
    "\n",
    "xi: reg balchange treatment if (treatment == 1 | marketing == 1), robust"
   ]
  },
  {
   "cell_type": "markdown",
   "metadata": {},
   "source": [
    "In the analysis that follows e(sample)==1 restricts the calculations to the sample that was used in the lsat regression and \\_result(3) refers to the mean of hh_inc"
   ]
  },
  {
   "cell_type": "code",
   "execution_count": 5,
   "metadata": {
    "collapsed": false
   },
   "outputs": [
    {
     "name": "stdout",
     "output_type": "stream",
     "text": [
      "\n",
      "Linear regression                               Number of obs     =      1,777\n",
      "                                                F(2, 1774)        =       1.43\n",
      "                                                Prob > F          =     0.2398\n",
      "                                                R-squared         =     0.0016\n",
      "                                                Root MSE          =       4528\n",
      "\n",
      "------------------------------------------------------------------------------\n",
      "             |               Robust\n",
      "   balchange |      Coef.   Std. Err.      t    P>|t|     [95% Conf. Interval]\n",
      "-------------+----------------------------------------------------------------\n",
      "   treatment |   411.4664   244.0205     1.69   0.092    -67.13149    890.0644\n",
      "   marketing |    123.891   153.4397     0.81   0.420    -177.0506    424.8327\n",
      "       _cons |     65.183   124.2152     0.52   0.600    -178.4406    308.8066\n",
      "------------------------------------------------------------------------------\n",
      ". **economic impact #1: % of hh_inc \n",
      "\n",
      "    Variable |        Obs        Mean    Std. Dev.       Min        Max\n",
      "-------------+---------------------------------------------------------\n",
      "      hh_inc |      1,777    1.506908    1.953011          0    34.2623\n",
      ".02730535\n",
      "\n",
      "    Variable |        Obs        Mean    Std. Dev.       Min        Max\n",
      "-------------+---------------------------------------------------------\n",
      "      totbal |      1,777    50912.48    50489.83          0     223836\n",
      ".80818389\n"
     ]
    }
   ],
   "source": [
    "%%stata\n",
    "\n",
    "xi: reg balchange treatment marketing, robust\n",
    "    \n",
    "**economic impact #1: % of hh_inc \n",
    "summ hh_inc if e(sample)==1\n",
    "disp _b[treatment] / (_result(3)*10000)\n",
    "\n",
    "**economic impact #2: % of prior balance\n",
    "summ totbal if e(sample)==1\n",
    "disp _b[treatment] / (_result(3)/100)"
   ]
  },
  {
   "cell_type": "markdown",
   "metadata": {},
   "source": [
    "### Probit regressions"
   ]
  },
  {
   "cell_type": "code",
   "execution_count": 6,
   "metadata": {
    "collapsed": false
   },
   "outputs": [
    {
     "name": "stdout",
     "output_type": "stream",
     "text": [
      "\n",
      "Iteration 0:   log pseudolikelihood = -1072.4045\n",
      "Iteration 1:   log pseudolikelihood = -1064.6708\n",
      "Iteration 2:   log pseudolikelihood = -1064.6667\n",
      "\n",
      "Probit regression, reporting marginal effects           Number of obs =   1777\n",
      "                                                        Wald chi2(2)  =  15.34\n",
      "                                                        Prob > chi2   = 0.0005\n",
      "Log pseudolikelihood = -1064.6667                       Pseudo R2     = 0.0072\n",
      "\n",
      "------------------------------------------------------------------------------\n",
      "         |               Robust\n",
      "frac~_00 |      dF/dx   Std. Err.      z    P>|z|     x-bar  [    95% C.I.   ]\n",
      "---------+--------------------------------------------------------------------\n",
      "treatm~t*|   .1021901   .0266729     3.82   0.000   .473832   .049912  .154468\n",
      "market~g*|   .0482741   .0314653     1.56   0.119    .26224  -.013397  .109945\n",
      "---------+--------------------------------------------------------------------\n",
      "  obs. P |   .2915025\n",
      " pred. P |    .290007  (at x-bar)\n",
      "------------------------------------------------------------------------------\n",
      "(*) dF/dx is for discrete change of dummy variable from 0 to 1\n",
      "    z and P>|z| correspond to the test of the underlying coefficient being 0\n",
      "\n",
      "Iteration 0:   log pseudolikelihood = -812.57798\n",
      "Iteration 1:   log pseudolikelihood =  -810.3887\n",
      "Iteration 2:   log pseudolikelihood =  -810.3884\n",
      "\n",
      "Probit regression, reporting marginal effects           Number of obs =   1308\n",
      "                                                        Wald chi2(1)  =   4.35\n",
      "                                                        Prob > chi2   = 0.0369\n",
      "Log pseudolikelihood =  -810.3884                       Pseudo R2     = 0.0027\n",
      "\n",
      "------------------------------------------------------------------------------\n",
      "         |               Robust\n",
      "frac~_00 |      dF/dx   Std. Err.      z    P>|z|     x-bar  [    95% C.I.   ]\n",
      "---------+--------------------------------------------------------------------\n",
      "treatm~t*|   .0557175   .0263389     2.09   0.037   .643731   .004094  .107341\n",
      "---------+--------------------------------------------------------------------\n",
      "  obs. P |   .3126911\n",
      " pred. P |   .3121752  (at x-bar)\n",
      "------------------------------------------------------------------------------\n",
      "(*) dF/dx is for discrete change of dummy variable from 0 to 1\n",
      "    z and P>|z| correspond to the test of the underlying coefficient being 0\n",
      "\n",
      "Iteration 0:   log pseudolikelihood =  -784.0733\n",
      "Iteration 1:   log pseudolikelihood = -772.39775\n",
      "Iteration 2:   log pseudolikelihood = -772.35865\n",
      "Iteration 3:   log pseudolikelihood = -772.35865\n",
      "\n",
      "Probit regression, reporting marginal effects           Number of obs =   1777\n",
      "                                                        Wald chi2(2)  =  22.93\n",
      "                                                        Prob > chi2   = 0.0000\n",
      "Log pseudolikelihood = -772.35865                       Pseudo R2     = 0.0149\n",
      "\n",
      "------------------------------------------------------------------------------\n",
      "         |               Robust\n",
      "frac_~20 |      dF/dx   Std. Err.      z    P>|z|     x-bar  [    95% C.I.   ]\n",
      "---------+--------------------------------------------------------------------\n",
      "treatm~t*|   .1006771   .0223461     4.51   0.000   .473832   .056879  .144475\n",
      "market~g*|   .0405021   .0274247     1.53   0.126    .26224  -.013249  .094253\n",
      "---------+--------------------------------------------------------------------\n",
      "  obs. P |   .1609454\n",
      " pred. P |   .1572024  (at x-bar)\n",
      "------------------------------------------------------------------------------\n",
      "(*) dF/dx is for discrete change of dummy variable from 0 to 1\n",
      "    z and P>|z| correspond to the test of the underlying coefficient being 0\n",
      "\n",
      "Iteration 0:   log pseudolikelihood = -617.43102\n",
      "Iteration 1:   log pseudolikelihood =  -613.2009\n",
      "Iteration 2:   log pseudolikelihood = -613.19501\n",
      "\n",
      "Probit regression, reporting marginal effects           Number of obs =   1308\n",
      "                                                        Wald chi2(1)  =   8.31\n",
      "                                                        Prob > chi2   = 0.0039\n",
      "Log pseudolikelihood = -613.19501                       Pseudo R2     = 0.0069\n",
      "\n",
      "------------------------------------------------------------------------------\n",
      "         |               Robust\n",
      "frac_~20 |      dF/dx   Std. Err.      z    P>|z|     x-bar  [    95% C.I.   ]\n",
      "---------+--------------------------------------------------------------------\n",
      "treatm~t*|   .0636029   .0212161     2.88   0.004   .643731    .02202  .105186\n",
      "---------+--------------------------------------------------------------------\n",
      "  obs. P |   .1804281\n",
      " pred. P |   .1786767  (at x-bar)\n",
      "------------------------------------------------------------------------------\n",
      "(*) dF/dx is for discrete change of dummy variable from 0 to 1\n",
      "    z and P>|z| correspond to the test of the underlying coefficient being 0\n"
     ]
    }
   ],
   "source": [
    "%%stata\n",
    "xi: dprobit frac_change_00 treatment marketing, robust\n",
    "xi: dprobit frac_change_00 treatment if (treatment == 1 | marketing == 1), robust\n",
    "xi: dprobit frac_change_20 treatment marketing, robust\n",
    "xi: dprobit frac_change_20 treatment  if (treatment == 1 | marketing == 1), robust"
   ]
  },
  {
   "cell_type": "markdown",
   "metadata": {},
   "source": [
    "### Quantile Regressions"
   ]
  },
  {
   "cell_type": "markdown",
   "metadata": {},
   "source": [
    "#### 6 months"
   ]
  },
  {
   "cell_type": "code",
   "execution_count": 7,
   "metadata": {
    "collapsed": false
   },
   "outputs": [
    {
     "name": "stdout",
     "output_type": "stream",
     "text": [
      "\n",
      "(fitting base model)\n",
      "\n",
      "Bootstrap replications (20)\n",
      "----+--- 1 ---+--- 2 ---+--- 3 ---+--- 4 ---+--- 5 \n",
      "....x.x....x..x.....x....\n",
      "\n",
      "Simultaneous quantile regression                    Number of obs =      1,777\n",
      "  bootstrap(20) SEs                                 .10 Pseudo R2 =     0.0089\n",
      "                                                    .20 Pseudo R2 =     0.0004\n",
      "                                                    .30 Pseudo R2 =     0.0029\n",
      "                                                    .40 Pseudo R2 =     0.0011\n",
      "                                                    .50 Pseudo R2 =     0.0012\n",
      "                                                    .60 Pseudo R2 =     0.0006\n",
      "                                                    .70 Pseudo R2 =     0.0002\n",
      "                                                    .80 Pseudo R2 =     0.0015\n",
      "                                                    .90 Pseudo R2 =     0.0051\n",
      "\n",
      "------------------------------------------------------------------------------\n",
      "             |              Bootstrap\n",
      "   balchange |      Coef.   Std. Err.      t    P>|t|     [95% Conf. Interval]\n",
      "-------------+----------------------------------------------------------------\n",
      "q10          |\n",
      "   treatment |     317.49   96.41809     3.29   0.001      128.385     506.595\n",
      "   marketing |     327.15   106.2085     3.08   0.002      118.843     535.457\n",
      "       _cons |    -828.09   89.08566    -9.30   0.000    -1002.814   -653.3661\n",
      "-------------+----------------------------------------------------------------\n",
      "q20          |\n",
      "   treatment |         20   24.16008     0.83   0.408    -27.38521    67.38521\n",
      "   marketing |         20   24.86448     0.80   0.421    -28.76677    68.76677\n",
      "       _cons |       -300   22.99448   -13.05   0.000    -345.0991   -254.9009\n",
      "-------------+----------------------------------------------------------------\n",
      "q30          |\n",
      "   treatment |     107.03   15.97238     6.70   0.000     75.70331    138.3567\n",
      "   marketing |      100.9    31.1462     3.24   0.001     39.81289    161.9871\n",
      "       _cons |    -276.99   12.32701   -22.47   0.000     -301.167    -252.813\n",
      "-------------+----------------------------------------------------------------\n",
      "q40          |\n",
      "   treatment |   42.50999   18.72339     2.27   0.023     5.787762    79.23223\n",
      "   marketing |   29.60999   17.30305     1.71   0.087    -4.326526    63.54651\n",
      "       _cons |    -148.98   16.03131    -9.29   0.000    -180.4222   -117.5378\n",
      "-------------+----------------------------------------------------------------\n",
      "q50          |\n",
      "   treatment |         62   12.94691     4.79   0.000      36.6072     87.3928\n",
      "   marketing |      21.58   19.00313     1.14   0.256    -15.69088    58.85089\n",
      "       _cons |     -98.22   9.810769   -10.01   0.000    -117.4619   -78.97812\n",
      "-------------+----------------------------------------------------------------\n",
      "q60          |\n",
      "   treatment |      37.62    10.6566     3.53   0.000     16.71919    58.52081\n",
      "   marketing |      22.59   23.21491     0.97   0.331    -22.94144    68.12144\n",
      "       _cons |     -37.62    10.6566    -3.53   0.000    -58.52081   -16.71919\n",
      "-------------+----------------------------------------------------------------\n",
      "q70          |\n",
      "   treatment |       6.55   2.694475     2.43   0.015     1.265321    11.83468\n",
      "   marketing |   2.92e-13   1.094166     0.00   1.000     -2.14599     2.14599\n",
      "       _cons |  -2.97e-13   1.16e-13    -2.57   0.010    -5.24e-13   -7.00e-14\n",
      "-------------+----------------------------------------------------------------\n",
      "q80          |\n",
      "   treatment |      65.79   15.76751     4.17   0.000     34.86515    96.71485\n",
      "   marketing |       4.02   6.252162     0.64   0.520    -8.242379    16.28238\n",
      "       _cons |       6.85   1.559019     4.39   0.000     3.792292    9.907708\n",
      "-------------+----------------------------------------------------------------\n",
      "q90          |\n",
      "   treatment |     437.23   148.7802     2.94   0.003      145.427     729.033\n",
      "   marketing |     265.06   176.7912     1.50   0.134    -81.68094    611.8009\n",
      "       _cons |      107.4   52.46879     2.05   0.041     4.492847    210.3072\n",
      "------------------------------------------------------------------------------\n",
      "(fitting base model)\n",
      "\n",
      "Bootstrap replications (20)\n",
      "----+--- 1 ---+--- 2 ---+--- 3 ---+--- 4 ---+--- 5 \n",
      "xxxxxx.xx...xxx..xxxxxxxxx.x.x.xxxxxxxxxx..xxxxxxx.xxxxxxxxxx.xxxxxxxxx.xxx.xxx..xxxx..x.\n",
      "\n",
      "Simultaneous quantile regression                    Number of obs =      1,308\n",
      "  bootstrap(20) SEs                                 .10 Pseudo R2 =     0.0001\n",
      "                                                    .20 Pseudo R2 =    -0.0000\n",
      "                                                    .30 Pseudo R2 =     0.0000\n",
      "                                                    .40 Pseudo R2 =     0.0003\n",
      "                                                    .50 Pseudo R2 =     0.0006\n",
      "                                                    .60 Pseudo R2 =     0.0001\n",
      "                                                    .70 Pseudo R2 =     0.0001\n",
      "                                                    .80 Pseudo R2 =     0.0012\n",
      "                                                    .90 Pseudo R2 =     0.0006\n",
      "\n",
      "------------------------------------------------------------------------------\n",
      "             |              Bootstrap\n",
      "   balchange |      Coef.   Std. Err.      t    P>|t|     [95% Conf. Interval]\n",
      "-------------+----------------------------------------------------------------\n",
      "q10          |\n",
      "   treatment |  -9.660004   105.8526    -0.09   0.927    -217.3198    197.9998\n",
      "       _cons |    -500.94   105.6118    -4.74   0.000    -708.1273   -293.7527\n",
      "-------------+----------------------------------------------------------------\n",
      "q20          |\n",
      "   treatment |          0   14.62935     0.00   1.000     -28.6996     28.6996\n",
      "       _cons |       -280   10.26516   -27.28   0.000     -300.138    -259.862\n",
      "-------------+----------------------------------------------------------------\n",
      "q30          |\n",
      "   treatment |    6.12999   32.19983     0.19   0.849    -57.03907    69.29905\n",
      "       _cons |    -176.09   21.26357    -8.28   0.000    -217.8045   -134.3755\n",
      "-------------+----------------------------------------------------------------\n",
      "q40          |\n",
      "   treatment |       12.9   14.01399     0.92   0.357    -14.59238    40.39239\n",
      "       _cons |    -119.37   9.211683   -12.96   0.000    -137.4413   -101.2987\n",
      "-------------+----------------------------------------------------------------\n",
      "q50          |\n",
      "   treatment |      40.42   16.54314     2.44   0.015     7.965957    72.87404\n",
      "       _cons |     -76.64   12.82142    -5.98   0.000    -101.7928   -51.48717\n",
      "-------------+----------------------------------------------------------------\n",
      "q60          |\n",
      "   treatment |      15.03     12.593     1.19   0.233    -9.674723    39.73472\n",
      "       _cons |     -15.03     12.593    -1.19   0.233    -39.73472    9.674723\n",
      "-------------+----------------------------------------------------------------\n",
      "q70          |\n",
      "   treatment |       6.55   3.169129     2.07   0.039     .3328592    12.76714\n",
      "       _cons |   1.04e-13   .3108714     0.00   1.000     -.609862     .609862\n",
      "-------------+----------------------------------------------------------------\n",
      "q80          |\n",
      "   treatment |      61.77   17.17601     3.60   0.000     28.07442    95.46558\n",
      "       _cons |      10.87   4.421678     2.46   0.014      2.19563    19.54437\n",
      "-------------+----------------------------------------------------------------\n",
      "q90          |\n",
      "   treatment |     172.17   192.5683     0.89   0.371    -205.6071    549.9471\n",
      "       _cons |     372.46   164.7767     2.26   0.024     49.20397     695.716\n"
     ]
    }
   ],
   "source": [
    "%%stata\n",
    "use AKY06\\seedanalysis_011204_080404_1_v11.dta\n",
    "sqreg balchange treatment marketing, q(.1 .2 .3 .4 .5 .6 .7 .8 .9)\n",
    "\n",
    "sqreg balchange treatment if (treatment == 1 | marketing == 1), q(.1 .2 .3 .4 .5 .6 .7 .8 .9)"
   ]
  },
  {
   "cell_type": "markdown",
   "metadata": {},
   "source": [
    "#### 12 months"
   ]
  },
  {
   "cell_type": "code",
   "execution_count": 8,
   "metadata": {
    "collapsed": false
   },
   "outputs": [
    {
     "name": "stdout",
     "output_type": "stream",
     "text": [
      "\n",
      "file AKY06\\seedanalysis_011204_080404_v11.dta not found\n",
      "r(601);\n",
      "(fitting base model)\n",
      "\n",
      "Bootstrap replications (20)\n",
      "----+--- 1 ---+--- 2 ---+--- 3 ---+--- 4 ---+--- 5 \n",
      "....x..x...x.....xx.....xx.\n",
      "\n",
      "Simultaneous quantile regression                    Number of obs =      1,777\n",
      "  bootstrap(20) SEs                                 .10 Pseudo R2 =     0.0089\n",
      "                                                    .20 Pseudo R2 =     0.0004\n",
      "                                                    .30 Pseudo R2 =     0.0029\n",
      "                                                    .40 Pseudo R2 =     0.0011\n",
      "                                                    .50 Pseudo R2 =     0.0012\n",
      "                                                    .60 Pseudo R2 =     0.0006\n",
      "                                                    .70 Pseudo R2 =     0.0002\n",
      "                                                    .80 Pseudo R2 =     0.0015\n",
      "                                                    .90 Pseudo R2 =     0.0051\n",
      "\n",
      "------------------------------------------------------------------------------\n",
      "             |              Bootstrap\n",
      "   balchange |      Coef.   Std. Err.      t    P>|t|     [95% Conf. Interval]\n",
      "-------------+----------------------------------------------------------------\n",
      "q10          |\n",
      "   treatment |     317.49   81.95606     3.87   0.000     156.7494    478.2306\n",
      "   marketing |     327.15   75.29605     4.34   0.000     179.4717    474.8283\n",
      "       _cons |    -828.09   79.19658   -10.46   0.000    -983.4184   -672.7616\n",
      "-------------+----------------------------------------------------------------\n",
      "q20          |\n",
      "   treatment |         20   35.28501     0.57   0.571    -49.20457    89.20457\n",
      "   marketing |         20   38.20277     0.52   0.601    -54.92716    94.92716\n",
      "       _cons |       -300   35.68941    -8.41   0.000    -369.9977   -230.0023\n",
      "-------------+----------------------------------------------------------------\n",
      "q30          |\n",
      "   treatment |     107.03   18.42875     5.81   0.000     70.88564    143.1743\n",
      "   marketing |      100.9   19.00898     5.31   0.000     63.61764    138.1823\n",
      "       _cons |    -276.99   15.21966   -18.20   0.000    -306.8403   -247.1396\n",
      "-------------+----------------------------------------------------------------\n",
      "q40          |\n",
      "   treatment |   42.50999   9.363725     4.54   0.000      24.1449    60.87509\n",
      "   marketing |   29.60999   11.60699     2.55   0.011     6.845176    52.37481\n",
      "       _cons |    -148.98   9.653964   -15.43   0.000    -167.9143   -130.0457\n",
      "-------------+----------------------------------------------------------------\n",
      "q50          |\n",
      "   treatment |         62   15.82094     3.92   0.000     30.97037    93.02963\n",
      "   marketing |      21.58    20.5556     1.05   0.294    -18.73574    61.89574\n",
      "       _cons |     -98.22    15.6571    -6.27   0.000    -128.9283   -67.51171\n",
      "-------------+----------------------------------------------------------------\n",
      "q60          |\n",
      "   treatment |      37.62   13.34395     2.82   0.005     11.44848    63.79152\n",
      "   marketing |      22.59   19.36071     1.17   0.243    -15.38219    60.56219\n",
      "       _cons |     -37.62   13.34395    -2.82   0.005    -63.79152   -11.44848\n",
      "-------------+----------------------------------------------------------------\n",
      "q70          |\n",
      "   treatment |       6.55    3.06789     2.14   0.033     .5329406    12.56706\n",
      "   marketing |   2.92e-13   1.276839     0.00   1.000    -2.504266    2.504266\n",
      "       _cons |  -2.97e-13   1.10e-13    -2.69   0.007    -5.14e-13   -8.06e-14\n",
      "-------------+----------------------------------------------------------------\n",
      "q80          |\n",
      "   treatment |      65.79   20.26571     3.25   0.001     26.04281    105.5372\n",
      "   marketing |       4.02   6.550422     0.61   0.539    -8.827356    16.86736\n",
      "       _cons |       6.85    3.14329     2.18   0.029     .6850583    13.01494\n",
      "-------------+----------------------------------------------------------------\n",
      "q90          |\n",
      "   treatment |     437.23    99.8697     4.38   0.000     241.3553    633.1047\n",
      "   marketing |     265.06   211.3404     1.25   0.210    -149.4423    679.5623\n",
      "       _cons |      107.4   56.54647     1.90   0.058    -3.504705    218.3047\n",
      "------------------------------------------------------------------------------\n",
      "(fitting base model)\n",
      "\n",
      "Bootstrap replications (20)\n",
      "----+--- 1 ---+--- 2 ---+--- 3 ---+--- 4 ---+--- 5 \n",
      "xxxxxxx.xx.xxxxxxxxx.xxxx.xxxxxxxxxxx.xxxxxx..xxxxxxxxxxxx.xxx.xxxxxxxxx.xxxxxxxx..xxxx.xxx.xxxxxxxxxxx.xx.xxx.xxxx.xxx.xxx.\n",
      "\n",
      "Simultaneous quantile regression                    Number of obs =      1,308\n",
      "  bootstrap(20) SEs                                 .10 Pseudo R2 =     0.0001\n",
      "                                                    .20 Pseudo R2 =    -0.0000\n",
      "                                                    .30 Pseudo R2 =     0.0000\n",
      "                                                    .40 Pseudo R2 =     0.0003\n",
      "                                                    .50 Pseudo R2 =     0.0006\n",
      "                                                    .60 Pseudo R2 =     0.0001\n",
      "                                                    .70 Pseudo R2 =     0.0001\n",
      "                                                    .80 Pseudo R2 =     0.0012\n",
      "                                                    .90 Pseudo R2 =     0.0006\n",
      "\n",
      "------------------------------------------------------------------------------\n",
      "             |              Bootstrap\n",
      "   balchange |      Coef.   Std. Err.      t    P>|t|     [95% Conf. Interval]\n",
      "-------------+----------------------------------------------------------------\n",
      "q10          |\n",
      "   treatment |  -9.660004   64.97214    -0.15   0.882    -137.1212    117.8012\n",
      "       _cons |    -500.94   54.30732    -9.22   0.000    -607.4791   -394.4009\n",
      "-------------+----------------------------------------------------------------\n",
      "q20          |\n",
      "   treatment |          0   22.41162     0.00   1.000    -43.96671    43.96671\n",
      "       _cons |       -280   4.786988   -58.49   0.000     -289.391    -270.609\n",
      "-------------+----------------------------------------------------------------\n",
      "q30          |\n",
      "   treatment |    6.12999   33.11795     0.19   0.853    -58.84021    71.10019\n",
      "       _cons |    -176.09   21.44269    -8.21   0.000    -218.1559   -134.0241\n",
      "-------------+----------------------------------------------------------------\n",
      "q40          |\n",
      "   treatment |       12.9   12.24727     1.05   0.292    -11.12647    36.92648\n",
      "       _cons |    -119.37   8.031628   -14.86   0.000    -135.1263   -103.6137\n",
      "-------------+----------------------------------------------------------------\n",
      "q50          |\n",
      "   treatment |      40.42   15.55394     2.60   0.009     9.906553    70.93344\n",
      "       _cons |     -76.64   10.85084    -7.06   0.000    -97.92698   -55.35301\n",
      "-------------+----------------------------------------------------------------\n",
      "q60          |\n",
      "   treatment |      15.03   12.87917     1.17   0.243    -10.23613    40.29613\n",
      "       _cons |     -15.03   12.87917    -1.17   0.243    -40.29613    10.23613\n",
      "-------------+----------------------------------------------------------------\n",
      "q70          |\n",
      "   treatment |       6.55   2.234516     2.93   0.003     2.166367    10.93363\n",
      "       _cons |   1.04e-13   .2258429     0.00   1.000    -.4430545    .4430545\n",
      "-------------+----------------------------------------------------------------\n",
      "q80          |\n",
      "   treatment |      61.77   22.97972     2.69   0.007     16.68879    106.8512\n",
      "       _cons |      10.87   8.091951     1.34   0.179    -5.004645    26.74464\n",
      "-------------+----------------------------------------------------------------\n",
      "q90          |\n",
      "   treatment |     172.17   245.2228     0.70   0.483    -308.9036    653.2436\n",
      "       _cons |     372.46   225.9348     1.65   0.099    -70.77494    815.6949\n"
     ]
    }
   ],
   "source": [
    "%%stata\n",
    "use AKY06\\seedanalysis_011204_080404_v11.dta, clear\n",
    "sqreg balchange treatment marketing, q(.1 .2 .3 .4 .5 .6 .7 .8 .9)\n",
    "sqreg balchange treatment if (treatment == 1 | marketing == 1), q(.1 .2 .3 .4 .5 .6 .7 .8 .9)"
   ]
  },
  {
   "cell_type": "markdown",
   "metadata": {},
   "source": [
    "## Table VIII: ITT effect of subgroups\n",
    "### 12 months"
   ]
  },
  {
   "cell_type": "code",
   "execution_count": 9,
   "metadata": {
    "collapsed": false
   },
   "outputs": [
    {
     "name": "stdout",
     "output_type": "stream",
     "text": [
      "\n",
      "Linear regression                               Number of obs     =      1,777\n",
      "                                                F(4, 1772)        =       1.98\n",
      "                                                Prob > F          =     0.0948\n",
      "                                                R-squared         =     0.0022\n",
      "                                                Root MSE          =     4529.2\n",
      "\n",
      "------------------------------------------------------------------------------\n",
      "             |               Robust\n",
      "   balchange |      Coef.   Std. Err.      t    P>|t|     [95% Conf. Interval]\n",
      "-------------+----------------------------------------------------------------\n",
      "   treatment |   680.2893     420.26     1.62   0.106     -143.968    1504.547\n",
      "   marketing |   137.2044   150.0914     0.91   0.361    -157.1704    431.5792\n",
      "      female |   192.9631   135.0963     1.43   0.153    -72.00175    457.9279\n",
      "female_treat |  -443.4216    483.559    -0.92   0.359    -1391.828    504.9845\n",
      "       _cons |  -53.72176   93.64086    -0.57   0.566    -237.3799    129.9364\n",
      "------------------------------------------------------------------------------\n",
      "\n",
      "Linear regression                               Number of obs     =      1,777\n",
      "                                                F(4, 1772)        =       8.72\n",
      "                                                Prob > F          =     0.0000\n",
      "                                                R-squared         =     0.0040\n",
      "                                                Root MSE          =     4524.9\n",
      "\n",
      "------------------------------------------------------------------------------\n",
      "             |               Robust\n",
      "   balchange |      Coef.   Std. Err.      t    P>|t|     [95% Conf. Interval]\n",
      "-------------+----------------------------------------------------------------\n",
      "   treatment |   676.3477   327.5403     2.06   0.039     33.94163    1318.754\n",
      "   marketing |   122.4113   152.3797     0.80   0.422    -176.4515    421.2741\n",
      "      active |   637.8621   204.6197     3.12   0.002     236.5407    1039.183\n",
      "active_treat |  -738.1954   393.8328    -1.87   0.061    -1510.621    34.23035\n",
      "       _cons |   -164.665   81.52621    -2.02   0.044    -324.5626   -4.767302\n",
      "------------------------------------------------------------------------------\n",
      "\n",
      "Linear regression                               Number of obs     =      1,777\n",
      "                                                F(4, 1772)        =       1.57\n",
      "                                                Prob > F          =     0.1785\n",
      "                                                R-squared         =     0.0018\n",
      "                                                Root MSE          =       4530\n",
      "\n",
      "------------------------------------------------------------------------------\n",
      "             |               Robust\n",
      "   balchange |      Coef.   Std. Err.      t    P>|t|     [95% Conf. Interval]\n",
      "-------------+----------------------------------------------------------------\n",
      "   treatment |   247.7803   362.0502     0.68   0.494    -462.3101    957.8708\n",
      "   marketing |   122.8684   154.1362     0.80   0.425    -179.4395    425.1764\n",
      "        edhi |  -145.0309   166.6162    -0.87   0.384    -471.8158     181.754\n",
      "  edhi_treat |   279.7698   448.2779     0.62   0.533    -599.4393    1158.979\n",
      "       _cons |   148.0578   200.4277     0.74   0.460    -245.0418    541.1574\n",
      "------------------------------------------------------------------------------\n",
      "\n",
      "Linear regression                               Number of obs     =      1,777\n",
      "                                                F(4, 1772)        =       2.05\n",
      "                                                Prob > F          =     0.0849\n",
      "                                                R-squared         =     0.0019\n",
      "                                                Root MSE          =     4529.9\n",
      "\n",
      "---------------------------------------------------------------------------------\n",
      "                |               Robust\n",
      "      balchange |      Coef.   Std. Err.      t    P>|t|     [95% Conf. Interval]\n",
      "----------------+----------------------------------------------------------------\n",
      "      treatment |   464.2607   271.0703     1.71   0.087    -67.39051     995.912\n",
      "      marketing |   131.9819   150.2833     0.88   0.380    -162.7692     426.733\n",
      "      hi_hh_inc |   193.5094    153.943     1.26   0.209    -108.4197    495.4384\n",
      "hi_hh_inc_treat |  -106.6214   444.0923    -0.24   0.810    -977.6211    764.3784\n",
      "          _cons |  -32.60318   84.76645    -0.38   0.701    -198.8559    133.6496\n",
      "---------------------------------------------------------------------------------\n",
      "\n",
      "Linear regression                               Number of obs     =      1,774\n",
      "                                                F(4, 1769)        =       0.89\n",
      "                                                Prob > F          =     0.4683\n",
      "                                                R-squared         =     0.0018\n",
      "                                                Root MSE          =     4533.8\n",
      "\n",
      "--------------------------------------------------------------------------------------\n",
      "                     |               Robust\n",
      "           balchange |      Coef.   Std. Err.      t    P>|t|     [95% Conf. Interval]\n",
      "---------------------+----------------------------------------------------------------\n",
      "           treatment |   344.6337     290.47     1.19   0.236    -225.0667    914.3342\n",
      "           marketing |    126.032   153.4896     0.82   0.412     -175.008     427.072\n",
      "      hyper_mon_new2 |  -28.40704   132.3356    -0.21   0.830    -287.9576    231.1436\n",
      "hyper_mon_new2_treat |   243.8663   470.7961     0.52   0.605    -679.5089    1167.242\n",
      "               _cons |   72.63304   142.1695     0.51   0.609    -206.2049     351.471\n",
      "--------------------------------------------------------------------------------------\n",
      "\n",
      "Linear regression                               Number of obs     =      1,774\n",
      "                                                F(4, 1769)        =       2.09\n",
      "                                                Prob > F          =     0.0800\n",
      "                                                R-squared         =     0.0023\n",
      "                                                Root MSE          =     4532.8\n",
      "\n",
      "--------------------------------------------------------------------------------------\n",
      "                     |               Robust\n",
      "           balchange |      Coef.   Std. Err.      t    P>|t|     [95% Conf. Interval]\n",
      "---------------------+----------------------------------------------------------------\n",
      "           treatment |   516.7935    261.952     1.97   0.049     3.025574    1030.561\n",
      "           marketing |    127.571   151.9509     0.84   0.401    -170.4513    425.5932\n",
      "      silly_mon_new2 |   284.8332   353.4208     0.81   0.420    -408.3331    977.9995\n",
      "silly_mon_new2_treat |  -633.5807   448.5194    -1.41   0.158    -1513.264     246.103\n",
      "               _cons |   15.99006   80.69286     0.20   0.843    -142.2733    174.2534\n"
     ]
    }
   ],
   "source": [
    "%%stata\n",
    "xi: reg balchange treatment marketing female female_treat, robust \n",
    "xi: reg balchange treatment marketing active active_treat, robust\n",
    "xi: reg balchange treatment marketing edhi edhi_treat, robust\n",
    "xi: reg balchange treatment marketing hi_hh_inc hi_hh_inc_treat, robust\n",
    "xi: reg balchange treatment marketing hyper_mon_new2 hyper_mon_new2_treat, robust\n",
    "xi: reg balchange treatment marketing silly_mon_new2 silly_mon_new2_treat, robust"
   ]
  },
  {
   "cell_type": "markdown",
   "metadata": {},
   "source": [
    "There is a lot more to the impact results in the original do file.... but for now the analysis here turns to the takeup questions:\n"
   ]
  },
  {
   "cell_type": "markdown",
   "metadata": {},
   "source": [
    "## TAKEUP"
   ]
  },
  {
   "cell_type": "code",
   "execution_count": 19,
   "metadata": {
    "collapsed": false
   },
   "outputs": [
    {
     "name": "stdout",
     "output_type": "stream",
     "text": [
      "\n",
      "(2,344 missing values generated)\n",
      "(2,344 real changes made)\n",
      "(2,839 real changes made)\n",
      "(2,193 real changes made)\n",
      "(762 missing values generated)\n",
      "(762 real changes made)\n",
      "pop: characters , removed; replaced as int\n"
     ]
    }
   ],
   "source": [
    "%%stata\n",
    "\n",
    "use AKY06\\seedanalysis_011204_080404_1_v11.dta, clear\n",
    "gen control = 1 if group == \"C\"\n",
    "replace control = 0 if control ==.\n",
    "macro define GB \"GBloan GBloandefault\"\n",
    "macro define fullset \"married edhi numhh unemployed age $GB hh_inc hh_inc2\"\n",
    "macro define fullset_noGB \"married edhi numhh unemployed age hh_inc hh_inc2\"\n",
    "\n",
    "gen dormant_new = 1- active\n",
    "drop dormant\n",
    "rename dormant_new dormant\n",
    "replace totbal = totbal/100\n",
    "replace newtotbal = newtotbal/100\n",
    "gen dist_GB = dbutuan if butuan ==1\n",
    "replace dist_GB = dampayon if ampayon == 1\n",
    "destring pop, ignore(\",\") replace\n",
    "gen brgy_penetration = no_clients /pop\n",
    "bysort brgy: egen sd_totbal = sd(totbal)\n",
    "bysort brgy: egen mean_totbal = mean(totbal)"
   ]
  },
  {
   "cell_type": "code",
   "execution_count": 25,
   "metadata": {
    "collapsed": false
   },
   "outputs": [
    {
     "name": "stdout",
     "output_type": "stream",
     "text": [
      "\n",
      "            |  Summary of Client savings balance\n",
      "     Active |             (hundreds)\n",
      "    account |        Mean   Std. Dev.       Freq.\n",
      "------------+------------------------------------\n",
      "          0 |   483.12239   498.52538       1,145\n",
      "          1 |    556.2335    513.2936         632\n",
      "------------+------------------------------------\n",
      "      Total |   509.12477   504.89831       1,777\n"
     ]
    }
   ],
   "source": [
    "%%stata\n",
    "tab active if call==1,summ(totbal)"
   ]
  },
  {
   "cell_type": "markdown",
   "metadata": {},
   "source": [
    "## Table 1: Savings Goals"
   ]
  },
  {
   "cell_type": "code",
   "execution_count": 21,
   "metadata": {
    "collapsed": false
   },
   "outputs": [
    {
     "name": "stdout",
     "output_type": "stream",
     "text": [
      "\n",
      "                    Savings goal |      Freq.     Percent        Cum.\n",
      "---------------------------------+-----------------------------------\n",
      "Agricultural Financing/Investing |          4        2.04        2.04\n",
      "            Capital for Business |         20       10.20       12.24\n",
      "Christmas/Birthday/Celebration/G |         95       48.47       60.71\n",
      "                       Education |         41       20.92       81.63\n",
      "House/Lot construction and purch |         20       10.20       91.84\n",
      "                         Medical |          1        0.51       92.35\n",
      "  Personal Needs/Future Expenses |          3        1.53       93.88\n",
      "Purchase or Maintenance of Machi |          8        4.08       97.96\n",
      "                 Vacation/Travel |          4        2.04      100.00\n",
      "---------------------------------+-----------------------------------\n",
      "                           Total |        196      100.00\n",
      "\n",
      "    Type of |\n",
      "    savings |\n",
      "       goal |      Freq.     Percent        Cum.\n",
      "------------+-----------------------------------\n",
      "     amount |         62       30.69       30.69\n",
      "       date |        140       69.31      100.00\n",
      "------------+-----------------------------------\n",
      "      Total |        202      100.00\n",
      "\n",
      "     Bought |\n",
      "  ganansiya |\n",
      "        box |      Freq.     Percent        Cum.\n",
      "------------+-----------------------------------\n",
      "          0 |         35       17.33       17.33\n",
      "          1 |        167       82.67      100.00\n",
      "------------+-----------------------------------\n",
      "      Total |        202      100.00\n"
     ]
    }
   ],
   "source": [
    "%%stata\n",
    "tab goal_category if seedtakeup==1\n",
    "tab goal_type if seedtakeup==1\n",
    "tab box if seedtakeup==1"
   ]
  },
  {
   "cell_type": "markdown",
   "metadata": {},
   "source": [
    "## Table II: Summary Statistics"
   ]
  },
  {
   "cell_type": "code",
   "execution_count": 24,
   "metadata": {
    "collapsed": false
   },
   "outputs": [
    {
     "name": "stdout",
     "output_type": "stream",
     "text": [
      "\n",
      "                 Result of call |      Freq.     Percent        Cum.\n",
      "--------------------------------+-----------------------------------\n",
      "                      completed |      1,777      100.00      100.00\n",
      "--------------------------------+-----------------------------------\n",
      "                          Total |      1,777      100.00\n"
     ]
    }
   ],
   "source": [
    "%%stata\n",
    "tab call"
   ]
  },
  {
   "cell_type": "code",
   "execution_count": 22,
   "metadata": {
    "collapsed": false,
    "scrolled": false
   },
   "outputs": [
    {
     "name": "stdout",
     "output_type": "stream",
     "text": [
      "\n",
      "Summary statistics: mean, se(mean)\n",
      "  by categories of: group \n",
      "\n",
      " group |    totbal    active\n",
      "-------+--------------------\n",
      "     C |  530.7378  .3603412\n",
      "       |  23.38712  .0221926\n",
      "-------+--------------------\n",
      "     M |  499.0084  .3626609\n",
      "       |  23.50222  .0222951\n",
      "-------+--------------------\n",
      "     T |   502.685  .3491686\n",
      "       |  17.33115  .0164382\n",
      "-------+--------------------\n",
      " Total |  509.1248  .3556556\n",
      "       |  11.97734  .0113593\n",
      "----------------------------\n",
      "\n",
      "      Source |       SS           df       MS      Number of obs   =     1,777\n",
      "-------------+----------------------------------   F(2, 1774)      =      0.59\n",
      "       Model |  301690.551         2  150845.275   Prob > F        =    0.5536\n",
      "    Residual |   452440317     1,774  255039.638   R-squared       =    0.0007\n",
      "-------------+----------------------------------   Adj R-squared   =   -0.0005\n",
      "       Total |   452742008     1,776  254922.302   Root MSE        =    505.01\n",
      "\n",
      "------------------------------------------------------------------------------\n",
      "      totbal |      Coef.   Std. Err.      t    P>|t|     [95% Conf. Interval]\n",
      "-------------+----------------------------------------------------------------\n",
      "   treatment |   3.676564   29.15807     0.13   0.900    -53.51121    60.86434\n",
      "     control |   31.72941   33.03165     0.96   0.337    -33.05563    96.51446\n",
      "       _cons |   499.0084   23.39434    21.33   0.000      453.125    544.8918\n",
      "------------------------------------------------------------------------------\n",
      "\n",
      "      Source |       SS           df       MS      Number of obs   =     1,777\n",
      "-------------+----------------------------------   F(2, 1774)      =      0.15\n",
      "       Model |   .06859733         2  .034298665   Prob > F        =    0.8612\n",
      "    Residual |  407.157064     1,774  .229513565   R-squared       =    0.0002\n",
      "-------------+----------------------------------   Adj R-squared   =   -0.0010\n",
      "       Total |  407.225661     1,776  .229293728   Root MSE        =    .47908\n",
      "\n",
      "------------------------------------------------------------------------------\n",
      "      active |      Coef.   Std. Err.      t    P>|t|     [95% Conf. Interval]\n",
      "-------------+----------------------------------------------------------------\n",
      "   treatment |  -.0134923   .0276604    -0.49   0.626    -.0677428    .0407582\n",
      "     control |  -.0023198   .0313351    -0.07   0.941    -.0637773    .0591377\n",
      "       _cons |   .3626609   .0221928    16.34   0.000     .3191342    .4061876\n",
      "------------------------------------------------------------------------------\n",
      "\n",
      "Summary statistics: mean, se(mean)\n",
      "  by categories of: group \n",
      "\n",
      " group |   dist_GB  brgy_p~n  sd_tot~l  mean_t~l       pop\n",
      "-------+--------------------------------------------------\n",
      "     C |  21.86567  .0219365  487.1321  473.3466  5853.949\n",
      "       |  .8419475  .0004179  3.507831   3.74361  213.4831\n",
      "-------+--------------------------------------------------\n",
      "     M |  23.22961  .0216379  491.3003  476.9744  5708.208\n",
      "       |  .8874667  .0004076  3.449334  3.716019  203.4358\n",
      "-------+--------------------------------------------------\n",
      "     T |  22.70784  .0219269  488.0445  476.0261    5729.5\n",
      "       |  .6718419   .000292  2.442733  2.599624    152.98\n",
      "-------+--------------------------------------------------\n",
      " Total |   22.6224  .0218536  488.6575  475.5676  5756.762\n",
      "       |  .4525451  .0002066  1.735807  1.854791  106.1334\n",
      "----------------------------------------------------------\n",
      "\n",
      "      Source |       SS           df       MS      Number of obs   =     1,777\n",
      "-------------+----------------------------------   F(2, 1774)      =      0.61\n",
      "       Model |  446.531678         2  223.265839   Prob > F        =    0.5417\n",
      "    Residual |  645883.097     1,774  364.082918   R-squared       =    0.0007\n",
      "-------------+----------------------------------   Adj R-squared   =   -0.0004\n",
      "       Total |  646329.629     1,776   363.92434   Root MSE        =    19.081\n",
      "\n",
      "------------------------------------------------------------------------------\n",
      "     dist_GB |      Coef.   Std. Err.      t    P>|t|     [95% Conf. Interval]\n",
      "-------------+----------------------------------------------------------------\n",
      "   treatment |  -.5217753   1.101679    -0.47   0.636      -2.6825     1.63895\n",
      "     control |  -1.363942   1.248034    -1.09   0.275    -3.811715    1.083831\n",
      "       _cons |   23.22961   .8839083    26.28   0.000       21.496    24.96322\n",
      "------------------------------------------------------------------------------\n",
      "\n",
      "      Source |       SS           df       MS      Number of obs   =     1,777\n",
      "-------------+----------------------------------   F(2, 1774)      =      0.19\n",
      "       Model |   .00002944         2   .00001472   Prob > F        =    0.8238\n",
      "    Residual |  .134701232     1,774  .000075931   R-squared       =    0.0002\n",
      "-------------+----------------------------------   Adj R-squared   =   -0.0009\n",
      "       Total |  .134730672     1,776  .000075862   Root MSE        =    .00871\n",
      "\n",
      "------------------------------------------------------------------------------\n",
      "brgy_penet~n |      Coef.   Std. Err.      t    P>|t|     [95% Conf. Interval]\n",
      "-------------+----------------------------------------------------------------\n",
      "   treatment |    .000289   .0005031     0.57   0.566    -.0006977    .0012758\n",
      "     control |   .0002987   .0005699     0.52   0.600    -.0008192    .0014165\n",
      "       _cons |   .0216379   .0004037    53.60   0.000     .0208462    .0224296\n",
      "------------------------------------------------------------------------------\n",
      "\n",
      "      Source |       SS           df       MS      Number of obs   =     1,777\n",
      "-------------+----------------------------------   F(2, 1774)      =      0.44\n",
      "       Model |  4662.35264         2  2331.17632   Prob > F        =    0.6473\n",
      "    Residual |  9504305.63     1,774  5357.55672   R-squared       =    0.0005\n",
      "-------------+----------------------------------   Adj R-squared   =   -0.0006\n",
      "       Total |  9508967.98     1,776  5354.14864   Root MSE        =    73.195\n",
      "\n",
      "------------------------------------------------------------------------------\n",
      "   sd_totbal |      Coef.   Std. Err.      t    P>|t|     [95% Conf. Interval]\n",
      "-------------+----------------------------------------------------------------\n",
      "   treatment |  -3.255741   4.226085    -0.77   0.441    -11.54437    5.032889\n",
      "     control |  -4.168199   4.787511    -0.87   0.384    -13.55796    5.221557\n",
      "       _cons |   491.3003   3.390708   144.90   0.000     484.6501    497.9505\n",
      "------------------------------------------------------------------------------\n",
      "\n",
      "      Source |       SS           df       MS      Number of obs   =     1,777\n",
      "-------------+----------------------------------   F(2, 1774)      =      0.28\n",
      "       Model |  3412.62158         2  1706.31079   Prob > F        =    0.7567\n",
      "    Residual |  10853846.7     1,774  6118.29015   R-squared       =    0.0003\n",
      "-------------+----------------------------------   Adj R-squared   =   -0.0008\n",
      "       Total |  10857259.4     1,776  6113.32171   Root MSE        =    78.219\n",
      "\n",
      "------------------------------------------------------------------------------\n",
      " mean_totbal |      Coef.   Std. Err.      t    P>|t|     [95% Conf. Interval]\n",
      "-------------+----------------------------------------------------------------\n",
      "   treatment |  -.9482933   4.516166    -0.21   0.834    -9.805859    7.909273\n",
      "     control |  -3.627729   5.116129    -0.71   0.478      -13.662    6.406545\n",
      "       _cons |   476.9744   3.623448   131.64   0.000     469.8677     484.081\n",
      "------------------------------------------------------------------------------\n",
      "\n",
      "      Source |       SS           df       MS      Number of obs   =     1,777\n",
      "-------------+----------------------------------   F(2, 1774)      =      0.15\n",
      "       Model |  6154208.23         2  3077104.11   Prob > F        =    0.8576\n",
      "    Residual |  3.5543e+10     1,774  20035747.1   R-squared       =    0.0002\n",
      "-------------+----------------------------------   Adj R-squared   =   -0.0010\n",
      "       Total |  3.5550e+10     1,776  20016649.5   Root MSE        =    4476.1\n",
      "\n",
      "------------------------------------------------------------------------------\n",
      "         pop |      Coef.   Std. Err.      t    P>|t|     [95% Conf. Interval]\n",
      "-------------+----------------------------------------------------------------\n",
      "   treatment |   21.29185   258.4388     0.08   0.934    -485.5846    528.1683\n",
      "     control |   145.7407   292.7718     0.50   0.619    -428.4732    719.9546\n",
      "       _cons |   5708.208   207.3528    27.53   0.000     5301.527     6114.89\n"
     ]
    }
   ],
   "source": [
    "%%stata\n",
    "tabstat totbal active if call==1, by(group) stats(mean sem)\n",
    "reg totbal treatment control if call ==1\n",
    "reg active treatment control if call ==1\n",
    "sort brgy\n",
    "tabstat dist_GB brgy_penetration sd_totbal mean_totbal pop if call==1, by(group) stats(mean sem)\n",
    "reg dist_GB treatment control if call ==1\n",
    "reg brgy_penetration treatment control if call ==1\n",
    "reg sd_totbal treatment control if call ==1\n",
    "reg mean_totbal treatment control if call ==1\n",
    "reg pop treatment control if call ==1"
   ]
  },
  {
   "cell_type": "code",
   "execution_count": null,
   "metadata": {
    "collapsed": true
   },
   "outputs": [],
   "source": []
  }
 ],
 "metadata": {
  "kernelspec": {
   "display_name": "Python 3",
   "language": "python",
   "name": "python3"
  },
  "language_info": {
   "codemirror_mode": {
    "name": "ipython",
    "version": 3
   },
   "file_extension": ".py",
   "mimetype": "text/x-python",
   "name": "python",
   "nbconvert_exporter": "python",
   "pygments_lexer": "ipython3",
   "version": "3.5.1"
  }
 },
 "nbformat": 4,
 "nbformat_minor": 0
}
