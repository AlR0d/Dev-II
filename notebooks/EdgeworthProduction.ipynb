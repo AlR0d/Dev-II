{
 "cells": [
  {
   "cell_type": "markdown",
   "metadata": {},
   "source": [
    "# Edgeworth Box: Efficiency in production allocation"
   ]
  },
  {
   "cell_type": "markdown",
   "metadata": {},
   "source": [
    "## Efficiency in production"
   ]
  },
  {
   "cell_type": "markdown",
   "metadata": {},
   "source": [
    "Consider a small-open economy with two production sectors -- agriculture and manufacturing -- with production in each sector taking place with constant returns to scale production functions.  Producers in the agricultural sector maximize profits\n",
    "\n",
    "$$\\max_{K_A,L_A} p_A F(K_A,L_A) - w L_A - r K_A$$\n",
    "\n",
    "And producers in manufacturing similarly maximize\n",
    "\n",
    "$$\\max_{K_M,L_M} p_M F(K_M,L_M) - w L_M - r K_M$$\n",
    "\n",
    "In equilibrium total factor demands will equal total supplies:\n",
    "\n",
    "$$K_A + K_M = \\bar K$$\n",
    "\n",
    "$$L_A + L_M = \\bar L$$ \n",
    "\n",
    "The first order necessary conditions for an interior optimum in each sector lead to an equilibrium where the following condition must hold:\n",
    "\n",
    "$$\\frac{F_L(K_A,L_A)}{F_K(K_A,L_A)} = \\frac{w}{r} \n",
    "       =\\frac{G_L(\\bar K-K_A,\\bar L- L_A)}{F_K(\\bar K-K_A,\\bar L- L_A)} $$"
   ]
  },
  {
   "cell_type": "markdown",
   "metadata": {},
   "source": [
    "This states that at an efficient allocation of resources the marginal rate of technical substitutions (MRTS) must be the same across the two sectors. In other words at an efficient allocation isoquants from each sector must be tangent to each other in an Edgeworth box.  \n",
    "\n",
    "If we assume simple Cobb-Douglas forms\n",
    "\n",
    "$$F(K,L) = K^\\alpha L^{1-\\alpha}$$\n",
    "$$G(K,L) = K^\\beta L^{1-\\beta}$$\n",
    "\n",
    "we can use the above efficiency condition to obtain a closed form solution for $K_A$ in terms of $L_A$:\n",
    "\n",
    "$$\\frac{(1-\\alpha)}{\\alpha}\\frac{K_A}{L_A} =\\frac{w}{r} =\\frac{(1-\\beta)}{\\beta}\\frac{\\bar K-K_A}{\\bar L-L_A}$$\n",
    "\n",
    "As is well understood, profit maximizing firms would be driven to efficiency in allocation in a competitive market equilibrium without externalities or other market failures. Rearranging the expression above we can get a closed-form expression for the efficiency locus $K_A (L_A)$:\n",
    "\n",
    "$$K_A(L_A) = \\frac{L_A \\cdot \\bar K}\n",
    "{ \\frac{\\beta(1-\\alpha)}{\\alpha (1-\\beta)} (\\bar L -L_A)+L_A}$$\n",
    "\n",
    "This tells us that if we allocate $L_A$ units of labor to the agricultural sector then the efficient thing to then do is allocate $K_A(L_A)$ units of capital to agriculture, and the remaining units of labor and capital to the manufacturing sector. "
   ]
  },
  {
   "cell_type": "markdown",
   "metadata": {},
   "source": [
    "## Edgeworth Box plots"
   ]
  },
  {
   "cell_type": "code",
   "execution_count": 1,
   "metadata": {
    "collapsed": false
   },
   "outputs": [],
   "source": [
    "%matplotlib inline\n",
    "import matplotlib.pyplot as plt\n",
    "import numpy as np\n",
    "from ipywidgets import interact, fixed"
   ]
  },
  {
   "cell_type": "code",
   "execution_count": 2,
   "metadata": {
    "collapsed": false
   },
   "outputs": [],
   "source": [
    "ALPHA = 0.3   # capital share in agriculture\n",
    "BETA = 0.7   # \n",
    "\n",
    "KBAR = 100\n",
    "LBAR = 100\n",
    "\n",
    "p = 1      # =Pa/Pm  relative price of ag goods\n",
    "\n",
    "def F(K,L,alpha=ALPHA):\n",
    "    \"\"\"Agriculture Production function\"\"\"\n",
    "    return (K**alpha)*(L**(1-alpha))\n",
    "\n",
    "def G(K,L,beta=BETA):\n",
    "    \"\"\"Manufacturing Production function\"\"\"\n",
    "    return (K**beta)*(L**(1-beta))\n",
    "\n",
    "def budgetc(c1, p1, p2, I):\n",
    "    return (I/p2)-(p1/p2)*c1\n",
    "\n",
    "def isoq(L, Q, mu):\n",
    "    return (Q/(L**(1-mu)))**(1/mu)"
   ]
  },
  {
   "cell_type": "code",
   "execution_count": 3,
   "metadata": {
    "collapsed": true
   },
   "outputs": [],
   "source": [
    "def edgeworth(L, Kbar=KBAR, Lbar=LBAR,alpha=ALPHA, beta=BETA):\n",
    "    \"\"\"efficiency locus: \"\"\"\n",
    "    a = (1-alpha)/alpha\n",
    "    b = (1-beta)/beta\n",
    "    return b*L*Kbar/(a*(Lbar-L)+b*L)"
   ]
  },
  {
   "cell_type": "code",
   "execution_count": 4,
   "metadata": {
    "collapsed": false
   },
   "outputs": [],
   "source": [
    "def edgeplot(LA, Kbar=KBAR, Lbar=LBAR,alpha=ALPHA,beta=BETA):\n",
    "    \"\"\"Draw an edgeworth box\n",
    "    \n",
    "    arguments:\n",
    "    LA -- labor allocated to ag, from which calculate QA(Ka(La),La) \n",
    "    \"\"\"\n",
    "    KA = edgeworth(LA, Kbar, Lbar,alpha, beta)\n",
    "    RTS = (alpha/(1-alpha))*(KA/LA)\n",
    "    QA = F(KA,LA,alpha)\n",
    "    QM = G(Kbar-KA,Lbar-LA,beta)\n",
    "    print(\"(LA,KA)=({:4.1f}, {:4.1f})  (QA, QM)=({:4.1f}, {:4.1f})  RTS={:4.1f}\"\n",
    "          .format(LA,KA,QA,QM,RTS))\n",
    "    La = np.arange(1,Lbar)\n",
    "    fig, ax = plt.subplots(figsize=(7,6))\n",
    "    ax.set_xlim(0, Lbar)\n",
    "    ax.set_ylim(0, Kbar)\n",
    "    ax.plot(La, edgeworth(La,Kbar,Lbar,alpha,beta),'k-')\n",
    "    #ax.plot(La, La,'k--')\n",
    "    ax.plot(La, isoq(La, QA, alpha))\n",
    "    ax.plot(La, Kbar-isoq(Lbar-La, QM, beta),'g-')\n",
    "    ax.plot(LA, KA,'ob')\n",
    "    ax.vlines(LA,0,KA, linestyles=\"dashed\")\n",
    "    ax.hlines(KA,0,LA, linestyles=\"dashed\")\n",
    "    ax.text(-6,-6,r'$O_A$',fontsize=16)\n",
    "    ax.text(Lbar,Kbar,r'$O_M$',fontsize=16)\n",
    "    ax.set_xlabel(r'$L_A -- Labor$', fontsize=16)\n",
    "    ax.set_ylabel('$K_A - Capital$', fontsize=16)\n",
    "    plt.show()"
   ]
  },
  {
   "cell_type": "code",
   "execution_count": 5,
   "metadata": {
    "collapsed": true
   },
   "outputs": [],
   "source": [
    "def ppf(LA,Kbar=KBAR, Lbar=LBAR,alpha=ALPHA,beta=BETA):\n",
    "    \"\"\"Draw a production possibility frontier\n",
    "    \n",
    "    arguments:\n",
    "    LA -- labor allocated to ag, from which calculate QA(Ka(La),La) \n",
    "    \"\"\"\n",
    "    KA = edgeworth(LA, Kbar, Lbar,alpha, beta)\n",
    "    RTS = (alpha/(1-alpha))*(KA/LA)\n",
    "    QA = F(KA,LA,alpha)\n",
    "    QM = G(Kbar-KA,Lbar-LA,beta)\n",
    "    La = np.arange(1,Lbar)\n",
    "    Ka = edgeworth(La, Kbar, Lbar,alpha, beta)\n",
    "    Qa = F(Ka,La,alpha)\n",
    "    Qm = G(Kbar-Ka,Lbar-La,beta)\n",
    "    ax.set_xlim(0, Lbar)\n",
    "    ax.set_ylim(0, Kbar)\n",
    "    ax.plot(Qa, Qm,'k-')\n",
    "    plt.show()"
   ]
  },
  {
   "cell_type": "markdown",
   "metadata": {},
   "source": [
    "It's interesting to note that for Cobb-Douglas technologies you really need quite a difference in capital-intensities between the two technologies in order to get much curvature to the production function."
   ]
  },
  {
   "cell_type": "code",
   "execution_count": 6,
   "metadata": {
    "collapsed": false
   },
   "outputs": [
    {
     "data": {
      "image/png": "[encoded data removed]",
      "text/plain": [
       "<matplotlib.figure.Figure at 0x6ffd860>"
      ]
     },
     "metadata": {},
     "output_type": "display_data"
    }
   ],
   "source": [
    "fig, ax = plt.subplots(figsize=(7,6))\n",
    "ppf(50,alpha =0.8, beta=0.2)"
   ]
  },
  {
   "cell_type": "markdown",
   "metadata": {},
   "source": [
    "Here is and Edgeworth Box depicting the situation where $L_A = 50$ units of labor are allocated to the agricultural sector and all other allocations are efficient (along the efficiency locus)."
   ]
  },
  {
   "cell_type": "code",
   "execution_count": 7,
   "metadata": {
    "collapsed": false
   },
   "outputs": [
    {
     "name": "stdout",
     "output_type": "stream",
     "text": [
      "(LA,KA)=(50.0, 15.5)  (QA, QM)=(35.2, 72.2)  RTS= 0.1\n"
     ]
    },
    {
     "data": {
      "image/png": "[encoded data removed]",
      "text/plain": [
       "<matplotlib.figure.Figure at 0x701c898>"
      ]
     },
     "metadata": {},
     "output_type": "display_data"
    }
   ],
   "source": [
    "edgeplot(50)"
   ]
  },
  {
   "cell_type": "markdown",
   "metadata": {},
   "source": [
    "If you're using a jupyter server you can interact with the following plot, changing the technology parameters and initial allocation."
   ]
  },
  {
   "cell_type": "code",
   "execution_count": 8,
   "metadata": {
    "collapsed": false
   },
   "outputs": [
    {
     "name": "stdout",
     "output_type": "stream",
     "text": [
      "(LA,KA)=(84.0, 49.1)  (QA, QM)=(71.5, 36.0)  RTS= 0.3\n"
     ]
    },
    {
     "data": {
      "image/png": "[encoded data removed]",
      "text/plain": [
       "<matplotlib.figure.Figure at 0x884ffd0>"
      ]
     },
     "metadata": {},
     "output_type": "display_data"
    }
   ],
   "source": [
    "LA = 50\n",
    "interact(edgeplot, LA=(10, LBAR-10,1), \n",
    "         Kbar=fixed(KBAR), Lbar=fixed(LBAR),\n",
    "         alpha=(0.1,0.9,0.1),beta=(0.1,0.9,0.1))"
   ]
  },
  {
   "cell_type": "markdown",
   "metadata": {},
   "source": [
    "## The Hecksher-Ohlin-Samuelson Trade Model"
   ]
  },
  {
   "cell_type": "markdown",
   "metadata": {},
   "source": [
    "Thus far we've only characterized the locus of possible efficient allocations. In other words, we've traced out the efficiency locus and the production possibility frontier but we haven't  yet determined the how the allocation of factors and outputs across sectors that would be chosen by firms on competitive markets given any particular relative product price ratio $\\frac{P_A}{P_M}$.    \n",
    "\n",
    "Once we've worked out a model to answer this question we have essentially solved for equlibrium in the Hecksher-Ohlin-Samuelson (HOS) trade model."
   ]
  },
  {
   "cell_type": "markdown",
   "metadata": {},
   "source": [
    "As previously noted profit maximization in agriculture will lead to  $\\frac{(1-\\alpha)}{\\alpha}\\frac{K_A}{L_A} =\\frac{w}{r}$ which for our linear homogenous production technology implies a relationship between the optimal production technique or capital-labor intensity $\\frac{K_A}{L_A}$ in agriculture and the factor price ratio $\\frac{w}{r}$:\n",
    "\n",
    "$$  \\frac{K_A}{L_A} = \\frac{\\alpha}{1-\\alpha} \\frac{w}{r} $$\n",
    "\n",
    "and similarly in manufacturing\n",
    "\n",
    "$$  \\frac{K_M}{L_M} = \\frac{\\beta}{1-\\beta} \\frac{w}{r} $$"
   ]
  },
  {
   "cell_type": "markdown",
   "metadata": {},
   "source": [
    "From the first order conditions we also have:\n",
    "\n",
    "$$P_A F_L(K_A,L_A) = w = P_M G_L(K_M,L_M) $$"
   ]
  },
  {
   "cell_type": "markdown",
   "metadata": {},
   "source": [
    "Note that this condition also states that competition drives firms to price at marginal cost in each industry or $P_A = MC_A = w\\frac{1}{F_L}$ and $P_M = MC_M = w\\frac{1}{G_L}$ which in turn implies that at a market equilibrium optimum \n",
    "\n",
    "$$\\frac{P_A}{P_M} = \\frac{G_L(K_M,L_M)}{F_L(K_A,L_A)}$$\n",
    "\n",
    "This states that the world price line with slope (negative) $\\frac{P_A}{P_M}$ will be tangent to the production possibility frontier which as a slope (negative) $\\frac{MC_A}{MC_M}= \\frac{P_A}{P_M}$ which can also be written as $\\frac{G_L}{F_L}$ or equivalently $\\frac{G_K}{F_K}$. In other words the competitive market leads producers to move resources across sectors to maximize the value of GDP at world prices. "
   ]
  },
  {
   "cell_type": "markdown",
   "metadata": {},
   "source": [
    "With the Cobb Douglas technology we can write:\n",
    "\n",
    "$$F_L = (1-\\alpha) \\left [ \\frac{K_A}{L_A} \\right]^\\alpha$$\n",
    "\n",
    "$$G_L = (1-\\beta) \\left [ \\frac{K_M}{L_M} \\right]^\\beta$$"
   ]
  },
  {
   "cell_type": "markdown",
   "metadata": {},
   "source": [
    "Using these expressions and the earlier expression relating $\\frac{K_A}{L_A}$ and $\\frac{K_M}{L_M}$ to $\\frac{w}{r}$ we have:"
   ]
  },
  {
   "cell_type": "markdown",
   "metadata": {},
   "source": [
    "$$\\frac{P_A}{P_M} \n",
    "=\\frac{1-\\alpha}{1-\\beta} \n",
    "    \\frac{\\left [ \\frac{ (1-\\beta)}{\\beta} \\frac{w}{r} \\right]^\\beta} \n",
    "    { \\left [ \\frac{ (1-\\alpha)}{\\alpha} \\frac{w}{r} \\right]^\\alpha}\n",
    "$$"
   ]
  },
  {
   "cell_type": "markdown",
   "metadata": {},
   "source": [
    "or \n",
    "\n",
    "$$\\frac{P_A}{P_M} = \\Gamma \\left [ \\frac{w}{r}  \\right]^{\\beta - \\alpha}\n",
    "$$\n",
    "where"
   ]
  },
  {
   "cell_type": "markdown",
   "metadata": {},
   "source": [
    "$$\\Gamma =\n",
    "\\frac{1-\\alpha}{1-\\beta} \n",
    "\\left ( \\frac{\\alpha}{1-\\alpha} \\right )^\\alpha \n",
    "\\left ( \\frac{1-\\beta}{\\beta} \\right )^\\beta \n",
    "$$"
   ]
  },
  {
   "cell_type": "markdown",
   "metadata": {},
   "source": [
    "Or solving for $\\frac{w}{r}$ as a function of the world prices we find an expression for the 'Stolper-Samuelson' (SS) line:"
   ]
  },
  {
   "cell_type": "markdown",
   "metadata": {},
   "source": [
    "$$\\frac{w}{r} = \\frac{1}{\\Gamma} \\left [  \\frac{P_A}{P_M}   \\right ]^\\frac{1}{\\beta-\\alpha} $$"
   ]
  },
  {
   "cell_type": "markdown",
   "metadata": {},
   "source": [
    "If agriculture is more labor intensive than manufacturing, so $\\alpha < \\beta$, then an increase in the relative price of agricultural goods will create an incipient excess demand for labor and excess supply of capital and equilibrium will only be restored if the wage-rental ratio falls.  \n",
    "\n",
    " This tells us that for each world relative price ratio $\\frac{P_A}{P_M}$ we can calculate a corresponding equilibrium wage-rental ratio $\\frac{w}{r}$ and this in turn determines optimal capital-intensities in each sector $\\frac{K_A}{L_A}$ and $\\frac{K_M}{L_M}$ and optimal quantities $L_A, K_A, L_M$ and $K_M$"
   ]
  },
  {
   "cell_type": "markdown",
   "metadata": {},
   "source": [
    "### To be completed\n",
    "\n",
    " * Code to solve for unique HOS equilibrium as a function of world relative price $\\frac{P_A}{P_M}$\n",
    " * Interactive plot with $\\frac{P_A}{P_M}$ slider that plots equilibrium in Edgeworth box and PPF\n",
    " "
   ]
  },
  {
   "cell_type": "code",
   "execution_count": null,
   "metadata": {
    "collapsed": true
   },
   "outputs": [],
   "source": []
  }
 ],
 "metadata": {
  "kernelspec": {
   "display_name": "Python 3",
   "language": "python",
   "name": "python3"
  },
  "language_info": {
   "codemirror_mode": {
    "name": "ipython",
    "version": 3
   },
   "file_extension": ".py",
   "mimetype": "text/x-python",
   "name": "python",
   "nbconvert_exporter": "python",
   "pygments_lexer": "ipython3",
   "version": "3.5.1"
  }
 },
 "nbformat": 4,
 "nbformat_minor": 0
}
