{
 "cells": [
  {
   "cell_type": "markdown",
   "metadata": {},
   "source": [
    "## Production Allocation Efficiency in an Edgeworth Box"
   ]
  },
  {
   "cell_type": "markdown",
   "metadata": {},
   "source": [
    "## The social planner's problem"
   ]
  },
  {
   "cell_type": "markdown",
   "metadata": {},
   "source": [
    "Consider a small-open economy with two production sectors -- agriculture and manufacturing -- with production in each sector taking place with constant returns to scale production functions.  Regardless of the specific shape of a planners social utility function over final consumption bundles the planner will want to maximize income at world prices and then use world trade and redistribution to maximize social welfare.  The planner hence chooses capital and labor allocations across sectors to maximize national income at world prices:\n",
    "\n",
    "$$\\max_{K_A, K_M, L_A, L_M}  p_A F(K_A, L_A) + p_M F(K_M, L_M) $$\n",
    "\n",
    "subject to the two factor resource constraints: \n",
    "\n",
    "$$K_A + K_M \\leq \\bar K$$\n",
    "\n",
    "$$L_A + L_M \\leq \\bar L$$ "
   ]
  },
  {
   "cell_type": "markdown",
   "metadata": {},
   "source": [
    "There are two sectors agriculure and manufacturing. Production in each sector takes place using a linear homogenous production function."
   ]
  },
  {
   "cell_type": "markdown",
   "metadata": {},
   "source": [
    "## Edgeworth Box plots"
   ]
  },
  {
   "cell_type": "code",
   "execution_count": 1,
   "metadata": {
    "collapsed": false
   },
   "outputs": [],
   "source": [
    "%matplotlib inline\n",
    "import matplotlib.pyplot as plt\n",
    "import numpy as np\n",
    "from ipywidgets import interact, fixed"
   ]
  },
  {
   "cell_type": "code",
   "execution_count": 2,
   "metadata": {
    "collapsed": false
   },
   "outputs": [],
   "source": [
    "ALPHA = 0.2   # capital share in agriculture\n",
    "BETA = 0.8   # \n",
    "\n",
    "KBAR = 100\n",
    "LBAR = 100\n",
    "\n",
    "p = 1      # =Pa/Pm  relative price of ag goods\n",
    "\n",
    "def F(K,L,alpha=ALPHA):\n",
    "    \"\"\"Agriculture Production function\"\"\"\n",
    "    return (K**alpha)*(L**(1-alpha))\n",
    "\n",
    "def G(K,L,beta=BETA):\n",
    "    \"\"\"Manufacturing Production function\"\"\"\n",
    "    return (K**beta)*(L**(1-beta))\n",
    "\n",
    "def budgetc(c1, p1, p2, I):\n",
    "    return (I/p2)-(p1/p2)*c1\n",
    "\n",
    "def isoq(L, Q, mu):\n",
    "    return (Q/(L**(1-mu)))**(1/mu)"
   ]
  },
  {
   "cell_type": "code",
   "execution_count": 3,
   "metadata": {
    "collapsed": true
   },
   "outputs": [],
   "source": [
    "def edgeworth(L, Kbar=KBAR, Lbar=LBAR,alpha=ALPHA, beta=BETA):\n",
    "    \"\"\"efficiency locus: \"\"\"\n",
    "    a = (1-alpha)/alpha\n",
    "    b = (1-beta)/beta\n",
    "    return b*L*Kbar/(a*(Lbar-L)+b*L)"
   ]
  },
  {
   "cell_type": "code",
   "execution_count": 4,
   "metadata": {
    "collapsed": false
   },
   "outputs": [],
   "source": [
    "def edgeplot(LA,Kbar=KBAR, Lbar=LBAR,alpha=ALPHA,beta=BETA):\n",
    "    \"\"\"Draw an edgeworth box\n",
    "    \n",
    "    arguments:\n",
    "    LA -- labor allocated to ag, from which calculate QA(Ka(La),La) \n",
    "    \"\"\"\n",
    "    KA = edgeworth(LA, Kbar, Lbar,alpha, beta)\n",
    "    RTS = (alpha/(1-alpha))*(KA/LA)\n",
    "    QA = F(KA,LA,alpha)\n",
    "    QM = G(Kbar-KA,Lbar-LA,beta)\n",
    "    print(\"(LA,KA)=({:4.1f}, {:4.1f})  (QA, QM)=({:4.1f}, {:4.1f})  RTS={:4.1f}\"\n",
    "          .format(LA,KA,QA,QM,RTS))\n",
    "    La = np.arange(1,Lbar)\n",
    "    fig, ax = plt.subplots(figsize=(7,6))\n",
    "    ax.set_xlim(0, Lbar)\n",
    "    ax.set_ylim(0, Kbar)\n",
    "    ax.plot(La, edgeworth(La,Kbar,Lbar,alpha,beta),'k-')\n",
    "    #ax.plot(La, La,'k--')\n",
    "    ax.plot(La, isoq(La, QA, alpha))\n",
    "    ax.plot(La, Kbar-isoq(Lbar-La, QM, beta),'g-')\n",
    "    ax.plot(LA, KA,'ob')\n",
    "    ax.vlines(LA,0,KA, linestyles=\"dashed\")\n",
    "    ax.hlines(KA,0,LA, linestyles=\"dashed\")\n",
    "    ax.text(-6,-6,r'$O_A$',fontsize=16)\n",
    "    ax.text(Lbar,Kbar,r'$O_M$',fontsize=16)\n",
    "    ax.set_xlabel(r'$L_A -- Labor$', fontsize=16)\n",
    "    ax.set_ylabel('$K_A - Capital$', fontsize=16)\n",
    "    plt.show()"
   ]
  },
  {
   "cell_type": "code",
   "execution_count": 5,
   "metadata": {
    "collapsed": true
   },
   "outputs": [],
   "source": [
    "def ppf(LA,Kbar=KBAR, Lbar=LBAR,alpha=ALPHA,beta=BETA):\n",
    "    \"\"\"Draw a production possibility frontier\n",
    "    \n",
    "    arguments:\n",
    "    LA -- labor allocated to ag, from which calculate QA(Ka(La),La) \n",
    "    \"\"\"\n",
    "    KA = edgeworth(LA, Kbar, Lbar,alpha, beta)\n",
    "    RTS = (alpha/(1-alpha))*(KA/LA)\n",
    "    QA = F(KA,LA,alpha)\n",
    "    QM = G(Kbar-KA,Lbar-LA,beta)\n",
    "    La = np.arange(1,Lbar)\n",
    "    Ka = edgeworth(La, Kbar, Lbar,alpha, beta)\n",
    "    Qa = F(Ka,La,alpha)\n",
    "    Qm = G(Kbar-Ka,Lbar-La,beta)\n",
    "    ax.set_xlim(0, Lbar)\n",
    "    ax.set_ylim(0, Kbar)\n",
    "    ax.plot(Qa, Qm,'k-')\n",
    "    plt.show()"
   ]
  },
  {
   "cell_type": "markdown",
   "metadata": {},
   "source": [
    "It's interesting to note that for Cobb-Douglas technologies you really need quite a difference in capital-intensities between the two technologies in order to get much curvature to the production function."
   ]
  },
  {
   "cell_type": "code",
   "execution_count": 6,
   "metadata": {
    "collapsed": false
   },
   "outputs": [
    {
     "data": {
      "image/png": "[encoded data removed]",
      "text/plain": [
       "<matplotlib.figure.Figure at 0x7115f28>"
      ]
     },
     "metadata": {},
     "output_type": "display_data"
    }
   ],
   "source": [
    "fig, ax = plt.subplots(figsize=(7,6))\n",
    "ppf(50,alpha =0.7, beta=0.3)"
   ]
  },
  {
   "cell_type": "markdown",
   "metadata": {},
   "source": [
    "Here is and Edgeworth Box depicting the situation where $L_A = 50$ units of labor are allocated to the agricultural sector and all other allocations are efficient (along the efficiency locus)."
   ]
  },
  {
   "cell_type": "code",
   "execution_count": 7,
   "metadata": {
    "collapsed": false
   },
   "outputs": [
    {
     "name": "stdout",
     "output_type": "stream",
     "text": [
      "(LA,KA)=(50.0,  5.9)  (QA, QM)=(32.6, 82.9)  RTS= 0.0\n"
     ]
    },
    {
     "data": {
      "image/png": "[encoded data removed]",
      "text/plain": [
       "<matplotlib.figure.Figure at 0x7115cc0>"
      ]
     },
     "metadata": {},
     "output_type": "display_data"
    }
   ],
   "source": [
    "edgeplot(50)"
   ]
  },
  {
   "cell_type": "markdown",
   "metadata": {},
   "source": [
    "If you're using a jupyter server you can interact with the following plot, changing the technology parameters and initial allocation."
   ]
  },
  {
   "cell_type": "code",
   "execution_count": 8,
   "metadata": {
    "collapsed": false
   },
   "outputs": [
    {
     "ename": "NameError",
     "evalue": "name 'Lbar' is not defined",
     "output_type": "error",
     "traceback": [
      "\u001b[1;31m---------------------------------------------------------------------------\u001b[0m",
      "\u001b[1;31mNameError\u001b[0m                                 Traceback (most recent call last)",
      "\u001b[1;32m<ipython-input-8-2cf7b37d6997>\u001b[0m in \u001b[0;36m<module>\u001b[1;34m()\u001b[0m\n\u001b[0;32m      1\u001b[0m \u001b[0mLA\u001b[0m \u001b[1;33m=\u001b[0m \u001b[1;36m50\u001b[0m\u001b[1;33m\u001b[0m\u001b[0m\n\u001b[1;32m----> 2\u001b[1;33m \u001b[0minteract\u001b[0m\u001b[1;33m(\u001b[0m\u001b[0medgeplot\u001b[0m\u001b[1;33m,\u001b[0m\u001b[0mLA\u001b[0m\u001b[1;33m=\u001b[0m\u001b[1;33m(\u001b[0m\u001b[1;36m10\u001b[0m\u001b[1;33m,\u001b[0m\u001b[0mLbar\u001b[0m\u001b[1;33m-\u001b[0m\u001b[1;36m10\u001b[0m\u001b[1;33m,\u001b[0m\u001b[1;36m1\u001b[0m\u001b[1;33m)\u001b[0m\u001b[1;33m,\u001b[0m \u001b[0mKbar\u001b[0m\u001b[1;33m=\u001b[0m\u001b[0mfixed\u001b[0m\u001b[1;33m(\u001b[0m\u001b[0mKBAR\u001b[0m\u001b[1;33m)\u001b[0m\u001b[1;33m,\u001b[0m\u001b[0mLbar\u001b[0m\u001b[1;33m=\u001b[0m\u001b[0mfixed\u001b[0m\u001b[1;33m(\u001b[0m\u001b[0mLBAR\u001b[0m\u001b[1;33m)\u001b[0m\u001b[1;33m,\u001b[0m\u001b[0malpha\u001b[0m\u001b[1;33m=\u001b[0m\u001b[1;33m(\u001b[0m\u001b[1;36m0.1\u001b[0m\u001b[1;33m,\u001b[0m\u001b[1;36m0.9\u001b[0m\u001b[1;33m,\u001b[0m\u001b[1;36m0.1\u001b[0m\u001b[1;33m)\u001b[0m\u001b[1;33m,\u001b[0m\u001b[0mbeta\u001b[0m\u001b[1;33m=\u001b[0m\u001b[1;33m(\u001b[0m\u001b[1;36m0.1\u001b[0m\u001b[1;33m,\u001b[0m\u001b[1;36m0.9\u001b[0m\u001b[1;33m,\u001b[0m\u001b[1;36m0.1\u001b[0m\u001b[1;33m)\u001b[0m\u001b[1;33m)\u001b[0m\u001b[1;33m\u001b[0m\u001b[0m\n\u001b[0m",
      "\u001b[1;31mNameError\u001b[0m: name 'Lbar' is not defined"
     ]
    }
   ],
   "source": [
    "LA = 50\n",
    "interact(edgeplot,LA=(10,Lbar-10,1), Kbar=fixed(KBAR),Lbar=fixed(LBAR),alpha=(0.1,0.9,0.1),beta=(0.1,0.9,0.1))"
   ]
  }
 ],
 "metadata": {
  "kernelspec": {
   "display_name": "Python 3",
   "language": "python",
   "name": "python3"
  },
  "language_info": {
   "codemirror_mode": {
    "name": "ipython",
    "version": 3
   },
   "file_extension": ".py",
   "mimetype": "text/x-python",
   "name": "python",
   "nbconvert_exporter": "python",
   "pygments_lexer": "ipython3",
   "version": "3.4.4"
  }
 },
 "nbformat": 4,
 "nbformat_minor": 0
}
