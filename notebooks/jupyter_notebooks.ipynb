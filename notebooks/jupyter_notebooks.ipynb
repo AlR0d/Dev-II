{
 "cells": [
  {
   "cell_type": "markdown",
   "metadata": {
    "slideshow": {
     "slide_type": "slide"
    }
   },
   "source": [
    "# Economics with [Jupyter Notebooks](http://jupyter.org/)"
   ]
  },
  {
   "cell_type": "markdown",
   "metadata": {},
   "source": [
    "* Jupyter Notebook is \"a web application that allows you to create and share documents that contain live code, equations, visualizations and explanatory text. Uses include: data cleaning and transformation, numerical simulation, statistical modeling, machine learning and much more.\""
   ]
  },
  {
   "cell_type": "markdown",
   "metadata": {
    "slideshow": {
     "slide_type": "fragment"
    }
   },
   "source": [
    "* Open-source, browser-based\n",
    "* Evolved from  [ipython notebook](http://ipython.org/notebook.html) to leverage huge scientific python ecosystem.\n",
    "* Now a 'language agnostic' platform so that you can use any of 50+ other kernels including MATLAB, Octave, [Stata](https://github.com/cpbl/pystata), Julia, etc."
   ]
  },
  {
   "cell_type": "markdown",
   "metadata": {
    "slideshow": {
     "slide_type": "slide"
    }
   },
   "source": [
    "* **Open-source, fast evolving, large community:** Widely used in academic and scientific computing community.\n",
    "\n",
    "* **Ties projects together:** Code, data, documentation, output and analysis all in one place.\n",
    "\n",
    "* **Encourages reproducible science:**  \n",
    "   - Easy workflow from exploratory analysis to publish. \n",
    "   - Works well with github and other open-source sharing tools."
   ]
  },
  {
   "cell_type": "markdown",
   "metadata": {},
   "source": [
    "## Ways to view and run jupyter notebooks"
   ]
  },
  {
   "cell_type": "markdown",
   "metadata": {
    "slideshow": {
     "slide_type": "slide"
    }
   },
   "source": [
    "**Jupyter server for interactive computing** Run on a local machine or cloud server to modify code and results on the fly. \n",
    "\n",
    "  - On your computer:\n",
    "     - [Jupyter notebook on your local machine](https://www.continuum.io/downloads).  I recommend the [Anaconda distribution](https://www.continuum.io/downloads) to install Jupyter and scientific python. \n",
    "     - [nteract](https://github.com/nteract/nteract). A good one-click install solution.  Provides you with standalone program that installs scientific python and runs jupyter notebooks (not quite full functionality).\n",
    "  - Cloud solutions: \n",
    "     - [Microsoft Azure notebooks](https://notebooks.azure.com/): Setup a free account for cloud hosted jupyter notebooks.\n",
    "     - [Cocalc](https://cocalc.com/): jupyter notebooks, SageMath and other cloud hosted services.\n",
    "     - [Try Jupyter](https://try.jupyter.org/): another cloud server, but you can't save work at all."
   ]
  },
  {
   "cell_type": "markdown",
   "metadata": {
    "slideshow": {
     "slide_type": "subslide"
    }
   },
   "source": [
    "**Static rendering for presentations and publishing.**\n",
    "\n",
    "* Jupyter notebooks can be rendered in different ways for example as a styled HTML slideshow or page or as a PDF book by using tools and services such as github, nbconvert, [Sphinx](http://www.sphinx-doc.org/) and [Read the Docs](https://readthedocs.org/).  \n",
    "* **This very notebook** is:\n",
    "     - hosted on [the Dev-II repository on github](https://github.com/jhconning/Dev-II/blob/master/notebooks/jupyter_notebooks.ipynb) where it is rendered in simple HTML.\n",
    "     - viewable in HTML or as javascript slideshow [via nbviewer](http://nbviewer.jupyter.org/github/jhconning/Dev-II/blob/master/notebooks/jupyter_notebooks.ipynb). To then see in slideshow mode click on 'present' icon on top right.\n",
    "     - Tied together with other documents via Sphinx to create a [website on readthedocs](http://dev-ii-seminar.readthedocs.org/) \n",
    "     - Also viewable as a [PDF book on readthedocs](https://media.readthedocs.org/pdf/dev-ii-seminar/latest/dev-ii-seminar.pdf)\n"
   ]
  },
  {
   "cell_type": "markdown",
   "metadata": {
    "slideshow": {
     "slide_type": "slide"
    }
   },
   "source": [
    "## A simple jupyter notebook example:\n",
    "\n",
    "We can combine text, math, code and graph outputs in one place.  Let's study a simple economics question:\n",
    "\n",
    "###    Are average incomes per capita converging?\n"
   ]
  },
  {
   "cell_type": "markdown",
   "metadata": {
    "slideshow": {
     "slide_type": "subslide"
    }
   },
   "source": [
    "#### Neoclassical growth theory:\n",
    "\n",
    "* Solow-growth model with Cobb-Douglas technology $f(k)=k^\\alpha$.  \n",
    "* Technology, saving rate $s$, capital depreciation rate $\\delta$, population growth rate $n$ and technological change rate $g$ assumed same across countries.\n"
   ]
  },
  {
   "cell_type": "markdown",
   "metadata": {
    "slideshow": {
     "slide_type": "subslide"
    }
   },
   "source": [
    "* Steady-state capital per worker to which countries are converging: \n",
    "$$k^{*} = (g/s)^\\frac{1}{\\alpha-1} $$"
   ]
  },
  {
   "cell_type": "markdown",
   "metadata": {
    "collapsed": true,
    "slideshow": {
     "slide_type": "fragment"
    }
   },
   "source": [
    "* Transitional dynamics: \n",
    "$$\\dot{k}(t) = s k(t)^{t} -(n+g+\\delta)k(t)$$"
   ]
  },
  {
   "cell_type": "markdown",
   "metadata": {
    "collapsed": true,
    "slideshow": {
     "slide_type": "fragment"
    }
   },
   "source": [
    "* Diminishing returns to the accumulated factor $k$ implies convergence: \n",
    "\n",
    "   - Lower initial capital stock implies lower initial per-capita GDP.\n",
    "   - Country that starts with lower capital stock and GDP per capita 'catches up' by growing faster."
   ]
  },
  {
   "cell_type": "markdown",
   "metadata": {
    "slideshow": {
     "slide_type": "subslide"
    }
   },
   "source": [
    "#### Convergence plots\n",
    "\n",
    "**Did countries with low levels of income per capita in 1960 grow faster?**\n",
    "\n",
    "I found a dataset from World Penn Tables [on this website](http://www.reed.edu/economics/course_pages/304_f07/asgns/HW7_empirical.pdf) (original data source [here](http://www.rug.nl/ggdc/docs/pwt90.dta)).  \n",
    "\n",
    "Let us import useful python libraries for data handling and plots and load the dataset into a pandas dataframe:"
   ]
  },
  {
   "cell_type": "code",
   "execution_count": 1,
   "metadata": {},
   "outputs": [],
   "source": [
    "import matplotlib.pyplot as plt\n",
    "%matplotlib inline\n",
    "import pandas as pd\n",
    "import seaborn as sns\n",
    "from ipywidgets import interact\n",
    "\n",
    "df = pd.read_stata(\".\\data\\country.dta\")"
   ]
  },
  {
   "cell_type": "markdown",
   "metadata": {
    "slideshow": {
     "slide_type": "fragment"
    }
   },
   "source": [
    "(in the future we will follow best practice and place library imports at the top of our notebooks)."
   ]
  },
  {
   "cell_type": "markdown",
   "metadata": {
    "slideshow": {
     "slide_type": "subslide"
    }
   },
   "source": [
    "**Scatterplot of log GDP per capita and average growth 1960-2000:**"
   ]
  },
  {
   "cell_type": "code",
   "execution_count": 2,
   "metadata": {
    "slideshow": {
     "slide_type": "-"
    }
   },
   "outputs": [
    {
     "data": {
      "image/png": "[encoded data removed]",
      "text/plain": [
       "<matplotlib.figure.Figure at 0xbfd85c0>"
      ]
     },
     "metadata": {},
     "output_type": "display_data"
    }
   ],
   "source": [
    "g = sns.jointplot(\"lgdp60\", \"ggdp\", data=df, kind=\"reg\",\n",
    "                  color =\"b\", size=7)"
   ]
  },
  {
   "cell_type": "markdown",
   "metadata": {
    "slideshow": {
     "slide_type": "subslide"
    }
   },
   "source": [
    "**Same plot but excluding African countries:**"
   ]
  },
  {
   "cell_type": "code",
   "execution_count": 3,
   "metadata": {},
   "outputs": [
    {
     "data": {
      "image/png": "[encoded data removed]",
      "text/plain": [
       "<matplotlib.figure.Figure at 0xbfd8eb8>"
      ]
     },
     "metadata": {},
     "output_type": "display_data"
    }
   ],
   "source": [
    "g = sns.jointplot(\"lgdp60\", \"ggdp\", data=df[df.cont !=\"Africa\"], kind=\"reg\", \n",
    "                  color =\"r\", size=7)"
   ]
  },
  {
   "cell_type": "markdown",
   "metadata": {
    "slideshow": {
     "slide_type": "subslide"
    }
   },
   "source": [
    "#### Interactive plots\n",
    "\n",
    "There are ways to make plots like these interactive.  \n",
    "* On the next slide I use [ipywidgets](https://github.com/ipython/ipywidgets):  When the notebook is run on a jupyter server 'radio buttons' above the plot allow quick re-plotting for selected country regions. \n",
    "\n",
    "* Other libraries such as [Bokeh](http://bokeh.pydata.org/) and [Plotly](https://plot.ly/) create plots with embedded javascript code that allow interactive plot elements even on HTML renderings (i.e. in most browsers even if you do not have a jupyter server running).\n",
    "\n",
    "Here is how do do a **dropdown menu**.  First we write a function to take a 'region' as argument that plots data only for that region (by specifying that filter in the pandas dataframe). We then use interact from the ipywidgets library to switch quickly between regions.\n",
    "\n",
    "You'll only see this as truly interactive on a live notebook, not in a static HTML rendering of the same notebook."
   ]
  },
  {
   "cell_type": "code",
   "execution_count": 4,
   "metadata": {
    "collapsed": true
   },
   "outputs": [],
   "source": [
    "def jplot(region):\n",
    "    sns.jointplot(\"lgdp60\", \"ggdp\", data=df[df.cont == region], \n",
    "                  kind=\"reg\", color =\"g\", size=7)\n",
    "    plt.show();"
   ]
  },
  {
   "cell_type": "code",
   "execution_count": 5,
   "metadata": {},
   "outputs": [
    {
     "data": {
      "application/vnd.jupyter.widget-view+json": {
       "model_id": "a328d301d29844ad87fb394eea381964"
      }
     },
     "metadata": {},
     "output_type": "display_data"
    },
    {
     "data": {
      "text/plain": [
       "<function __main__.jplot>"
      ]
     },
     "execution_count": 5,
     "metadata": {},
     "output_type": "execute_result"
    }
   ],
   "source": [
    "interact(jplot, region=list(df.cont.unique()))"
   ]
  },
  {
   "cell_type": "markdown",
   "metadata": {
    "slideshow": {
     "slide_type": "slide"
    }
   },
   "source": [
    "## More on jupyter notebooks and scientific python"
   ]
  },
  {
   "cell_type": "markdown",
   "metadata": {
    "collapsed": true
   },
   "source": [
    "* An excellent introduction to Jupyter notebooks and scientific python for economists written by John Stachurski is at this link: \n",
    "\n",
    "[http://quant-econ.net/py/learning_python.html](http://quant-econ.net/py/learning_python.html)\n"
   ]
  }
 ],
 "metadata": {
  "kernelspec": {
   "display_name": "Python [default]",
   "language": "python",
   "name": "python3"
  },
  "language_info": {
   "codemirror_mode": {
    "name": "ipython",
    "version": 3
   },
   "file_extension": ".py",
   "mimetype": "text/x-python",
   "name": "python",
   "nbconvert_exporter": "python",
   "pygments_lexer": "ipython3",
   "version": "3.6.2"
  },
  "toc": {
   "colors": {
    "hover_highlight": "#DAA520",
    "navigate_num": "#000000",
    "navigate_text": "#333333",
    "running_highlight": "#FF0000",
    "selected_highlight": "#FFD700",
    "sidebar_border": "#EEEEEE",
    "wrapper_background": "#FFFFFF"
   },
   "moveMenuLeft": true,
   "nav_menu": {
    "height": "173px",
    "width": "252px"
   },
   "navigate_menu": true,
   "number_sections": false,
   "sideBar": true,
   "threshold": 4,
   "toc_cell": false,
   "toc_section_display": "none",
   "toc_window_display": true,
   "widenNotebook": false
  },
  "varInspector": {
   "cols": {
    "lenName": 16,
    "lenType": 16,
    "lenVar": 40
   },
   "kernels_config": {
    "python": {
     "delete_cmd_postfix": "",
     "delete_cmd_prefix": "del ",
     "library": "var_list.py",
     "varRefreshCmd": "print(var_dic_list())"
    },
    "r": {
     "delete_cmd_postfix": ") ",
     "delete_cmd_prefix": "rm(",
     "library": "var_list.r",
     "varRefreshCmd": "cat(var_dic_list()) "
    }
   },
   "types_to_exclude": [
    "module",
    "function",
    "builtin_function_or_method",
    "instance",
    "_Feature"
   ],
   "window_display": false
  },
  "widgets": {
   "application/vnd.jupyter.widget-state+json": {
    "state": {
     "01c226c99f6c495da24325c7a99bd518": {
      "model_module": "jupyter-js-widgets",
      "model_module_version": "~2.1.4",
      "model_name": "LayoutModel",
      "state": {
       "_model_module_version": "~2.1.4",
       "_view_module_version": "~2.1.4"
      }
     },
     "0e21279201c9476f9320de63acbe4455": {
      "model_module": "jupyter-js-widgets",
      "model_module_version": "~2.1.4",
      "model_name": "VBoxModel",
      "state": {
       "_dom_classes": [
        "widget-interact"
       ],
       "_model_module_version": "~2.1.4",
       "_view_module_version": "~2.1.4",
       "children": [
        "IPY_MODEL_9d24058ed6f649ec8c0eb2b12aa169f7",
        "IPY_MODEL_8fad9eeb0a064f4db25e1ea2171d9ffa"
       ],
       "layout": "IPY_MODEL_93ccda5124c545adb1ed1fd80732057f"
      }
     },
     "10e9aa62e1d14bd197990d52f1669be4": {
      "model_module": "jupyter-js-widgets",
      "model_module_version": "~2.1.4",
      "model_name": "LayoutModel",
      "state": {
       "_model_module_version": "~2.1.4",
       "_view_module_version": "~2.1.4"
      }
     },
     "1856aa07c2884ea1a64f91e63d4c87e1": {
      "model_module": "jupyter-js-widgets",
      "model_module_version": "~2.1.4",
      "model_name": "OutputModel",
      "state": {
       "_dom_classes": [],
       "_model_module": "jupyter-js-widgets",
       "_model_module_version": "~2.1.4",
       "_view_module": "jupyter-js-widgets",
       "_view_module_version": "~2.1.4",
       "layout": "IPY_MODEL_a37fad8d67184f6cbe4a594119fbe577",
       "msg_throttle": 1
      }
     },
     "1943b39e25164c7ea83b29bd59d7a62b": {
      "model_module": "jupyter-js-widgets",
      "model_module_version": "~2.1.4",
      "model_name": "LayoutModel",
      "state": {
       "_model_module_version": "~2.1.4",
       "_view_module_version": "~2.1.4"
      }
     },
     "1af691d02e4c4d6aa105c647bac75376": {
      "model_module": "jupyter-js-widgets",
      "model_module_version": "~2.1.4",
      "model_name": "OutputModel",
      "state": {
       "_dom_classes": [],
       "_model_module": "jupyter-js-widgets",
       "_model_module_version": "~2.1.4",
       "_view_module": "jupyter-js-widgets",
       "_view_module_version": "~2.1.4",
       "layout": "IPY_MODEL_56f3aaef53f647999dac1a1e478e6134",
       "msg_throttle": 1
      }
     },
     "20a61b821b4f44d88b817c61d02c5b20": {
      "model_module": "jupyter-js-widgets",
      "model_module_version": "~2.1.4",
      "model_name": "OutputModel",
      "state": {
       "_dom_classes": [],
       "_model_module": "jupyter-js-widgets",
       "_model_module_version": "~2.1.4",
       "_view_module": "jupyter-js-widgets",
       "_view_module_version": "~2.1.4",
       "layout": "IPY_MODEL_79f673419f5146b998d54c660918ed78",
       "msg_throttle": 1
      }
     },
     "2328064280ba4daebb7edca3f64a53f7": {
      "model_module": "jupyter-js-widgets",
      "model_module_version": "~2.1.4",
      "model_name": "DropdownModel",
      "state": {
       "_model_module_version": "~2.1.4",
       "_options_labels": [
        "Africa",
        "Asia",
        "Europe & N. America",
        "S. America"
       ],
       "_view_module_version": "~2.1.4",
       "description": "region",
       "layout": "IPY_MODEL_3d330e57377b4141b666b15f7f242d3f",
       "value": "Europe & N. America"
      }
     },
     "27fe0e74f935442c94c52eac39cb47e8": {
      "model_module": "jupyter-js-widgets",
      "model_module_version": "~2.1.4",
      "model_name": "LayoutModel",
      "state": {
       "_model_module_version": "~2.1.4",
       "_view_module_version": "~2.1.4"
      }
     },
     "37739966b1b84742960c6aea8ca48464": {
      "model_module": "jupyter-js-widgets",
      "model_module_version": "~2.1.4",
      "model_name": "RadioButtonsModel",
      "state": {
       "_model_module_version": "~2.1.4",
       "_options_labels": [
        "Africa",
        "Europe & N. America",
        "Asia",
        "S. America"
       ],
       "_view_module_version": "~2.1.4",
       "description": "region",
       "layout": "IPY_MODEL_f28c4c5ae2a54cc6b85ceea05573e5cc",
       "value": "Africa"
      }
     },
     "3a31ea5372f640d895eb75c56d3461e1": {
      "model_module": "jupyter-js-widgets",
      "model_module_version": "~2.1.4",
      "model_name": "VBoxModel",
      "state": {
       "_dom_classes": [
        "widget-interact"
       ],
       "_model_module_version": "~2.1.4",
       "_view_module_version": "~2.1.4",
       "children": [
        "IPY_MODEL_fdc45fdd3ea6408f8b5a8501a35b2a4d",
        "IPY_MODEL_7b352b1470554c14bd689186bfc4bca7"
       ],
       "layout": "IPY_MODEL_da0e487e02b34b6ca635b64b97b0b69d"
      }
     },
     "3d330e57377b4141b666b15f7f242d3f": {
      "model_module": "jupyter-js-widgets",
      "model_module_version": "~2.1.4",
      "model_name": "LayoutModel",
      "state": {
       "_model_module_version": "~2.1.4",
       "_view_module_version": "~2.1.4"
      }
     },
     "4ea628fea4ea4f2d9b4de99ac2367a16": {
      "model_module": "jupyter-js-widgets",
      "model_module_version": "~2.1.4",
      "model_name": "LayoutModel",
      "state": {
       "_model_module_version": "~2.1.4",
       "_view_module_version": "~2.1.4"
      }
     },
     "56f3aaef53f647999dac1a1e478e6134": {
      "model_module": "jupyter-js-widgets",
      "model_module_version": "~2.1.4",
      "model_name": "LayoutModel",
      "state": {
       "_model_module_version": "~2.1.4",
       "_view_module_version": "~2.1.4"
      }
     },
     "79f673419f5146b998d54c660918ed78": {
      "model_module": "jupyter-js-widgets",
      "model_module_version": "~2.1.4",
      "model_name": "LayoutModel",
      "state": {
       "_model_module_version": "~2.1.4",
       "_view_module_version": "~2.1.4"
      }
     },
     "7b352b1470554c14bd689186bfc4bca7": {
      "model_module": "jupyter-js-widgets",
      "model_module_version": "~2.1.4",
      "model_name": "OutputModel",
      "state": {
       "_dom_classes": [],
       "_model_module": "jupyter-js-widgets",
       "_model_module_version": "~2.1.4",
       "_view_module": "jupyter-js-widgets",
       "_view_module_version": "~2.1.4",
       "layout": "IPY_MODEL_d0730edd99ca4115b00b21cea7b95219",
       "msg_throttle": 1
      }
     },
     "7fb0d2a65cb14446badc401d6fb87734": {
      "model_module": "jupyter-js-widgets",
      "model_module_version": "~2.1.4",
      "model_name": "VBoxModel",
      "state": {
       "_dom_classes": [
        "widget-interact"
       ],
       "_model_module_version": "~2.1.4",
       "_view_module_version": "~2.1.4",
       "children": [
        "IPY_MODEL_37739966b1b84742960c6aea8ca48464",
        "IPY_MODEL_1af691d02e4c4d6aa105c647bac75376"
       ],
       "layout": "IPY_MODEL_98f3ed2b02824df299e196481e96d207"
      }
     },
     "822c36dc572343f2a50dc7e025a6441d": {
      "model_module": "jupyter-js-widgets",
      "model_module_version": "~2.1.4",
      "model_name": "OutputModel",
      "state": {
       "_dom_classes": [],
       "_model_module": "jupyter-js-widgets",
       "_model_module_version": "~2.1.4",
       "_view_module": "jupyter-js-widgets",
       "_view_module_version": "~2.1.4",
       "layout": "IPY_MODEL_cfe5f3f540bb40b9917a6c7ad5807869",
       "msg_throttle": 1
      }
     },
     "87c397d8e38b407797ff4fb7a77586d7": {
      "model_module": "jupyter-js-widgets",
      "model_module_version": "~2.1.4",
      "model_name": "VBoxModel",
      "state": {
       "_dom_classes": [
        "widget-interact"
       ],
       "_model_module_version": "~2.1.4",
       "_view_module_version": "~2.1.4",
       "children": [
        "IPY_MODEL_2328064280ba4daebb7edca3f64a53f7",
        "IPY_MODEL_aa41a045f3a143e4a5cdb3e5122a894b"
       ],
       "layout": "IPY_MODEL_01c226c99f6c495da24325c7a99bd518"
      }
     },
     "8c68455f75444d7a87f2addf7200a107": {
      "model_module": "jupyter-js-widgets",
      "model_module_version": "~2.1.4",
      "model_name": "RadioButtonsModel",
      "state": {
       "_model_module_version": "~2.1.4",
       "_options_labels": [
        "Africa",
        "Europe & N. America",
        "Asia",
        "S. America"
       ],
       "_view_module_version": "~2.1.4",
       "description": "region",
       "layout": "IPY_MODEL_c15f6ab2688741b59dd6cc6ab7d05611",
       "value": "Africa"
      }
     },
     "8fad9eeb0a064f4db25e1ea2171d9ffa": {
      "model_module": "jupyter-js-widgets",
      "model_module_version": "~2.1.4",
      "model_name": "OutputModel",
      "state": {
       "_dom_classes": [],
       "_model_module": "jupyter-js-widgets",
       "_model_module_version": "~2.1.4",
       "_view_module": "jupyter-js-widgets",
       "_view_module_version": "~2.1.4",
       "layout": "IPY_MODEL_1943b39e25164c7ea83b29bd59d7a62b",
       "msg_throttle": 1
      }
     },
     "93ccda5124c545adb1ed1fd80732057f": {
      "model_module": "jupyter-js-widgets",
      "model_module_version": "~2.1.4",
      "model_name": "LayoutModel",
      "state": {
       "_model_module_version": "~2.1.4",
       "_view_module_version": "~2.1.4"
      }
     },
     "96a107560bef499dbfe75ee8d6905796": {
      "model_module": "jupyter-js-widgets",
      "model_module_version": "~2.1.4",
      "model_name": "RadioButtonsModel",
      "state": {
       "_model_module_version": "~2.1.4",
       "_options_labels": [
        "Africa",
        "Europe & N. America",
        "Asia",
        "S. America"
       ],
       "_view_module_version": "~2.1.4",
       "description": "region",
       "layout": "IPY_MODEL_c549186a94a94393aa340485bc73749f",
       "value": "Asia"
      }
     },
     "9899366d3d714b1eb30d07cf1660fbe0": {
      "model_module": "jupyter-js-widgets",
      "model_module_version": "~2.1.4",
      "model_name": "LayoutModel",
      "state": {
       "_model_module_version": "~2.1.4",
       "_view_module_version": "~2.1.4"
      }
     },
     "98f3ed2b02824df299e196481e96d207": {
      "model_module": "jupyter-js-widgets",
      "model_module_version": "~2.1.4",
      "model_name": "LayoutModel",
      "state": {
       "_model_module_version": "~2.1.4",
       "_view_module_version": "~2.1.4"
      }
     },
     "9be7d177427a4ea899cf3956e8056217": {
      "model_module": "jupyter-js-widgets",
      "model_module_version": "~2.1.4",
      "model_name": "LayoutModel",
      "state": {
       "_model_module_version": "~2.1.4",
       "_view_module_version": "~2.1.4"
      }
     },
     "9d24058ed6f649ec8c0eb2b12aa169f7": {
      "model_module": "jupyter-js-widgets",
      "model_module_version": "~2.1.4",
      "model_name": "DropdownModel",
      "state": {
       "_model_module_version": "~2.1.4",
       "_options_labels": [
        "Africa",
        "Asia",
        "Europe & N. America",
        "S. America"
       ],
       "_view_module_version": "~2.1.4",
       "description": "region",
       "layout": "IPY_MODEL_27fe0e74f935442c94c52eac39cb47e8",
       "value": "Africa"
      }
     },
     "a328d301d29844ad87fb394eea381964": {
      "model_module": "jupyter-js-widgets",
      "model_module_version": "~2.1.4",
      "model_name": "VBoxModel",
      "state": {
       "_dom_classes": [
        "widget-interact"
       ],
       "_model_module_version": "~2.1.4",
       "_view_module_version": "~2.1.4",
       "children": [
        "IPY_MODEL_c4e4d6099c9d464f8896ae75186852b7",
        "IPY_MODEL_1856aa07c2884ea1a64f91e63d4c87e1"
       ],
       "layout": "IPY_MODEL_b6582ccfc9574d3bb28b472e313c6316"
      }
     },
     "a37fad8d67184f6cbe4a594119fbe577": {
      "model_module": "jupyter-js-widgets",
      "model_module_version": "~2.1.4",
      "model_name": "LayoutModel",
      "state": {
       "_model_module_version": "~2.1.4",
       "_view_module_version": "~2.1.4"
      }
     },
     "a878522444814764bc44900a50340380": {
      "model_module": "jupyter-js-widgets",
      "model_module_version": "~2.1.4",
      "model_name": "VBoxModel",
      "state": {
       "_dom_classes": [
        "widget-interact"
       ],
       "_model_module_version": "~2.1.4",
       "_view_module_version": "~2.1.4",
       "children": [
        "IPY_MODEL_8c68455f75444d7a87f2addf7200a107",
        "IPY_MODEL_822c36dc572343f2a50dc7e025a6441d"
       ],
       "layout": "IPY_MODEL_10e9aa62e1d14bd197990d52f1669be4"
      }
     },
     "aa41a045f3a143e4a5cdb3e5122a894b": {
      "model_module": "jupyter-js-widgets",
      "model_module_version": "~2.1.4",
      "model_name": "OutputModel",
      "state": {
       "_dom_classes": [],
       "_model_module": "jupyter-js-widgets",
       "_model_module_version": "~2.1.4",
       "_view_module": "jupyter-js-widgets",
       "_view_module_version": "~2.1.4",
       "layout": "IPY_MODEL_9be7d177427a4ea899cf3956e8056217",
       "msg_throttle": 1
      }
     },
     "b6582ccfc9574d3bb28b472e313c6316": {
      "model_module": "jupyter-js-widgets",
      "model_module_version": "~2.1.4",
      "model_name": "LayoutModel",
      "state": {
       "_model_module_version": "~2.1.4",
       "_view_module_version": "~2.1.4"
      }
     },
     "bb466ff79c954fe7bbe9889557445571": {
      "model_module": "jupyter-js-widgets",
      "model_module_version": "~2.1.4",
      "model_name": "LayoutModel",
      "state": {
       "_model_module_version": "~2.1.4",
       "_view_module_version": "~2.1.4"
      }
     },
     "bda89325dcaa45e9950e9d045016c7aa": {
      "model_module": "jupyter-js-widgets",
      "model_module_version": "~2.1.4",
      "model_name": "VBoxModel",
      "state": {
       "_dom_classes": [
        "widget-interact"
       ],
       "_model_module_version": "~2.1.4",
       "_view_module_version": "~2.1.4",
       "children": [
        "IPY_MODEL_96a107560bef499dbfe75ee8d6905796",
        "IPY_MODEL_20a61b821b4f44d88b817c61d02c5b20"
       ],
       "layout": "IPY_MODEL_bb466ff79c954fe7bbe9889557445571"
      }
     },
     "c15f6ab2688741b59dd6cc6ab7d05611": {
      "model_module": "jupyter-js-widgets",
      "model_module_version": "~2.1.4",
      "model_name": "LayoutModel",
      "state": {
       "_model_module_version": "~2.1.4",
       "_view_module_version": "~2.1.4"
      }
     },
     "c4e4d6099c9d464f8896ae75186852b7": {
      "model_module": "jupyter-js-widgets",
      "model_module_version": "~2.1.4",
      "model_name": "DropdownModel",
      "state": {
       "_model_module_version": "~2.1.4",
       "_options_labels": [
        "Africa",
        "Asia",
        "Europe & N. America",
        "S. America"
       ],
       "_view_module_version": "~2.1.4",
       "description": "region",
       "layout": "IPY_MODEL_4ea628fea4ea4f2d9b4de99ac2367a16",
       "value": "Europe & N. America"
      }
     },
     "c549186a94a94393aa340485bc73749f": {
      "model_module": "jupyter-js-widgets",
      "model_module_version": "~2.1.4",
      "model_name": "LayoutModel",
      "state": {
       "_model_module_version": "~2.1.4",
       "_view_module_version": "~2.1.4"
      }
     },
     "cfe5f3f540bb40b9917a6c7ad5807869": {
      "model_module": "jupyter-js-widgets",
      "model_module_version": "~2.1.4",
      "model_name": "LayoutModel",
      "state": {
       "_model_module_version": "~2.1.4",
       "_view_module_version": "~2.1.4"
      }
     },
     "d0730edd99ca4115b00b21cea7b95219": {
      "model_module": "jupyter-js-widgets",
      "model_module_version": "~2.1.4",
      "model_name": "LayoutModel",
      "state": {
       "_model_module_version": "~2.1.4",
       "_view_module_version": "~2.1.4"
      }
     },
     "da0e487e02b34b6ca635b64b97b0b69d": {
      "model_module": "jupyter-js-widgets",
      "model_module_version": "~2.1.4",
      "model_name": "LayoutModel",
      "state": {
       "_model_module_version": "~2.1.4",
       "_view_module_version": "~2.1.4"
      }
     },
     "f28c4c5ae2a54cc6b85ceea05573e5cc": {
      "model_module": "jupyter-js-widgets",
      "model_module_version": "~2.1.4",
      "model_name": "LayoutModel",
      "state": {
       "_model_module_version": "~2.1.4",
       "_view_module_version": "~2.1.4"
      }
     },
     "fdc45fdd3ea6408f8b5a8501a35b2a4d": {
      "model_module": "jupyter-js-widgets",
      "model_module_version": "~2.1.4",
      "model_name": "DropdownModel",
      "state": {
       "_model_module_version": "~2.1.4",
       "_options_labels": [
        "Africa",
        "Asia",
        "Europe & N. America",
        "S. America"
       ],
       "_view_module_version": "~2.1.4",
       "description": "region",
       "layout": "IPY_MODEL_9899366d3d714b1eb30d07cf1660fbe0",
       "value": "Europe & N. America"
      }
     }
    },
    "version_major": 1,
    "version_minor": 0
   }
  }
 },
 "nbformat": 4,
 "nbformat_minor": 1
}
