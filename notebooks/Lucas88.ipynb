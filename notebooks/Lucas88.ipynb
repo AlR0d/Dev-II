{
 "cells": [
  {
   "cell_type": "markdown",
   "metadata": {
    "slideshow": {
     "slide_type": "slide"
    }
   },
   "source": [
    "## Lucas (1990) \"Why Doesn't Capital Flow from Rich to Poor Countries?\""
   ]
  },
  {
   "cell_type": "markdown",
   "metadata": {},
   "source": [
    "Summary and analytical notes:\n",
    "\n",
    "    Lucas, Robert E. \"Why Doesn't Capital Flow from Rich to Poor Countries?\" The American Economic Review (1990): 92-96."
   ]
  },
  {
   "cell_type": "markdown",
   "metadata": {
    "slideshow": {
     "slide_type": "subslide"
    }
   },
   "source": [
    "#### Neoclassical convergence predictions:\n",
    " - predict the convergence of factor prices and incomes per-capita over time \n",
    " - via the substitute mechanisms of factor movements, trade in products, and/or capital accumulation. \n",
    " - follows from assumptions about technology and market competition\n",
    "      - in particular: diminishing returns to capital (i.e. $F_{KK} < 0$ ), or any one factor."
   ]
  },
  {
   "cell_type": "markdown",
   "metadata": {
    "slideshow": {
     "slide_type": "subslide"
    }
   },
   "source": [
    "##### Simplest model\n",
    "Assume two countries have same aggregate production function, where $X$ is capital stock and $L$ is labor force:\n",
    "$$Y = A X^\\beta L^{1-\\beta}$$"
   ]
  },
  {
   "cell_type": "markdown",
   "metadata": {
    "slideshow": {
     "slide_type": "fragment"
    }
   },
   "source": [
    "**in intensive or per-capita form**:\n",
    "$$y = A x^\\beta$$\n",
    "\n",
    "where \n",
    "$$y = \\frac{Y}{L} \\text{    and    } x = \\frac{X}{L}$$"
   ]
  },
  {
   "cell_type": "markdown",
   "metadata": {
    "slideshow": {
     "slide_type": "fragment"
    }
   },
   "source": [
    "**Marginal Product of Capital is:**\n",
    "$$r = A \\beta x^{\\beta -1}$$"
   ]
  },
  {
   "cell_type": "markdown",
   "metadata": {
    "collapsed": true,
    "slideshow": {
     "slide_type": "subslide"
    }
   },
   "source": [
    "**Marginal Product of Capital (MPK) as a function of income per capita:**\n",
    "\n",
    "    \n",
    "$$r = \\beta A^\\frac{1}{\\beta} y^\\frac{\\beta -1}{\\beta}$$   \n",
    "\n",
    "or \n",
    "\n",
    "$$r = A \\beta \\left ( {\\frac{y}{A}} \\right ) ^\\frac{\\beta - 1}{\\beta}$$\n",
    "    "
   ]
  },
  {
   "cell_type": "markdown",
   "metadata": {
    "slideshow": {
     "slide_type": "fragment"
    }
   },
   "source": [
    "\n",
    "Steps:\n",
    "\n",
    "$$y = A x^\\beta  $$\n",
    "so \n",
    "$$x = \\left ({\\frac{y}{A}}  \\right)^\\frac{1}{\\beta}   $$\n",
    "\n",
    "substitute this into $r = A \\beta x^{\\beta -1}$"
   ]
  },
  {
   "cell_type": "markdown",
   "metadata": {
    "collapsed": true,
    "slideshow": {
     "slide_type": "slide"
    }
   },
   "source": [
    "### The puzzle\n",
    " - Let capital share $\\beta =0.4$ (average of USA and India)\n",
    " - Assume $A$ is the same in both countries"
   ]
  },
  {
   "cell_type": "markdown",
   "metadata": {
    "slideshow": {
     "slide_type": "fragment"
    }
   },
   "source": [
    " - In 1988 income per capita in USA was 15 times higher than USA:\n",
    " \n",
    "$$\\frac{y_{US}}{y_{IN}} = 15$$\n"
   ]
  },
  {
   "cell_type": "markdown",
   "metadata": {
    "slideshow": {
     "slide_type": "fragment"
    }
   },
   "source": [
    " - implies MPK in India should be:\n",
    " $$\\frac{r_{US}}{r_{IN}} = \\left [ { \\frac{y_{US}}{y_{IN}} } \\right] ^ \\frac{1-\\beta}{\\beta} = 58.1$$\n",
    " times higher in India."
   ]
  },
  {
   "cell_type": "markdown",
   "metadata": {
    "slideshow": {
     "slide_type": "subslide"
    }
   },
   "source": [
    "Differences in capital per worker:\n",
    "\n",
    "As $x = \\left ({\\frac{y}{A}}  \\right)^\\frac{1}{\\beta} $ and  $\\frac{y_{US}}{y_{IN}} = 15$, US workers would have to have this multiple of the amount of capital per worker compared to India:\n",
    " \n",
    " $$\\frac{x_{US}}{x_{IN}} = \\left ( {\\frac{y_{US}}{y_{IN}}}  \\right)^\\frac{1}{\\beta} = 871.4$$\n",
    " \n",
    " So if in India the capital-labor ratio is 10 in the USA it must be 8714 !"
   ]
  },
  {
   "cell_type": "markdown",
   "metadata": {
    "slideshow": {
     "slide_type": "fragment"
    }
   },
   "source": [
    " - With such huge differentials capital would RUSH from USA to India quickly lower the gap in returns and incomes."
   ]
  },
  {
   "cell_type": "markdown",
   "metadata": {
    "slideshow": {
     "slide_type": "fragment"
    }
   },
   "source": [
    " -  What's wrong with the model?  Lucas walks through 4 alternate hyptotheses."
   ]
  },
  {
   "cell_type": "markdown",
   "metadata": {
    "slideshow": {
     "slide_type": "slide"
    }
   },
   "source": [
    "### Some plots"
   ]
  },
  {
   "cell_type": "code",
   "execution_count": 1,
   "metadata": {
    "collapsed": true,
    "slideshow": {
     "slide_type": "subslide"
    }
   },
   "outputs": [],
   "source": [
    "%matplotlib inline\n",
    "import numpy as np\n",
    "import matplotlib.pylab as plt"
   ]
  },
  {
   "cell_type": "code",
   "execution_count": 2,
   "metadata": {
    "collapsed": true
   },
   "outputs": [],
   "source": [
    "A = 1\n",
    "beta = 0.4\n",
    "y_US = 15\n",
    "y_IN = 1\n",
    "\n",
    "def f(x):\n",
    "    return x**beta\n",
    "\n",
    "def mpx(x):\n",
    "    return beta*x**(beta-1)\n",
    "\n",
    "def r(y, A):\n",
    "    return beta * (A**(1-beta)) * y**((beta-1)/beta)\n",
    "    \n",
    "def kap(y, A):\n",
    "    return (y/A)**(1/beta)"
   ]
  },
  {
   "cell_type": "code",
   "execution_count": 3,
   "metadata": {
    "collapsed": false
   },
   "outputs": [
    {
     "data": {
      "text/plain": [
       "58.09475019311122"
      ]
     },
     "execution_count": 3,
     "metadata": {},
     "output_type": "execute_result"
    }
   ],
   "source": [
    "r(y_IN, A)/r(y_US, A)"
   ]
  },
  {
   "cell_type": "markdown",
   "metadata": {},
   "source": [
    "The ratio of capital stock per worker in the USA compared to India that is implied by this difference in incomes per capita is even more unbelievable:"
   ]
  },
  {
   "cell_type": "code",
   "execution_count": 4,
   "metadata": {
    "collapsed": false
   },
   "outputs": [
    {
     "data": {
      "text/plain": [
       "871.4212528966688"
      ]
     },
     "execution_count": 4,
     "metadata": {},
     "output_type": "execute_result"
    }
   ],
   "source": [
    "kap(y_US, A)/kap(y_IN, A)"
   ]
  },
  {
   "cell_type": "code",
   "execution_count": 5,
   "metadata": {
    "collapsed": false
   },
   "outputs": [
    {
     "data": {
      "image/png": "[encoded data removed]",
      "text/plain": [
       "<matplotlib.figure.Figure at 0x7df4a20>"
      ]
     },
     "metadata": {},
     "output_type": "display_data"
    }
   ],
   "source": [
    "y = np.linspace(0.1,20,100)\n",
    "plt.figure(figsize=(12, 6), dpi=300)\n",
    "plt.subplot(2,1,1)\n",
    "plt.plot(y,kap(y, A))\n",
    "plt.xlabel(\"$y$ -- output per worker\")\n",
    "plt.ylabel(\"$k$ -- capital per worker\")\n",
    "plt.ylim(0,kap(y_US +1, A))\n",
    "plt.axvline(y_IN,color='k',ls='dashed')\n",
    "plt.axvline(y_US,color='k',ls='dashed')\n",
    "plt.title(\"Capital per worker\")\n",
    "plt.grid()\n",
    "\n",
    "plt.subplot(2,1,2)\n",
    "plt.plot(y,r(y,A))\n",
    "plt.xlabel(\"$y$ -- output per worker\")\n",
    "plt.ylabel(\"$4$ -- marginal product capital\")\n",
    "plt.title(\"Marginal Product of Capital\")\n",
    "plt.ylim(0,r(y_IN,A))\n",
    "plt.axvline(y_IN,color='k',ls='dashed')\n",
    "plt.axvline(y_US,color='k',ls='dashed')\n",
    "plt.grid()\n",
    "plt.tight_layout()"
   ]
  },
  {
   "cell_type": "markdown",
   "metadata": {
    "slideshow": {
     "slide_type": "subslide"
    }
   },
   "source": [
    "### The four hypotheses:"
   ]
  },
  {
   "cell_type": "markdown",
   "metadata": {
    "slideshow": {
     "slide_type": "fragment"
    }
   },
   "source": [
    " -  Differences in Human Capital (effective labor) "
   ]
  },
  {
   "cell_type": "markdown",
   "metadata": {
    "slideshow": {
     "slide_type": "fragment"
    }
   },
   "source": [
    " - External Benefits of Human Capital (increasing returns) "
   ]
  },
  {
   "cell_type": "markdown",
   "metadata": {
    "slideshow": {
     "slide_type": "fragment"
    }
   },
   "source": [
    " - Capital Market Imperfections I (political risk) "
   ]
  },
  {
   "cell_type": "markdown",
   "metadata": {
    "slideshow": {
     "slide_type": "fragment"
    }
   },
   "source": [
    " -  Capital Market Imperfections II (monopoly distortions) "
   ]
  },
  {
   "cell_type": "code",
   "execution_count": null,
   "metadata": {
    "collapsed": true
   },
   "outputs": [],
   "source": []
  },
  {
   "cell_type": "markdown",
   "metadata": {
    "slideshow": {
     "slide_type": "slide"
    }
   },
   "source": [
    " ### Hypothesis 4: Capital Market Imperfections II (monopoly distortions) \n",
    " "
   ]
  }
 ],
 "metadata": {
  "celltoolbar": "Slideshow",
  "kernelspec": {
   "display_name": "Python 3",
   "language": "python",
   "name": "python3"
  },
  "language_info": {
   "codemirror_mode": {
    "name": "ipython",
    "version": 3
   },
   "file_extension": ".py",
   "mimetype": "text/x-python",
   "name": "python",
   "nbconvert_exporter": "python",
   "pygments_lexer": "ipython3",
   "version": "3.4.4"
  }
 },
 "nbformat": 4,
 "nbformat_minor": 0
}
