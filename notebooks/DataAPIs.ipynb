{
 "cells": [
  {
   "cell_type": "markdown",
   "metadata": {},
   "source": [
    "# Data APIs\n",
    "\n",
    "## The World Bank Data API\n",
    "\n",
    "In several of the notebooks above we have loaded datasets into a python pandas dataframe for subsequent. Local copies of some of these datasets had been previously saved to disk but in a few cases we read in the data directly from an online sources via a data API. This section explains how that is done in a bit more depth.  Some of the possible advantages of reading in the data this way is that it allows would-be users to modify and extend the analysis, perhaps focusing on different time-periods or adding in other variables of interest.  \n",
    "\n",
    "Easy to use python wrappers for data APIs have been written for the World Bank and several other online data providers (including FRED, Eurostat, and many many others). Below I explain how to use the [pandas-datareader](http://pandas-datareader.readthedocs.org/) library to read in data from the [World Bank's datasets](http://data.worldbank.org/).  \n"
   ]
  },
  {
   "cell_type": "markdown",
   "metadata": {},
   "source": [
    "If you haven't already installed the pandas-datareader library you can do so directly from a jupyter notebook code cell:\n",
    "\n",
    "```!pip install pandas-datareader```\n",
    "\n",
    "Once the library is in installed we can load it as:"
   ]
  },
  {
   "cell_type": "code",
   "execution_count": 1,
   "metadata": {
    "collapsed": false
   },
   "outputs": [
    {
     "name": "stderr",
     "output_type": "stream",
     "text": [
      "D:\\Users\\jconning\\AppData\\Local\\Continuum\\Anaconda3\\lib\\site-packages\\matplotlib\\__init__.py:872: UserWarning: axes.color_cycle is deprecated and replaced with axes.prop_cycle; please use the latter.\n",
      "  warnings.warn(self.msg_depr % (key, alt_key))\n"
     ]
    }
   ],
   "source": [
    "%matplotlib inline\n",
    "import seaborn as sns\n",
    "import warnings\n",
    "import numpy as np\n",
    "import statsmodels.formula.api as smf"
   ]
  },
  {
   "cell_type": "code",
   "execution_count": 2,
   "metadata": {
    "collapsed": true
   },
   "outputs": [],
   "source": [
    "from pandas_datareader import wb"
   ]
  },
  {
   "cell_type": "markdown",
   "metadata": {},
   "source": [
    "### Data on urban bias"
   ]
  },
  {
   "cell_type": "markdown",
   "metadata": {},
   "source": [
    "Our earlier analysis of the Harris_Todaro migration model suggested that policies designed to favor certain sectors or labor groups \n",
    "\n",
    "Let's search for indicators (and their identification codes) relating to GDP per capita and urban population share.  We could look these up in a book or from the website http://data.worldbank.org/ but we can also search for keywords directly.\n",
    "\n",
    "First gdp per capita:"
   ]
  },
  {
   "cell_type": "code",
   "execution_count": 3,
   "metadata": {
    "collapsed": false
   },
   "outputs": [
    {
     "data": {
      "text/html": [
       "<div>\n",
       "<table border=\"1\" class=\"dataframe\">\n",
       "  <thead>\n",
       "    <tr style=\"text-align: right;\">\n",
       "      <th></th>\n",
       "      <th>id</th>\n",
       "      <th>name</th>\n",
       "    </tr>\n",
       "  </thead>\n",
       "  <tbody>\n",
       "    <tr>\n",
       "      <th>680</th>\n",
       "      <td>6.0.GDPpc_constant</td>\n",
       "      <td>GDP per capita, PPP (constant 2011 internation...</td>\n",
       "    </tr>\n",
       "    <tr>\n",
       "      <th>6551</th>\n",
       "      <td>NY.GDP.PCAP.KD</td>\n",
       "      <td>GDP per capita (constant 2005 US$)</td>\n",
       "    </tr>\n",
       "    <tr>\n",
       "      <th>6553</th>\n",
       "      <td>NY.GDP.PCAP.KN</td>\n",
       "      <td>GDP per capita (constant LCU)</td>\n",
       "    </tr>\n",
       "    <tr>\n",
       "      <th>6555</th>\n",
       "      <td>NY.GDP.PCAP.PP.KD</td>\n",
       "      <td>GDP per capita, PPP (constant 2011 internation...</td>\n",
       "    </tr>\n",
       "  </tbody>\n",
       "</table>\n",
       "</div>"
      ],
      "text/plain": [
       "                      id                                               name\n",
       "680   6.0.GDPpc_constant  GDP per capita, PPP (constant 2011 internation...\n",
       "6551      NY.GDP.PCAP.KD                 GDP per capita (constant 2005 US$)\n",
       "6553      NY.GDP.PCAP.KN                      GDP per capita (constant LCU)\n",
       "6555   NY.GDP.PCAP.PP.KD  GDP per capita, PPP (constant 2011 internation..."
      ]
     },
     "execution_count": 3,
     "metadata": {},
     "output_type": "execute_result"
    }
   ],
   "source": [
    "wb.search('gdp.*capita.*const').iloc[:,:2]"
   ]
  },
  {
   "cell_type": "markdown",
   "metadata": {},
   "source": [
    "Now let's look for data on urban population share:"
   ]
  },
  {
   "cell_type": "code",
   "execution_count": 4,
   "metadata": {
    "collapsed": false
   },
   "outputs": [
    {
     "data": {
      "text/html": [
       "<div>\n",
       "<table border=\"1\" class=\"dataframe\">\n",
       "  <thead>\n",
       "    <tr style=\"text-align: right;\">\n",
       "      <th></th>\n",
       "      <th>id</th>\n",
       "      <th>name</th>\n",
       "    </tr>\n",
       "  </thead>\n",
       "  <tbody>\n",
       "    <tr>\n",
       "      <th>43</th>\n",
       "      <td>1.3_ACCESS.ELECTRICITY.URBAN</td>\n",
       "      <td>Access to electricity (% of urban population)</td>\n",
       "    </tr>\n",
       "    <tr>\n",
       "      <th>117</th>\n",
       "      <td>2.3_ACCESS.NONSOLIDFUEL.URBAN</td>\n",
       "      <td>Access to Non-Solid Fuel (% of urban population)</td>\n",
       "    </tr>\n",
       "    <tr>\n",
       "      <th>4250</th>\n",
       "      <td>EG.ELC.ACCS.UR.ZS</td>\n",
       "      <td>Access to electricity, urban (% of urban popul...</td>\n",
       "    </tr>\n",
       "    <tr>\n",
       "      <th>4269</th>\n",
       "      <td>EG.NSF.ACCS.UR.ZS</td>\n",
       "      <td>Access to non-solid fuel, urban (% of urban po...</td>\n",
       "    </tr>\n",
       "    <tr>\n",
       "      <th>4333</th>\n",
       "      <td>EN.POP.SLUM.UR.ZS</td>\n",
       "      <td>Population living in slums, (% of urban popula...</td>\n",
       "    </tr>\n",
       "    <tr>\n",
       "      <th>4336</th>\n",
       "      <td>EN.URB.LCTY.UR.ZS</td>\n",
       "      <td>Population in the largest city (% of urban pop...</td>\n",
       "    </tr>\n",
       "    <tr>\n",
       "      <th>8315</th>\n",
       "      <td>SH.H2O.SAFE.UR.ZS</td>\n",
       "      <td>Improved water source, urban (% of urban popul...</td>\n",
       "    </tr>\n",
       "    <tr>\n",
       "      <th>8460</th>\n",
       "      <td>SH.STA.ACSN.UR</td>\n",
       "      <td>Improved sanitation facilities, urban (% of ur...</td>\n",
       "    </tr>\n",
       "    <tr>\n",
       "      <th>8665</th>\n",
       "      <td>SI.POV.URHC</td>\n",
       "      <td>Urban poverty headcount ratio at national pove...</td>\n",
       "    </tr>\n",
       "    <tr>\n",
       "      <th>9301</th>\n",
       "      <td>SP.URB.GROW</td>\n",
       "      <td>Urban population growth (annual %)</td>\n",
       "    </tr>\n",
       "    <tr>\n",
       "      <th>9302</th>\n",
       "      <td>SP.URB.TOTL</td>\n",
       "      <td>Urban population</td>\n",
       "    </tr>\n",
       "    <tr>\n",
       "      <th>9303</th>\n",
       "      <td>SP.URB.TOTL.IN.ZS</td>\n",
       "      <td>Urban population (% of total)</td>\n",
       "    </tr>\n",
       "  </tbody>\n",
       "</table>\n",
       "</div>"
      ],
      "text/plain": [
       "                                 id  \\\n",
       "43     1.3_ACCESS.ELECTRICITY.URBAN   \n",
       "117   2.3_ACCESS.NONSOLIDFUEL.URBAN   \n",
       "4250              EG.ELC.ACCS.UR.ZS   \n",
       "4269              EG.NSF.ACCS.UR.ZS   \n",
       "4333              EN.POP.SLUM.UR.ZS   \n",
       "4336              EN.URB.LCTY.UR.ZS   \n",
       "8315              SH.H2O.SAFE.UR.ZS   \n",
       "8460                 SH.STA.ACSN.UR   \n",
       "8665                    SI.POV.URHC   \n",
       "9301                    SP.URB.GROW   \n",
       "9302                    SP.URB.TOTL   \n",
       "9303              SP.URB.TOTL.IN.ZS   \n",
       "\n",
       "                                                   name  \n",
       "43        Access to electricity (% of urban population)  \n",
       "117    Access to Non-Solid Fuel (% of urban population)  \n",
       "4250  Access to electricity, urban (% of urban popul...  \n",
       "4269  Access to non-solid fuel, urban (% of urban po...  \n",
       "4333  Population living in slums, (% of urban popula...  \n",
       "4336  Population in the largest city (% of urban pop...  \n",
       "8315  Improved water source, urban (% of urban popul...  \n",
       "8460  Improved sanitation facilities, urban (% of ur...  \n",
       "8665  Urban poverty headcount ratio at national pove...  \n",
       "9301                 Urban population growth (annual %)  \n",
       "9302                                   Urban population  \n",
       "9303                      Urban population (% of total)  "
      ]
     },
     "execution_count": 4,
     "metadata": {},
     "output_type": "execute_result"
    }
   ],
   "source": [
    "wb.search('urban population').iloc[:,:2]"
   ]
  },
  {
   "cell_type": "markdown",
   "metadata": {},
   "source": [
    "Let's use the ones we like but use a python dictionary to rename these to shorter variable names when we load the data into a python dataframe:"
   ]
  },
  {
   "cell_type": "code",
   "execution_count": 5,
   "metadata": {
    "collapsed": false
   },
   "outputs": [],
   "source": [
    "indicators = ['NY.GDP.PCAP.KD', 'SP.URB.TOTL.IN.ZS']"
   ]
  },
  {
   "cell_type": "markdown",
   "metadata": {},
   "source": [
    "Since we are interested in exploring the extent of 'urban bias' in some countries, let's load data from 1980 which was toward the end of the era of import-substituting industrialization when urban-biased policies were claimed to be most pronounced."
   ]
  },
  {
   "cell_type": "code",
   "execution_count": 6,
   "metadata": {
    "collapsed": true
   },
   "outputs": [],
   "source": [
    "dat = wb.download(indicator=indicators, country = 'all', start=1980, end=1980)"
   ]
  },
  {
   "cell_type": "markdown",
   "metadata": {},
   "source": [
    "If we plot and regress log gdp per capita against urban extent we get a pretty tight fit:"
   ]
  },
  {
   "cell_type": "code",
   "execution_count": 7,
   "metadata": {
    "collapsed": true
   },
   "outputs": [],
   "source": [
    "dat.columns = [['gdppc', 'urbpct']]\n",
    "dat['lngpc']  = np.log(dat.gdppc)"
   ]
  },
  {
   "cell_type": "code",
   "execution_count": 8,
   "metadata": {
    "collapsed": false
   },
   "outputs": [
    {
     "data": {
      "image/png": "[encoded data removed]",
      "text/plain": [
       "<matplotlib.figure.Figure at 0xc021940>"
      ]
     },
     "metadata": {},
     "output_type": "display_data"
    }
   ],
   "source": [
    "g = sns.jointplot(\"lngpc\", \"urbpct\", data=dat, kind=\"reg\",\n",
    "                  color =\"b\", size=7)"
   ]
  },
  {
   "cell_type": "markdown",
   "metadata": {},
   "source": [
    "But there are several middle income countries that seem to have a greater urban extent than would be predicted from fiting a model to all countries.  Let's look at the regression line."
   ]
  },
  {
   "cell_type": "code",
   "execution_count": 9,
   "metadata": {
    "collapsed": false
   },
   "outputs": [],
   "source": [
    "mod = smf.ols(\"urbpct ~ lngpc\", dat).fit()"
   ]
  },
  {
   "cell_type": "code",
   "execution_count": 10,
   "metadata": {
    "collapsed": false
   },
   "outputs": [
    {
     "name": "stdout",
     "output_type": "stream",
     "text": [
      "                            OLS Regression Results                            \n",
      "==============================================================================\n",
      "Dep. Variable:                 urbpct   R-squared:                       0.689\n",
      "Model:                            OLS   Adj. R-squared:                  0.687\n",
      "Method:                 Least Squares   F-statistic:                     365.0\n",
      "Date:                Tue, 26 Jan 2016   Prob (F-statistic):           1.16e-43\n",
      "Time:                        15:49:19   Log-Likelihood:                -671.34\n",
      "No. Observations:                 167   AIC:                             1347.\n",
      "Df Residuals:                     165   BIC:                             1353.\n",
      "Df Model:                           1                                         \n",
      "Covariance Type:            nonrobust                                         \n",
      "==============================================================================\n",
      "                 coef    std err          t      P>|t|      [95.0% Conf. Int.]\n",
      "------------------------------------------------------------------------------\n",
      "Intercept    -55.6725      5.471    -10.175      0.000       -66.475   -44.870\n",
      "lngpc         12.8647      0.673     19.104      0.000        11.535    14.194\n",
      "==============================================================================\n",
      "Omnibus:                       29.510   Durbin-Watson:                   2.298\n",
      "Prob(Omnibus):                  0.000   Jarque-Bera (JB):              105.553\n",
      "Skew:                          -0.584   Prob(JB):                     1.20e-23\n",
      "Kurtosis:                       6.716   Cond. No.                         43.0\n",
      "==============================================================================\n",
      "\n",
      "Warnings:\n",
      "[1] Standard Errors assume that the covariance matrix of the errors is correctly specified.\n"
     ]
    }
   ],
   "source": [
    "print(mod.summary())"
   ]
  },
  {
   "cell_type": "markdown",
   "metadata": {},
   "source": [
    "Now let's just look at a list of countries sorted by the size of their residuals in this regression line.  Countries with the largest residuals had urbanization in excess of what the model predicts from their 1980 level of income per capita.\n",
    "\n",
    "Here is the sorted list of top 20 outliers.  Leaving aside Singapore, Malta, and Hong-Kong (which are all small city-island states so it's logical that they should be mostly urban) the fact does stand out that there are several Latin American countries on the list.  This may be consistent with the criticism that in the 1960s and 1970s many Latin American countries were engaged in many urban-biased policies associated with import substitution and excessive bureaucratic centralization. "
   ]
  },
  {
   "cell_type": "code",
   "execution_count": 11,
   "metadata": {
    "collapsed": false
   },
   "outputs": [
    {
     "data": {
      "text/plain": [
       "country               year\n",
       "Singapore             1980    37.269694\n",
       "Uruguay               1980    33.634024\n",
       "Chile                 1980    32.499684\n",
       "Malta                 1980    30.909419\n",
       "Hong Kong SAR, China  1980    28.250739\n",
       "Argentina             1980    28.207125\n",
       "Iraq                  1980    26.246138\n",
       "Israel                1980    24.097519\n",
       "Cuba                  1980    22.486781\n",
       "Venezuela, RB         1980    22.378343\n",
       "Belgium               1980    21.527457\n",
       "Peru                  1980    18.885775\n",
       "Bulgaria              1980    18.700355\n",
       "Colombia              1980    17.704645\n",
       "Jordan                1980    17.231500\n",
       "Bahrain               1980    16.277191\n",
       "Egypt, Arab Rep.      1980    15.805312\n",
       "Bermuda               1980    15.753038\n",
       "Suriname              1980    14.205778\n",
       "Brazil                1980    13.962592\n",
       "dtype: float64"
      ]
     },
     "execution_count": 11,
     "metadata": {},
     "output_type": "execute_result"
    }
   ],
   "source": [
    "mod.resid.sort_values(ascending=False).head(20)"
   ]
  },
  {
   "cell_type": "code",
   "execution_count": null,
   "metadata": {
    "collapsed": true
   },
   "outputs": [],
   "source": []
  }
 ],
 "metadata": {
  "kernelspec": {
   "display_name": "Python 3",
   "language": "python",
   "name": "python3"
  },
  "language_info": {
   "codemirror_mode": {
    "name": "ipython",
    "version": 3
   },
   "file_extension": ".py",
   "mimetype": "text/x-python",
   "name": "python",
   "nbconvert_exporter": "python",
   "pygments_lexer": "ipython3",
   "version": "3.4.4"
  }
 },
 "nbformat": 4,
 "nbformat_minor": 0
}
