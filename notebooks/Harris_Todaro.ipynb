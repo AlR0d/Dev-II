{
 "cells": [
  {
   "cell_type": "markdown",
   "metadata": {},
   "source": [
    "## Migration, urban-bias and the informal sector\n",
    "\n",
    "### The Harris-Todaro Model"
   ]
  },
  {
   "cell_type": "markdown",
   "metadata": {},
   "source": [
    "This model is an adaptation of a standard two-sector open economy specific factors model (SFM) of migration.  \n",
    "* The two sectors are agriculture and 'modern-manufacturing'\n",
    "* The agricultural labor market is competitive. Labor is mobile between the agricultural and manufacturing sectors. \n",
    "\n",
    "If the market of jobs in the modern manufacturing sector were also competitive this would be a standard specific factors model and migration between sectors would occur until the wage was equalized across sectors, or same thing, at the market-clearing equilibrium wage $w^e$ the sum of labor demands from each sector equaled the economy-wide labor supply $\\bar L$.\n",
    "\n",
    "$$L_a (w^e) + L_a (w^e) = \\bar L $$\n",
    "\n",
    "However, for institutional/political economy reasons wages in the modern manufacturing sector will be set artificially high, for example by union activity or minimum-wage policies in that sector. This high wage will lead firms in that sector to cut back hiring but will also attract migrants to urban areas. lured by the prospect of possibly landing a high-wage job in the urban sector.  Since not all migrants succeed in landing these rationed jobs however this migration will lead to the endogenous emergence of an informal urban sector in the economy and 'urban-bias' (a larger than efficient urban sector).\n"
   ]
  },
  {
   "cell_type": "markdown",
   "metadata": {},
   "source": [
    "Laborers can now either stay in the rural sector to earn wage equilibrium rural wage $w_r$ or migrate to the urban area where they may land either in (a) the informal sector where they earn a low-productivity determined wage $w_u$ or (b) in the high-wage modern manufacturing sector where they earn the institutionally-determined wage $w_m^*$.  We model assumes that only urban dwellers can apply for modern-manufacturing and that jobs are allocated among such applicants by lottery whenever those jobs are in excess demand. \n",
    "\n",
    "A fixed constant informal sector wage can be justified by assuming that the informal sector is competitive and production takes place with a simple low-productivity linear technology. Wages in that sector are then pinned to $w_u = a_u$ where $a_u$ is the constant marginal product of labor in the informal sector.  \n",
    "\n",
    "Migration will now take place until the rural wage is equalized to the *expected* wage of an urban resident:\n",
    "\n",
    "$$w_r = \\frac{L_m (w_m)}{L_u + L_m (w_m^*)} \\cdot w_m^*  + \\frac{L_u}{L_u + L_m (w_m^*)} \\cdot w_u $$\n",
    "\n",
    "Given the assumption that jobs in the high-wage manufacturing sector are allocated by fair lottery the equilibium probability of getting such a job will be given simply by the share of the urban sector labor force in that sector. \n",
    "\n",
    "Let's normalize that informal sector wage $w_u$ to zero (we'll change that later). In this case equilbrium condition is just:\n",
    "\n",
    "$$w_r = \\frac{L_m (w_m^*)}{L_u + L_m (w_m^*)} \\cdot w_m^*  $$\n",
    "\n",
    "Since $w_m^*$ and $w_m^*$ are fixed by institutions and technolgoy labor use in the modern manufacturing sector is determined to be $L_m (w_m^*)$ and the market can be thought of as clearing when at a rural wage $w_r$ at which the size of the urban informal sector $L_u$ is large enough to dissuade any further migration. "
   ]
  },
  {
   "cell_type": "markdown",
   "metadata": {},
   "source": [
    "To fix ideas let us suppose that production in the agricultural and modern manufacturing sectors is carried out by identical firms in each sector each employing the following linear homogenous Cobb-Douglas production functions:\n",
    "$$G(T_a, L_a)=A_a \\bar T_a^{\\alpha} \\cdot  L_a^{(1-\\alpha)}$$\n",
    "$$F(K_m, L_m)=A_m \\bar K_m^{\\beta} \\cdot  L_m^{(1-\\beta)}$$"
   ]
  },
  {
   "cell_type": "markdown",
   "metadata": {},
   "source": [
    "For given wage $w$ labor demand in manufacturing is:\n",
    "\n",
    "$$L_m(w) = \\left [ { \\frac{A_m (1-\\alpha) \\bar K}{w/P_m} } \\right ]^\\frac{1}{\\alpha} $$\n"
   ]
  },
  {
   "cell_type": "markdown",
   "metadata": {},
   "source": [
    "###  Graphical Analysis  (coming)"
   ]
  },
  {
   "cell_type": "code",
   "execution_count": null,
   "metadata": {
    "collapsed": true
   },
   "outputs": [],
   "source": []
  }
 ],
 "metadata": {
  "kernelspec": {
   "display_name": "Python 3",
   "language": "python",
   "name": "python3"
  },
  "language_info": {
   "codemirror_mode": {
    "name": "ipython",
    "version": 3
   },
   "file_extension": ".py",
   "mimetype": "text/x-python",
   "name": "python",
   "nbconvert_exporter": "python",
   "pygments_lexer": "ipython3",
   "version": "3.4.4"
  }
 },
 "nbformat": 4,
 "nbformat_minor": 0
}
