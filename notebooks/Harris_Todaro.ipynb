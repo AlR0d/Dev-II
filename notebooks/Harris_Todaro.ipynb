{
 "cells": [
  {
   "cell_type": "markdown",
   "metadata": {},
   "source": [
    "## Migration, urban-bias and the informal sector\n",
    "\n",
    "### The Harris-Todaro Model"
   ]
  },
  {
   "cell_type": "markdown",
   "metadata": {},
   "source": [
    "This model is an adaptation of a standard two-sector open economy specific factors model (SFM) of migration.  \n",
    "* The two sectors are agriculture and 'modern-manufacturing'\n",
    "* The agricultural labor market is competitive. Labor is mobile between the agricultural and manufacturing sectors. \n",
    "\n",
    "If the market of jobs in the modern manufacturing sector were also competitive this would be a standard specific factors model and migration between sectors would occur until the wage was equalized across sectors, or same thing, at the market-clearing equilibrium wage $w^e$ the sum of labor demands from each sector equaled the economy-wide labor supply $\\bar L$.\n",
    "\n",
    "$$L_a (w^e) + L_a (w^e) = \\bar L $$\n",
    "\n",
    "However, for institutional/political economy reasons wages in the modern manufacturing sector will be set artificially high, for example by union activity or minimum-wage policies in that sector. This high wage will lead firms in that sector to cut back hiring but will also attract migrants to urban areas. lured by the prospect of possibly landing a high-wage job in the urban sector.  Since not all migrants succeed in landing these rationed jobs however this migration will lead to the endogenous emergence of an informal urban sector in the economy and 'urban-bias' (a larger than efficient urban sector).\n"
   ]
  },
  {
   "cell_type": "markdown",
   "metadata": {},
   "source": [
    "Laborers can now either stay in the rural sector to earn wage equilibrium rural wage $w_r$ or migrate to the urban area where they may land either in (a) the informal sector where they earn a low-productivity determined wage $w_u$ or (b) in the high-wage modern manufacturing sector where they earn the institutionally-determined wage $w_m^*$.  We model assumes that only urban dwellers can apply for modern-manufacturing and that jobs are allocated among such applicants by lottery whenever those jobs are in excess demand. \n",
    "\n",
    "A fixed constant informal sector wage can be justified by assuming that the informal sector is competitive and production takes place with a simple low-productivity linear technology $Q_N = a_u \\cdot L_u $. This pins wages in that sector to $w_u = a_u$.  \n",
    "\n",
    "Migration will now take place until the rural wage is equalized to the *expected* wage of an urban resident:\n",
    "\n",
    "$$w_r = \\frac{L_m (w_m)}{L_u + L_m (w_m^*)} \\cdot w_m^*  + \\frac{L_u}{L_u + L_m (w_m^*)} \\cdot w_u $$\n",
    "\n",
    "Given the assumption that jobs in the high-wage manufacturing sector are allocated by fair lottery the equilibium probability of getting such a job will be given simply by the share of the urban sector labor force in that sector. \n",
    "\n",
    "Let's normalize that informal sector wage $w_u$ to zero (we'll change that later). In this case equilbrium condition is just:\n",
    "\n",
    "$$w_r = \\frac{L_m (w_m^*)}{L_u + L_m (w_m^*)} \\cdot w_m^*  $$\n",
    "\n",
    "Since $w_m^*$ and $w_m^*$ are fixed by institutions and technolgoy labor use in the modern manufacturing sector is determined to be $L_m (w_m^*)$ and the market can be thought of as clearing when at a rural wage $w_r$ at which the size of the urban informal sector $L_u$ is large enough to dissuade any further migration. "
   ]
  },
  {
   "cell_type": "markdown",
   "metadata": {},
   "source": [
    "To fix ideas let us suppose that production in the agricultural and modern manufacturing sectors is carried out by identical firms in each sector each employing the following linear homogenous Cobb-Douglas production functions:\n",
    "$$G(T_a, L_a)=A_a \\bar T_a^{\\alpha} \\cdot  L_a^{(1-\\alpha)}$$\n",
    "$$F(K_m, L_m)=A_m \\bar K_m^{\\beta} \\cdot  L_m^{(1-\\beta)}$$"
   ]
  },
  {
   "cell_type": "markdown",
   "metadata": {},
   "source": [
    "For given wage $w$ labor demand in manufacturing is:\n",
    "\n",
    "$$L_m(w) = \\left [ { \\frac{A_m (1-\\alpha) \\bar K}{w/P_m} } \\right ]^\\frac{1}{\\alpha} $$\n"
   ]
  },
  {
   "cell_type": "markdown",
   "metadata": {},
   "source": [
    "###  Graphical Analysis  (not finished)"
   ]
  },
  {
   "cell_type": "code",
   "execution_count": 1,
   "metadata": {
    "collapsed": false
   },
   "outputs": [
    {
     "data": {
      "text/html": [
       "\n",
       "\n",
       "    <script type=\"text/javascript\">\n",
       "      \n",
       "      (function(global) {\n",
       "        function now() {\n",
       "          return new Date();\n",
       "        }\n",
       "      \n",
       "        if (typeof (window._bokeh_onload_callbacks) === \"undefined\") {\n",
       "          window._bokeh_onload_callbacks = [];\n",
       "        }\n",
       "      \n",
       "        function run_callbacks() {\n",
       "          window._bokeh_onload_callbacks.forEach(function(callback) { callback() });\n",
       "          delete window._bokeh_onload_callbacks\n",
       "          console.info(\"Bokeh: all callbacks have finished\");\n",
       "        }\n",
       "      \n",
       "        function load_libs(js_urls, callback) {\n",
       "          window._bokeh_onload_callbacks.push(callback);\n",
       "          if (window._bokeh_is_loading > 0) {\n",
       "            console.log(\"Bokeh: BokehJS is being loaded, scheduling callback at\", now());\n",
       "            return null;\n",
       "          }\n",
       "          if (js_urls == null || js_urls.length === 0) {\n",
       "            run_callbacks();\n",
       "            return null;\n",
       "          }\n",
       "          console.log(\"Bokeh: BokehJS not loaded, scheduling load and callback at\", now());\n",
       "          window._bokeh_is_loading = js_urls.length;\n",
       "          for (var i = 0; i < js_urls.length; i++) {\n",
       "            var url = js_urls[i];\n",
       "            var s = document.createElement('script');\n",
       "            s.src = url;\n",
       "            s.async = false;\n",
       "            s.onreadystatechange = s.onload = function() {\n",
       "              window._bokeh_is_loading--;\n",
       "              if (window._bokeh_is_loading === 0) {\n",
       "                console.log(\"Bokeh: all BokehJS libraries loaded\");\n",
       "                run_callbacks()\n",
       "              }\n",
       "            };\n",
       "            s.onerror = function() {\n",
       "              console.warn(\"failed to load library \" + url);\n",
       "            };\n",
       "            console.log(\"Bokeh: injecting script tag for BokehJS library: \", url);\n",
       "            document.getElementsByTagName(\"head\")[0].appendChild(s);\n",
       "          }\n",
       "        };var js_urls = ['https://cdn.pydata.org/bokeh/release/bokeh-0.11.0.min.js', 'https://cdn.pydata.org/bokeh/release/bokeh-widgets-0.11.0.min.js', 'https://cdn.pydata.org/bokeh/release/bokeh-compiler-0.11.0.min.js'];\n",
       "      \n",
       "        var inline_js = [\n",
       "          function(Bokeh) {\n",
       "            Bokeh.set_log_level(\"info\");\n",
       "          },\n",
       "          function(Bokeh) {\n",
       "            console.log(\"Bokeh: injecting CSS: https://cdn.pydata.org/bokeh/release/bokeh-0.11.0.min.css\");\n",
       "            Bokeh.embed.inject_css(\"https://cdn.pydata.org/bokeh/release/bokeh-0.11.0.min.css\");\n",
       "            console.log(\"Bokeh: injecting CSS: https://cdn.pydata.org/bokeh/release/bokeh-widgets-0.11.0.min.css\");\n",
       "            Bokeh.embed.inject_css(\"https://cdn.pydata.org/bokeh/release/bokeh-widgets-0.11.0.min.css\");\n",
       "          }\n",
       "        ];\n",
       "      \n",
       "        function run_inline_js() {\n",
       "          for (var i = 0; i < inline_js.length; i++) {\n",
       "            inline_js[i](window.Bokeh);\n",
       "          }\n",
       "        }\n",
       "      \n",
       "        if (window._bokeh_is_loading === 0) {\n",
       "          console.log(\"Bokeh: BokehJS loaded, going straight to plotting\");\n",
       "          run_inline_js();\n",
       "        } else {\n",
       "          load_libs(js_urls, function() {\n",
       "            console.log(\"Bokeh: BokehJS plotting callback run at\", now());\n",
       "            run_inline_js();\n",
       "          });\n",
       "        }\n",
       "      }(this));\n",
       "    </script>\n",
       "    <div>\n",
       "        <a href=\"http://bokeh.pydata.org\" target=\"_blank\" class=\"bk-logo bk-logo-small bk-logo-notebook\"></a>\n",
       "        <span>BokehJS successfully loaded.</span>\n",
       "    </div>"
      ]
     },
     "metadata": {},
     "output_type": "display_data"
    }
   ],
   "source": [
    "import numpy as np\n",
    "from bokeh.plotting import figure, hplot, show, output_file, vplot, output_notebook, gridplot, ColumnDataSource\n",
    "from bokeh.models import Range1d\n",
    "from bokeh.models import Slider, CustomJS\n",
    "from ipywidgets import interact\n",
    "import ipywidgets as widgets\n",
    "from IPython.display import Latex\n",
    "\n",
    "output_notebook()\n",
    "TOOLS = \"resize,reset,save,box_select\""
   ]
  },
  {
   "cell_type": "markdown",
   "metadata": {},
   "source": [
    "#### Parameters"
   ]
  },
  {
   "cell_type": "code",
   "execution_count": 2,
   "metadata": {
    "collapsed": true
   },
   "outputs": [],
   "source": [
    "Tbar = 100       # Fixed specific land in ag. \n",
    "Kbar = 100       # Fixed specific capital in manuf\n",
    "Lbar = 400       # Total number of mobile workers\n",
    "LbarMax = 400    # Lbar will be on slider, max value.\n",
    "\n",
    "p    = 1.00      # initial rel price of ag goods, p = Pa/Pm\n",
    "alpha, beta = 0.5, 0.5  # labor share in ag, manuf"
   ]
  },
  {
   "cell_type": "markdown",
   "metadata": {},
   "source": [
    "Firms in each sector hires labor so long as the marginal value product of labor is greater than or equal to the market wage:\n",
    "$$ P_a \\cdot MPL_a = w$$\n",
    "$$ P_m \\cdot MPL_m = w$$\n",
    "\n",
    "Let's also normalize the price of manufacturing to $P_m  =1$  and call $p = \\frac{P_a}{P_m}$ the relative price of agricultural goods measured in terms of manufacturing."
   ]
  },
  {
   "cell_type": "markdown",
   "metadata": {},
   "source": [
    "Let's plot a standard specific factors diagram showing the equilibrium wage and labor allocations."
   ]
  },
  {
   "cell_type": "code",
   "execution_count": 3,
   "metadata": {
    "collapsed": false
   },
   "outputs": [],
   "source": [
    "def Qa(L): \n",
    "    return(Tbar**(1-alpha) * L**alpha) \n",
    "def Qm(L): \n",
    "    return Kbar**(1-beta) * (Lbar - L)**beta\n",
    "def pMPLa(L):\n",
    "    return (p * alpha * Qa(L)/L)        # for Cobb-Douglass MPL can be written this way\n",
    "def MPLm(L):\n",
    "    return beta * Qm(L)/L\n",
    "    \n",
    "La = np.arange(0, LbarMax)\n",
    "Lm = Lbar - La"
   ]
  },
  {
   "cell_type": "markdown",
   "metadata": {},
   "source": [
    "#### Numerical optimization to solve the model"
   ]
  },
  {
   "cell_type": "markdown",
   "metadata": {},
   "source": [
    "**Let's solve for the equilibrium market wage w that clears the market.**\n",
    "\n",
    "$$p \\cdot MPL_a(L_A) = MPL_m(\\bar L-L_A) $$\n",
    "\n",
    "the following function finds La where closest to that intersection $(L_A , w_{eq})$."
   ]
  },
  {
   "cell_type": "code",
   "execution_count": 4,
   "metadata": {
    "collapsed": true
   },
   "outputs": [],
   "source": [
    "from scipy import optimize\n",
    "def excess_demand(L):\n",
    "    return pMPLa(L) - MPLm(Lbar - L)"
   ]
  },
  {
   "cell_type": "code",
   "execution_count": 5,
   "metadata": {
    "collapsed": false
   },
   "outputs": [],
   "source": [
    "LA = optimize.brentq(excess_demand, 1, Lbar-1)"
   ]
  },
  {
   "cell_type": "markdown",
   "metadata": {},
   "source": [
    "Simple example with $\\bar L$ at $\\bar L^{max}$"
   ]
  },
  {
   "cell_type": "code",
   "execution_count": 6,
   "metadata": {
    "collapsed": false,
    "scrolled": false
   },
   "outputs": [
    {
     "name": "stdout",
     "output_type": "stream",
     "text": [
      "Real equilibrium wage: ( w/Pm = 0.35, w/Pa = 0.35 )\n",
      "Labor allocations : ( La =  200, Lm =  200 )\n"
     ]
    },
    {
     "data": {
      "text/html": [
       "\n",
       "\n",
       "    <div class=\"plotdiv\" id=\"dbbb5c9a-0f11-44df-aec7-c4f33a4a3c03\"></div>\n",
       "<script type=\"text/javascript\">\n",
       "  \n",
       "  (function(global) {\n",
       "    function now() {\n",
       "      return new Date();\n",
       "    }\n",
       "  \n",
       "    if (typeof (window._bokeh_onload_callbacks) === \"undefined\") {\n",
       "      window._bokeh_onload_callbacks = [];\n",
       "    }\n",
       "  \n",
       "    function run_callbacks() {\n",
       "      window._bokeh_onload_callbacks.forEach(function(callback) { callback() });\n",
       "      delete window._bokeh_onload_callbacks\n",
       "      console.info(\"Bokeh: all callbacks have finished\");\n",
       "    }\n",
       "  \n",
       "    function load_libs(js_urls, callback) {\n",
       "      window._bokeh_onload_callbacks.push(callback);\n",
       "      if (window._bokeh_is_loading > 0) {\n",
       "        console.log(\"Bokeh: BokehJS is being loaded, scheduling callback at\", now());\n",
       "        return null;\n",
       "      }\n",
       "      if (js_urls == null || js_urls.length === 0) {\n",
       "        run_callbacks();\n",
       "        return null;\n",
       "      }\n",
       "      console.log(\"Bokeh: BokehJS not loaded, scheduling load and callback at\", now());\n",
       "      window._bokeh_is_loading = js_urls.length;\n",
       "      for (var i = 0; i < js_urls.length; i++) {\n",
       "        var url = js_urls[i];\n",
       "        var s = document.createElement('script');\n",
       "        s.src = url;\n",
       "        s.async = false;\n",
       "        s.onreadystatechange = s.onload = function() {\n",
       "          window._bokeh_is_loading--;\n",
       "          if (window._bokeh_is_loading === 0) {\n",
       "            console.log(\"Bokeh: all BokehJS libraries loaded\");\n",
       "            run_callbacks()\n",
       "          }\n",
       "        };\n",
       "        s.onerror = function() {\n",
       "          console.warn(\"failed to load library \" + url);\n",
       "        };\n",
       "        console.log(\"Bokeh: injecting script tag for BokehJS library: \", url);\n",
       "        document.getElementsByTagName(\"head\")[0].appendChild(s);\n",
       "      }\n",
       "    };var element = document.getElementById(\"dbbb5c9a-0f11-44df-aec7-c4f33a4a3c03\");\n",
       "    if (element == null) {\n",
       "      console.log(\"Bokeh: ERROR: autoload.js configured with elementid 'dbbb5c9a-0f11-44df-aec7-c4f33a4a3c03' but no matching script tag was found. \")\n",
       "      return false;\n",
       "    }var js_urls = [];\n",
       "  \n",
       "    var inline_js = [\n",
       "      function(Bokeh) {\n",
       "        Bokeh.$(function() {\n",
       "            var docs_json = {\"d7c24ceb-2900-4266-869e-00293b765273\": {\"roots\": {\"root_ids\": [\"2396483f-b560-49a8-9e71-f03db5f14d61\"], \"references\": [{\"type\": \"Line\", \"attributes\": {\"x\": {\"field\": \"x\"}, \"line_alpha\": {\"value\": 0.1}, \"line_dash\": [4, 4], \"y\": {\"field\": \"y\"}, \"line_color\": {\"value\": \"#1f77b4\"}}, \"id\": \"1755f28a-0988-4b01-bff5-cd268ca52fb0\"}, {\"type\": \"ColumnDataSource\", \"attributes\": {\"callback\": null, \"data\": {\"y\": [0.3535533905932738, 0.3535533905932738], \"x\": [0, 400]}, \"column_names\": [\"x\", \"y\"]}, \"id\": \"99f6efb2-c88b-4410-8bec-3483f860f062\"}, {\"subtype\": \"Figure\", \"type\": \"Plot\", \"attributes\": {\"renderers\": [{\"type\": \"LinearAxis\", \"id\": \"720fe99b-8b0b-4903-a85f-356355548f7e\"}, {\"type\": \"Grid\", \"id\": \"f4184f2f-3f9d-4312-8e98-3bde165424ff\"}, {\"type\": \"LinearAxis\", \"id\": \"7d179eea-bad6-40a0-90e9-310a199e253a\"}, {\"type\": \"Grid\", \"id\": \"8a225c5b-95c6-441c-9bb6-788b42c74417\"}, {\"type\": \"BoxAnnotation\", \"id\": \"9a0985f8-4e7d-48a8-8bd0-b78e77f89327\"}, {\"type\": \"Legend\", \"id\": \"beee6f1c-904b-44f2-8090-7cd383f2f642\"}, {\"type\": \"GlyphRenderer\", \"id\": \"33a570cc-8a17-40c4-a40a-1a1b8248e7c4\"}, {\"type\": \"GlyphRenderer\", \"id\": \"e3831578-be92-4973-b4ba-333530b6fcb3\"}, {\"type\": \"GlyphRenderer\", \"id\": \"00f8ed96-439f-433c-85c1-9dd3ae333ce0\"}, {\"type\": \"GlyphRenderer\", \"id\": \"846f086f-c4e4-45e9-8823-ee6a77954ed6\"}, {\"type\": \"GlyphRenderer\", \"id\": \"25c91b12-e3e2-4513-99c9-7b9a82eb2510\"}], \"tools\": [{\"type\": \"ResizeTool\", \"id\": \"0554314d-0978-4a30-a9ec-986fe82c2c6a\"}, {\"type\": \"ResetTool\", \"id\": \"71662036-81a2-475e-b7c5-d5846d7b4180\"}, {\"type\": \"PreviewSaveTool\", \"id\": \"573e5f24-cc0f-4822-a54e-3d99139b66e5\"}, {\"type\": \"BoxSelectTool\", \"id\": \"fac20367-3b82-4666-b69d-4605dcf3f9a8\"}], \"tool_events\": {\"type\": \"ToolEvents\", \"id\": \"b61d37cc-24dc-4d62-8a83-a7d12c181718\"}, \"y_range\": {\"type\": \"Range1d\", \"id\": \"d338bbdf-38fb-41ea-8262-7d4d6e58332e\"}, \"plot_height\": 400, \"x_range\": {\"type\": \"Range1d\", \"id\": \"5c241f40-b139-4613-a7f4-69c9fffb76b2\"}, \"below\": [{\"type\": \"LinearAxis\", \"id\": \"720fe99b-8b0b-4903-a85f-356355548f7e\"}], \"title\": \"Ricardo Viner\", \"left\": [{\"type\": \"LinearAxis\", \"id\": \"7d179eea-bad6-40a0-90e9-310a199e253a\"}]}, \"id\": \"2396483f-b560-49a8-9e71-f03db5f14d61\"}, {\"type\": \"LinearAxis\", \"attributes\": {\"plot\": {\"subtype\": \"Figure\", \"type\": \"Plot\", \"id\": \"2396483f-b560-49a8-9e71-f03db5f14d61\"}, \"formatter\": {\"type\": \"BasicTickFormatter\", \"id\": \"ff476a6d-fd0d-4f0a-a4e0-cb837d4c5704\"}, \"axis_label\": \"real wage\", \"ticker\": {\"type\": \"BasicTicker\", \"id\": \"09e492de-073a-4528-a658-1ca00587f151\"}}, \"id\": \"7d179eea-bad6-40a0-90e9-310a199e253a\"}, {\"type\": \"Line\", \"attributes\": {\"line_width\": {\"value\": 3}, \"line_alpha\": {\"value\": 0.1}, \"y\": {\"field\": \"y\"}, \"x\": {\"field\": \"x\"}, \"line_color\": {\"value\": \"#1f77b4\"}}, \"id\": \"a300637c-d3ae-4ea5-be34-910c36ba8144\"}, {\"type\": \"GlyphRenderer\", \"attributes\": {\"data_source\": {\"type\": \"ColumnDataSource\", \"id\": \"99f6efb2-c88b-4410-8bec-3483f860f062\"}, \"glyph\": {\"type\": \"Line\", \"id\": \"c7db3d44-cfce-4ce2-acff-b3cad42b1a74\"}, \"hover_glyph\": null, \"selection_glyph\": null, \"nonselection_glyph\": {\"type\": \"Line\", \"id\": \"1755f28a-0988-4b01-bff5-cd268ca52fb0\"}}, \"id\": \"846f086f-c4e4-45e9-8823-ee6a77954ed6\"}, {\"type\": \"ToolEvents\", \"attributes\": {}, \"id\": \"b61d37cc-24dc-4d62-8a83-a7d12c181718\"}, {\"type\": \"ResetTool\", \"attributes\": {\"plot\": {\"subtype\": \"Figure\", \"type\": \"Plot\", \"id\": \"2396483f-b560-49a8-9e71-f03db5f14d61\"}}, \"id\": \"71662036-81a2-475e-b7c5-d5846d7b4180\"}, {\"type\": \"ColumnDataSource\", \"attributes\": {\"callback\": null, \"data\": {\"y\": [\"NaN\", 5.0, 3.5355339059327378, 2.8867513459481287, 2.5, 2.23606797749979, 2.041241452319315, 1.889822365046136, 1.7677669529663689, 1.6666666666666667, 1.5811388300841898, 1.507556722888818, 1.4433756729740643, 1.3867504905630728, 1.336306209562122, 1.2909944487358056, 1.25, 1.212678125181665, 1.178511301977579, 1.147078669352809, 1.118033988749895, 1.0910894511799618, 1.0660035817780522, 1.0425720702853738, 1.0206207261596576, 1.0, 0.9805806756909201, 0.9622504486493763, 0.944911182523068, 0.9284766908852593, 0.9128709291752769, 0.8980265101338745, 0.8838834764831844, 0.8703882797784892, 0.8574929257125442, 0.8451542547285166, 0.8333333333333334, 0.8219949365267863, 0.8111071056538126, 0.8006407690254357, 0.7905694150420949, 0.7808688094430303, 0.7715167498104595, 0.7624928516630233, 0.753778361444409, 0.74535599249993, 0.7372097807744857, 0.7293249574894728, 0.7216878364870322, 0.7142857142857143, 0.7071067811865476, 0.7001400420140049, 0.6933752452815364, 0.6868028197434451, 0.6804138174397717, 0.674199862463242, 0.668153104781061, 0.662266178532522, 0.6565321642986128, 0.6509445549041193, 0.6454972243679028, 0.6401843996644798, 0.6350006350009525, 0.629940788348712, 0.625, 0.6201736729460422, 0.6154574548966637, 0.6108472217815262, 0.6063390625908325, 0.601929265428846, 0.5976143046671969, 0.5933908290969268, 0.5892556509887895, 0.5852057359806528, 0.5812381937190965, 0.5773502691896258, 0.5735393346764045, 0.5698028822981898, 0.5661385170722979, 0.562543950463012, 0.5590169943749475, 0.5555555555555556, 0.5521576303742327, 0.5488212999484517, 0.5455447255899809, 0.5423261445466404, 0.5391638660171921, 0.5360562674188974, 0.5330017908890261, 0.5299989400031799, 0.5270462766947299, 0.5241424183609591, 0.5212860351426869, 0.5184758473652127, 0.5157106231293968, 0.512989176042577, 0.5103103630798288, 0.5076730825668094, 0.5050762722761054, 0.502518907629606, 0.5, 0.4975185951049946, 0.4950737714883371, 0.4926646390821466, 0.49029033784546006, 0.48795003647426655, 0.4856429311786321, 0.48336824452283184, 0.4811252243246881, 0.4789131426105757, 0.4767312946227962, 0.47457899787624946, 0.472455591261534, 0.4703604341917987, 0.4682929057908469, 0.46625240412015684, 0.46423834544262965, 0.4622501635210243, 0.46028730894916164, 0.4583492485141056, 0.45643546458763845, 0.45454545454545453, 0.4526787302125927, 0.4508348173337162, 0.44901325506693723, 0.4472135954999579, 0.445435403187374, 0.44367825470805683, 0.4419417382415922, 0.4402254531628119, 0.4385290096535146, 0.436852028330519, 0.4351941398892446, 0.43355498476206, 0.43193421279068006, 0.4303314829119352, 0.4287464628562721, 0.4271788288583805, 0.4256282653793743, 0.4240944648399854, 0.4225771273642583, 0.42107596053325946, 0.4195906791483445, 0.4181210050035454, 0.4166666666666667, 0.4152273992686999, 0.413802944301184, 0.41239304942116123, 0.4109974682633932, 0.40961596025952024, 0.40824829046386296, 0.40689422938557973, 0.4055535528269063, 0.4042260417272216, 0.40291148201269017, 0.40160966445124946, 0.40032038451271784, 0.39904344223381105, 0.397778642087865, 0.396525792859072, 0.39528470752104744, 0.39405520311955033, 0.3928371006591931, 0.39163022499397865, 0.39043440472151514, 0.3892494720807615, 0.3880752628531664, 0.38691161626706844, 0.38575837490522974, 0.38461538461538464, 0.38348249442368526, 0.3823595564509363, 0.38124642583151164, 0.38014296063485276, 0.37904902178945166, 0.3779644730092272, 0.3768891807222045, 0.37582301400141443, 0.3747658444979307, 0.37371754637596794, 0.372677996249965, 0.3716470731235831, 0.37062465833055064, 0.3696106354772864, 0.36860489038724287, 0.36760731104690386, 0.36661778755338326, 0.36563621206356534, 0.3646624787447364, 0.363696483726654, 0.36273812505500586, 0.36178730264621084, 0.3608439182435161, 0.35990787537434726, 0.3589790793088691, 0.35805743701971643, 0.35714285714285715, 0.35623524993954825, 0.3553345272593507, 0.354440602504168, 0.3535533905932738, 0.35267280792929917, 0.3517987723651459, 0.3509312031717982, 0.35007002100700246, 0.3492151478847891, 0.3483665071458088, 0.34752402342845795, 0.3466876226407682, 0.34585723193303736, 0.3450327796711771, 0.34421419541075704, 0.3434014098717226, 0.3425943549137658, 0.3417929635123316, 0.34099716973523675, 0.34020690871988585, 0.3394221166510653, 0.3386427307392982, 0.33786868919974294, 0.337099931231621, 0.3363363969981562, 0.33557802760701216, 0.3348247650912125, 0.3340765523905305, 0.3333333333333333, 0.3325950526188696, 0.331861655799986, 0.331133089266261, 0.3304093002275449, 0.32969023669789355, 0.3289758474798845, 0.3282660821493064, 0.32756089104020913, 0.3268602252303067, 0.3261640365267211, 0.32547227745205964, 0.32478490123081544, 0.3241018617760822, 0.32342311367657545, 0.3227486121839514, 0.32207831320041547, 0.32141217326661253, 0.3207501495497921, 0.3200921998322399, 0.31943828249996997, 0.31878835653166915, 0.31814238148788887, 0.31750031750047625, 0.31686212526223895, 0.3162277660168379, 0.3155972015489016, 0.314970394174356, 0.3143473067309657, 0.3137279025690793, 0.3131121455425747, 0.3125, 0.3118914307759027, 0.3112864031823452, 0.31068488300060004, 0.3100868364730211, 0.30949223029508643, 0.30890103160760773, 0.3083132079891037, 0.30772872744833185, 0.3071475584169756, 0.3065696697424829, 0.30599503068105227, 0.3054236108907631, 0.3048553804248462, 0.3042903097250923, 0.30372836961539357, 0.30316953129541624, 0.3026137663344012, 0.30206104666508843, 0.30151134457776363, 0.300964632714423, 0.30042088406305484, 0.29988007195203353, 0.2993421700446249, 0.29880715233359845, 0.29827499313594685, 0.2977456670877068, 0.29721914913888203, 0.2966954145484634, 0.2961744388795462, 0.2956561979945413, 0.2951406680504777, 0.29462782549439476, 0.29411764705882354, 0.29361010975735174, 0.29310519088027454, 0.2926028679903264, 0.29210311891849305, 0.2916059217599022, 0.29111125486979095, 0.29061909685954823, 0.29012942659282975, 0.28964222318174615, 0.2891574659831201, 0.2886751345948129, 0.28819520885211747, 0.287717668824218, 0.28724249481071307, 0.28676966733820225, 0.2862991671569341, 0.2858309752375147, 0.28536507276767475, 0.2849014411490949, 0.2844400619942872, 0.2839809171235324, 0.28352398856187133, 0.28306925853614895, 0.2826167094721107, 0.28216632399155017, 0.2817180849095055, 0.281271975231506, 0.28082797815086524, 0.2803860770460221, 0.2799462554779271, 0.2795084971874737, 0.2790727860929738, 0.27863910628767646, 0.2782074420373286, 0.2777777777777778, 0.2773500981126146, 0.27692438781085565, 0.2765006318046655, 0.27607881518711636, 0.2756589232099856, 0.27524094128159016, 0.27482485496465636, 0.2744106499742259, 0.2739983121755955, 0.2735878275822914, 0.2731791823540765, 0.27277236279499045, 0.27236735535142165, 0.2719641466102106, 0.2715627232967842, 0.2711630722733202, 0.27076518053694115, 0.2703690352179376, 0.2699746235780195, 0.26958193300859606, 0.26919095102908275, 0.2688016652852352, 0.26841406354750946, 0.2680281337094487, 0.2676438637860946, 0.2672612419124244, 0.2668802563418119, 0.26650089544451305, 0.26612314770617473, 0.26574700172636695, 0.2653724462171377, 0.26499947000158997, 0.26462806201248157, 0.26425821129084504, 0.2638899069846297, 0.26352313834736496, 0.2631578947368421, 0.26279416561381835, 0.262431940540739, 0.26207120918047955, 0.2617119612951069, 0.2613541867446583, 0.2609978754859403, 0.26064301757134345, 0.2602896031476768, 0.25993762245501817, 0.2595870658255825, 0.25923792368260634, 0.2588901865392489, 0.25854384499750954, 0.2581988897471611, 0.2578553115646984, 0.2575131013123024, 0.25717224993681986, 0.25683274846875703, 0.2564945880212885, 0.25615775978928, 0.25582225504832545, 0.255488065153798, 0.2551551815399144, 0.25482359571881275, 0.25449329927964376, 0.2541642838876744, 0.2538365412834047, 0.2535100632816969, 0.25318484177091666, 0.25286086871208685, 0.2525381361380527, 0.25221663615265916, 0.25189636092993917, 0.2515773027133138, 0.251259453814803, 0.2509428066142478, 0.25062735355854276, 0.2503130871608794], \"x\": [0, 1, 2, 3, 4, 5, 6, 7, 8, 9, 10, 11, 12, 13, 14, 15, 16, 17, 18, 19, 20, 21, 22, 23, 24, 25, 26, 27, 28, 29, 30, 31, 32, 33, 34, 35, 36, 37, 38, 39, 40, 41, 42, 43, 44, 45, 46, 47, 48, 49, 50, 51, 52, 53, 54, 55, 56, 57, 58, 59, 60, 61, 62, 63, 64, 65, 66, 67, 68, 69, 70, 71, 72, 73, 74, 75, 76, 77, 78, 79, 80, 81, 82, 83, 84, 85, 86, 87, 88, 89, 90, 91, 92, 93, 94, 95, 96, 97, 98, 99, 100, 101, 102, 103, 104, 105, 106, 107, 108, 109, 110, 111, 112, 113, 114, 115, 116, 117, 118, 119, 120, 121, 122, 123, 124, 125, 126, 127, 128, 129, 130, 131, 132, 133, 134, 135, 136, 137, 138, 139, 140, 141, 142, 143, 144, 145, 146, 147, 148, 149, 150, 151, 152, 153, 154, 155, 156, 157, 158, 159, 160, 161, 162, 163, 164, 165, 166, 167, 168, 169, 170, 171, 172, 173, 174, 175, 176, 177, 178, 179, 180, 181, 182, 183, 184, 185, 186, 187, 188, 189, 190, 191, 192, 193, 194, 195, 196, 197, 198, 199, 200, 201, 202, 203, 204, 205, 206, 207, 208, 209, 210, 211, 212, 213, 214, 215, 216, 217, 218, 219, 220, 221, 222, 223, 224, 225, 226, 227, 228, 229, 230, 231, 232, 233, 234, 235, 236, 237, 238, 239, 240, 241, 242, 243, 244, 245, 246, 247, 248, 249, 250, 251, 252, 253, 254, 255, 256, 257, 258, 259, 260, 261, 262, 263, 264, 265, 266, 267, 268, 269, 270, 271, 272, 273, 274, 275, 276, 277, 278, 279, 280, 281, 282, 283, 284, 285, 286, 287, 288, 289, 290, 291, 292, 293, 294, 295, 296, 297, 298, 299, 300, 301, 302, 303, 304, 305, 306, 307, 308, 309, 310, 311, 312, 313, 314, 315, 316, 317, 318, 319, 320, 321, 322, 323, 324, 325, 326, 327, 328, 329, 330, 331, 332, 333, 334, 335, 336, 337, 338, 339, 340, 341, 342, 343, 344, 345, 346, 347, 348, 349, 350, 351, 352, 353, 354, 355, 356, 357, 358, 359, 360, 361, 362, 363, 364, 365, 366, 367, 368, 369, 370, 371, 372, 373, 374, 375, 376, 377, 378, 379, 380, 381, 382, 383, 384, 385, 386, 387, 388, 389, 390, 391, 392, 393, 394, 395, 396, 397, 398, 399]}, \"column_names\": [\"x\", \"y\"]}, \"id\": \"3fe79b97-1dad-49cd-9453-6144d77280e2\"}, {\"type\": \"GlyphRenderer\", \"attributes\": {\"data_source\": {\"type\": \"ColumnDataSource\", \"id\": \"385ac0d5-dd0e-4a6f-8258-f07deb5bffb5\"}, \"glyph\": {\"type\": \"Line\", \"id\": \"393f4d08-7189-4032-8f30-301062cfb4c8\"}, \"hover_glyph\": null, \"selection_glyph\": null, \"nonselection_glyph\": {\"type\": \"Line\", \"id\": \"c2af6caa-3cc2-48d1-a004-69e9baedcb67\"}}, \"id\": \"00f8ed96-439f-433c-85c1-9dd3ae333ce0\"}, {\"type\": \"Line\", \"attributes\": {\"line_dash\": [4, 4], \"y\": {\"field\": \"y\"}, \"x\": {\"field\": \"x\"}}, \"id\": \"6ec969ee-b84b-403c-ad7a-873f632dfe07\"}, {\"type\": \"Range1d\", \"attributes\": {\"callback\": null, \"end\": 400}, \"id\": \"5c241f40-b139-4613-a7f4-69c9fffb76b2\"}, {\"type\": \"LinearAxis\", \"attributes\": {\"plot\": {\"subtype\": \"Figure\", \"type\": \"Plot\", \"id\": \"2396483f-b560-49a8-9e71-f03db5f14d61\"}, \"formatter\": {\"type\": \"BasicTickFormatter\", \"id\": \"29662bfb-fc1b-4c12-b775-635abeb7f903\"}, \"axis_label\": \"Labor\", \"ticker\": {\"type\": \"BasicTicker\", \"id\": \"2f8bd895-d785-4880-9d05-71c61d69885f\"}}, \"id\": \"720fe99b-8b0b-4903-a85f-356355548f7e\"}, {\"type\": \"Line\", \"attributes\": {\"x\": {\"field\": \"x\"}, \"line_alpha\": {\"value\": 0.1}, \"line_dash\": [4, 4], \"y\": {\"field\": \"y\"}, \"line_color\": {\"value\": \"#1f77b4\"}}, \"id\": \"b9166090-cd77-43c4-8484-70cce602d885\"}, {\"type\": \"BasicTicker\", \"attributes\": {}, \"id\": \"2f8bd895-d785-4880-9d05-71c61d69885f\"}, {\"type\": \"Line\", \"attributes\": {\"x\": {\"field\": \"x\"}, \"line_width\": {\"value\": 3}, \"y\": {\"field\": \"y\"}, \"line_color\": {\"value\": \"#1f77b4\"}}, \"id\": \"03bc83b9-d52a-4939-bb17-47be7ed9d207\"}, {\"type\": \"PreviewSaveTool\", \"attributes\": {\"plot\": {\"subtype\": \"Figure\", \"type\": \"Plot\", \"id\": \"2396483f-b560-49a8-9e71-f03db5f14d61\"}}, \"id\": \"573e5f24-cc0f-4822-a54e-3d99139b66e5\"}, {\"type\": \"BoxSelectTool\", \"attributes\": {\"callback\": null, \"plot\": {\"subtype\": \"Figure\", \"type\": \"Plot\", \"id\": \"2396483f-b560-49a8-9e71-f03db5f14d61\"}, \"overlay\": {\"type\": \"BoxAnnotation\", \"id\": \"9a0985f8-4e7d-48a8-8bd0-b78e77f89327\"}, \"renderers\": [{\"type\": \"GlyphRenderer\", \"id\": \"33a570cc-8a17-40c4-a40a-1a1b8248e7c4\"}, {\"type\": \"GlyphRenderer\", \"id\": \"e3831578-be92-4973-b4ba-333530b6fcb3\"}, {\"type\": \"GlyphRenderer\", \"id\": \"00f8ed96-439f-433c-85c1-9dd3ae333ce0\"}, {\"type\": \"GlyphRenderer\", \"id\": \"846f086f-c4e4-45e9-8823-ee6a77954ed6\"}, {\"type\": \"GlyphRenderer\", \"id\": \"25c91b12-e3e2-4513-99c9-7b9a82eb2510\"}]}, \"id\": \"fac20367-3b82-4666-b69d-4605dcf3f9a8\"}, {\"type\": \"BasicTickFormatter\", \"attributes\": {}, \"id\": \"29662bfb-fc1b-4c12-b775-635abeb7f903\"}, {\"type\": \"Line\", \"attributes\": {\"x\": {\"field\": \"x\"}, \"y\": {\"field\": \"y\"}, \"line_width\": {\"value\": 3}}, \"id\": \"393f4d08-7189-4032-8f30-301062cfb4c8\"}, {\"type\": \"Line\", \"attributes\": {\"line_width\": {\"value\": 3}, \"line_alpha\": {\"value\": 0.1}, \"y\": {\"field\": \"y\"}, \"x\": {\"field\": \"x\"}, \"line_color\": {\"value\": \"#1f77b4\"}}, \"id\": \"c2af6caa-3cc2-48d1-a004-69e9baedcb67\"}, {\"type\": \"GlyphRenderer\", \"attributes\": {\"data_source\": {\"type\": \"ColumnDataSource\", \"id\": \"3fe79b97-1dad-49cd-9453-6144d77280e2\"}, \"glyph\": {\"type\": \"Line\", \"id\": \"03bc83b9-d52a-4939-bb17-47be7ed9d207\"}, \"hover_glyph\": null, \"selection_glyph\": null, \"nonselection_glyph\": {\"type\": \"Line\", \"id\": \"f4f2e55d-1843-4063-b86f-ef6da52b7280\"}}, \"id\": \"33a570cc-8a17-40c4-a40a-1a1b8248e7c4\"}, {\"type\": \"Grid\", \"attributes\": {\"plot\": {\"subtype\": \"Figure\", \"type\": \"Plot\", \"id\": \"2396483f-b560-49a8-9e71-f03db5f14d61\"}, \"ticker\": {\"type\": \"BasicTicker\", \"id\": \"2f8bd895-d785-4880-9d05-71c61d69885f\"}}, \"id\": \"f4184f2f-3f9d-4312-8e98-3bde165424ff\"}, {\"type\": \"Grid\", \"attributes\": {\"dimension\": 1, \"plot\": {\"subtype\": \"Figure\", \"type\": \"Plot\", \"id\": \"2396483f-b560-49a8-9e71-f03db5f14d61\"}, \"ticker\": {\"type\": \"BasicTicker\", \"id\": \"09e492de-073a-4528-a658-1ca00587f151\"}}, \"id\": \"8a225c5b-95c6-441c-9bb6-788b42c74417\"}, {\"type\": \"Legend\", \"attributes\": {\"plot\": {\"subtype\": \"Figure\", \"type\": \"Plot\", \"id\": \"2396483f-b560-49a8-9e71-f03db5f14d61\"}, \"legends\": [[\"Ag LD\", [{\"type\": \"GlyphRenderer\", \"id\": \"33a570cc-8a17-40c4-a40a-1a1b8248e7c4\"}]], [\"Mf LD\", [{\"type\": \"GlyphRenderer\", \"id\": \"e3831578-be92-4973-b4ba-333530b6fcb3\"}]]]}, \"id\": \"beee6f1c-904b-44f2-8090-7cd383f2f642\"}, {\"type\": \"ColumnDataSource\", \"attributes\": {\"callback\": null, \"data\": {\"y\": [0.0, 0.012531328320802004, 0.017766502039863005, 0.021814241908927924, 0.025252525252525252, 0.028304657943035313, 0.031084895212984492, 0.03366095815603805, 0.036076876591150386, 0.03836317135549872, 0.04054202128420999, 0.04263013869351413, 0.04464048473115663, 0.046583349812196244, 0.048467064595517376, 0.05029848501568074, 0.052083333333333336, 0.053826444198663975, 0.055531946166482785, 0.05720339820919519, 0.05884389414473131, 0.06045614373292665, 0.062042536505600925, 0.06360519261687957, 0.06514600379742495, 0.06666666666666667, 0.06816871007476985, 0.0696535177306519, 0.07112234707162877, 0.07257634510962943, 0.07401656182502245, 0.07544396155596235, 0.07685943273766821, 0.07826379627436006, 0.07965781277111066, 0.08104218880958378, 0.08241758241758242, 0.08378460785534737, 0.08514383982001347, 0.08649581715233239, 0.08784104611578833, 0.08918000330686418, 0.09051313824591983, 0.09184087569050421, 0.09316361770661234, 0.09448174552816015, 0.09579562123058288, 0.09710558924080799, 0.09841197770277711, 0.09971509971509972, 0.10101525445522108, 0.10231272820261963, 0.10360779527195371, 0.10490071886571352, 0.10619175185476207, 0.10748113749414004, 0.10876911008063783, 0.11005589555788266, 0.11134171207403375, 0.11262677049660716, 0.11391127488845344, 0.11519542294847572, 0.11647940642029306, 0.11776341147171768, 0.11904761904761904, 0.12033220519848581, 0.12161734138676589, 0.12290319477285962, 0.12418992848245966, 0.1254777018567685, 0.12676667068698116, 0.12805698743429117, 0.12934880143656355, 0.13064225910271454, 0.1319375040957458, 0.13323467750529827, 0.13453391801051462, 0.1358353620339338, 0.13713914388707837, 0.1384453959083425, 0.13975424859373686, 0.14106583072100312, 0.14238026946756946, 0.14369769052278075, 0.14501821819480507, 0.1463419755125855, 0.14766908432318, 0.14899966538480539, 0.15033383845587917, 0.15167172238033125, 0.15301343516943772, 0.15435909408041193, 0.15570881569197143, 0.15706271597708396, 0.15842091037308267, 0.15978351384932726, 0.1611506409725775, 0.16252240597023274, 0.16389892279158386, 0.16528030516721262, 0.16666666666666666, 0.16805812075452994, 0.1694547808450013, 0.17085676035508787, 0.172264172756513, 0.17367713162643386, 0.17509575069705785, 0.17652014390424234, 0.17795042543515863, 0.17938670977509538, 0.1808291117534744, 0.18227774658914772, 0.183732729935041, 0.18519417792220647, 0.1866622072033446, 0.18813693499585277, 0.18961847912445437, 0.19110695806346234, 0.19260249097872723, 0.19410519776931875, 0.19561519910898792, 0.1971326164874552, 0.19865757225156944, 0.20019018964637939, 0.2017305928561602, 0.20327890704543541, 0.2048352584000333, 0.20639977416821692, 0.20797258270192576, 0.20955381349816507, 0.2111435972405811, 0.21274206584125646, 0.21434935248276227, 0.2159655916605018, 0.21759091922538018, 0.2192254724268349, 0.22086938995626137, 0.2225228119908674, 0.22418588023799105, 0.22585873797991562, 0.227541530119216, 0.2292344032246702, 0.230937505577771, 0.23265098721987157, 0.234375, 0.23610969762337836, 0.23785523570068057, 0.239611771798066, 0.24137946548802458, 0.24315847840106977, 0.2449489742783178, 0.2467511190249901, 0.24856508076487807, 0.2503910298958093, 0.25222913914615563, 0.2540795836324231, 0.25594254091796714, 0.25781819107287385, 0.25970671673505236, 0.2616083031725828, 0.26352313834736496, 0.2654514129801155, 0.2673933206167617, 0.26934905769628065, 0.27131882362003595, 0.27330282082266233, 0.275301254844554, 0.2773143344060104, 0.2793422714830974, 0.2813852813852814, 0.2834435828348978, 0.2855173980485157, 0.28760695282026316, 0.2897124766071785, 0.2918342026166575, 0.29397236789606557, 0.29612721342458925, 0.2982989842074007, 0.30048792937221475, 0.30269430226831795, 0.3049183605681532, 0.30716036637154587, 0.3094205863126615, 0.3116992916697853, 0.31399675847802166, 0.3163132676450103, 0.318649105069763, 0.32100456176472636, 0.3233799339811813, 0.3257755233380929, 0.32819163695452913, 0.3306285875857716, 0.3330866937632456, 0.3355662799384011, 0.33806767663068255, 0.3405912205797303, 0.3431372549019608, 0.3457061292516798, 0.3482981999868883, 0.3509138303399474, 0.3535533905932738, 0.35621725826024686, 0.35890581827151247, 0.3616194631668784, 0.3643585932930026, 0.36712361700708596, 0.36991495088678666, 0.3727330199465844, 0.3755782578608322, 0.3784511071937424, 0.3813520196365642, 0.3842814562522209, 0.38723988772768714, 0.39022779463439633, 0.3932456676969837, 0.39629400807068055, 0.3993733276276921, 0.40248414925290255, 0.4056270071492692, 0.4088024471532801, 0.41201102706087017, 0.41525331696420403, 0.4185298995997567, 0.4218413707081378, 0.4251883394061297, 0.42857142857142855, 0.43199127524060077, 0.43544853102079084, 0.4389438625157413, 0.4424779517667122, 0.44605149670891475, 0.4496652116441025, 0.4533198277299946, 0.45701609348723793, 0.46075477532464926, 0.46453665808351186, 0.4683625456017444, 0.472233261298793, 0.4761496487821455, 0.48011257247640704, 0.4841229182759271, 0.48818159422201335, 0.49228953120582425, 0.49644768369808584, 0.5006570305068367, 0.5049185755644687, 0.5092333487453935, 0.5136024067157422, 0.5180268338165664, 0.5225077429821027, 0.5270462766947298, 0.531643607978351, 0.5363009414320116, 0.5410195143056757, 0.5458005976201791, 0.5506454973334934, 0.5555555555555556, 0.5605321518140349, 0.5655767043735567, 0.5706906716110313, 0.5758755534498964, 0.5811328928562415, 0.586464277399951, 0.5918713408841918, 0.5973557650467618, 0.6029192813370261, 0.6085636727723914, 0.6142907758785034, 0.6201024827176099, 0.6260007430097988, 0.6319875663521147, 0.6380650245408656, 0.6442352540027595, 0.6505004583408781, 0.656862911001859, 0.66332495807108, 0.6698890212030705, 0.676557600694847, 0.6833332787103715, 0.6902187226648788, 0.6972166887783964, 0.7043300258084123, 0.7115616789723163, 0.7189146940709711, 0.7263922218255483, 0.7339975224406144, 0.741733970407358, 0.7496050595618327, 0.757614408414158, 0.7657657657657657, 0.7740630166330182, 0.7825101884968798, 0.7911114578997713, 0.7998711574123221, 0.8087937829944456, 0.8178840017770318, 0.8271466602925603, 0.8365867931851498, 0.8462096324329446, 0.8560206171183457, 0.8660254037844388, 0.8762298774190643, 0.8866401631113656, 0.8972626384293408, 0.9081039465709737, 0.9191710103459463, 0.9304710470497819, 0.942011584297593, 0.9538004768904481, 0.9658459247937884, 0.9781564923143894, 0.9907411285701346, 1.0036091893554373, 1.0167704605146053, 1.0302351829458924, 1.0440140793705204, 1.0581183830137606, 1.0725598683593287, 1.0873508841540858, 1.1025043888575154, 1.118033988749895, 1.1339539789347417, 1.1502793874952797, 1.1670260230916512, 1.1842105263157894, 1.2018504251546631, 1.2199641949505262, 1.238571323289392, 1.2576923802968636, 1.2773490948744404, 1.2975644374703534, 1.3183627100478443, 1.3397696439918088, 1.3618125067831837, 1.38452021837099, 1.4079234782863943, 1.4320549046737, 1.4569491865623667, 1.4826432508750191, 1.5091764458624564, 1.5365907428821477, 1.5649309586965583, 1.5942450007678388, 1.6245841383729944, 1.65600330276709, 1.6885614200915189, 1.7223217812720624, 1.7573524537921847, 1.7937267409786186, 1.83152369532053, 1.8708286933869709, 1.9117340811423666, 1.9543398999264292, 1.9987547051123336, 2.045096491546389, 2.093493742379642, 2.1440866209219553, 2.197028328801301, 2.252486658145774, 2.310645770914197, 2.3717082451262845, 2.4358974358974357, 2.50346020926848, 2.574670119359142, 2.6498311150470713, 2.729281882077543, 2.8134009514277927, 2.9026127364648513, 2.9973947020704497, 3.098285921338475, 3.2058973436118903, 3.320924186941073, 3.4441609860689124, 3.576519984412587, 3.719053770348791, 3.872983346207417, 4.039733214513608, 4.220975617162522, 4.4186868398235415, 4.635219603317092, 4.873397172404482, 5.1366371831429305, 5.429116746025574, 5.75599582081792, 6.123724356957945, 6.5404722901161945, 7.016743822995893, 7.566275220348462, 8.207381501496753, 8.965037692416372, 9.874208829065749, 10.985399962936217, 12.374368670764582, 14.160162572570721, 16.541194367732672, 19.87460691435179, 24.8746859276655, 33.208098075285456, 49.87484335815001, 99.87492177719089], \"x\": [0, 1, 2, 3, 4, 5, 6, 7, 8, 9, 10, 11, 12, 13, 14, 15, 16, 17, 18, 19, 20, 21, 22, 23, 24, 25, 26, 27, 28, 29, 30, 31, 32, 33, 34, 35, 36, 37, 38, 39, 40, 41, 42, 43, 44, 45, 46, 47, 48, 49, 50, 51, 52, 53, 54, 55, 56, 57, 58, 59, 60, 61, 62, 63, 64, 65, 66, 67, 68, 69, 70, 71, 72, 73, 74, 75, 76, 77, 78, 79, 80, 81, 82, 83, 84, 85, 86, 87, 88, 89, 90, 91, 92, 93, 94, 95, 96, 97, 98, 99, 100, 101, 102, 103, 104, 105, 106, 107, 108, 109, 110, 111, 112, 113, 114, 115, 116, 117, 118, 119, 120, 121, 122, 123, 124, 125, 126, 127, 128, 129, 130, 131, 132, 133, 134, 135, 136, 137, 138, 139, 140, 141, 142, 143, 144, 145, 146, 147, 148, 149, 150, 151, 152, 153, 154, 155, 156, 157, 158, 159, 160, 161, 162, 163, 164, 165, 166, 167, 168, 169, 170, 171, 172, 173, 174, 175, 176, 177, 178, 179, 180, 181, 182, 183, 184, 185, 186, 187, 188, 189, 190, 191, 192, 193, 194, 195, 196, 197, 198, 199, 200, 201, 202, 203, 204, 205, 206, 207, 208, 209, 210, 211, 212, 213, 214, 215, 216, 217, 218, 219, 220, 221, 222, 223, 224, 225, 226, 227, 228, 229, 230, 231, 232, 233, 234, 235, 236, 237, 238, 239, 240, 241, 242, 243, 244, 245, 246, 247, 248, 249, 250, 251, 252, 253, 254, 255, 256, 257, 258, 259, 260, 261, 262, 263, 264, 265, 266, 267, 268, 269, 270, 271, 272, 273, 274, 275, 276, 277, 278, 279, 280, 281, 282, 283, 284, 285, 286, 287, 288, 289, 290, 291, 292, 293, 294, 295, 296, 297, 298, 299, 300, 301, 302, 303, 304, 305, 306, 307, 308, 309, 310, 311, 312, 313, 314, 315, 316, 317, 318, 319, 320, 321, 322, 323, 324, 325, 326, 327, 328, 329, 330, 331, 332, 333, 334, 335, 336, 337, 338, 339, 340, 341, 342, 343, 344, 345, 346, 347, 348, 349, 350, 351, 352, 353, 354, 355, 356, 357, 358, 359, 360, 361, 362, 363, 364, 365, 366, 367, 368, 369, 370, 371, 372, 373, 374, 375, 376, 377, 378, 379, 380, 381, 382, 383, 384, 385, 386, 387, 388, 389, 390, 391, 392, 393, 394, 395, 396, 397, 398, 399]}, \"column_names\": [\"x\", \"y\"]}, \"id\": \"11dceb4a-6e82-43cf-9bf7-f32ceac8d626\"}, {\"type\": \"ColumnDataSource\", \"attributes\": {\"callback\": null, \"data\": {\"y\": [0.0, 0.3535533905932738], \"x\": [200.0, 200.0]}, \"column_names\": [\"x\", \"y\"]}, \"id\": \"caa7c4fa-5807-49e1-9b87-031b84134c92\"}, {\"type\": \"BasicTicker\", \"attributes\": {}, \"id\": \"09e492de-073a-4528-a658-1ca00587f151\"}, {\"type\": \"Line\", \"attributes\": {\"line_width\": {\"value\": 3}, \"line_alpha\": {\"value\": 0.1}, \"y\": {\"field\": \"y\"}, \"x\": {\"field\": \"x\"}, \"line_color\": {\"value\": \"#1f77b4\"}}, \"id\": \"f4f2e55d-1843-4063-b86f-ef6da52b7280\"}, {\"type\": \"GlyphRenderer\", \"attributes\": {\"data_source\": {\"type\": \"ColumnDataSource\", \"id\": \"11dceb4a-6e82-43cf-9bf7-f32ceac8d626\"}, \"glyph\": {\"type\": \"Line\", \"id\": \"20ae91ba-842f-4147-b38e-eff63c58bc8d\"}, \"hover_glyph\": null, \"selection_glyph\": null, \"nonselection_glyph\": {\"type\": \"Line\", \"id\": \"a300637c-d3ae-4ea5-be34-910c36ba8144\"}}, \"id\": \"e3831578-be92-4973-b4ba-333530b6fcb3\"}, {\"type\": \"Line\", \"attributes\": {\"line_dash\": [4, 4], \"y\": {\"field\": \"y\"}, \"x\": {\"field\": \"x\"}}, \"id\": \"c7db3d44-cfce-4ce2-acff-b3cad42b1a74\"}, {\"type\": \"ColumnDataSource\", \"attributes\": {\"callback\": null, \"data\": {\"y\": [0.0, 1.25], \"x\": [400, 400]}, \"column_names\": [\"x\", \"y\"]}, \"id\": \"385ac0d5-dd0e-4a6f-8258-f07deb5bffb5\"}, {\"type\": \"Line\", \"attributes\": {\"x\": {\"field\": \"x\"}, \"line_width\": {\"value\": 3}, \"y\": {\"field\": \"y\"}, \"line_color\": {\"value\": \"red\"}}, \"id\": \"20ae91ba-842f-4147-b38e-eff63c58bc8d\"}, {\"type\": \"Range1d\", \"attributes\": {\"callback\": null, \"end\": 1.25}, \"id\": \"d338bbdf-38fb-41ea-8262-7d4d6e58332e\"}, {\"type\": \"BasicTickFormatter\", \"attributes\": {}, \"id\": \"ff476a6d-fd0d-4f0a-a4e0-cb837d4c5704\"}, {\"type\": \"BoxAnnotation\", \"attributes\": {\"level\": \"overlay\", \"fill_color\": {\"value\": \"lightgrey\"}, \"bottom_units\": \"screen\", \"render_mode\": \"css\", \"line_dash\": [4, 4], \"left_units\": \"screen\", \"right_units\": \"screen\", \"plot\": null, \"line_alpha\": {\"value\": 1.0}, \"top_units\": \"screen\", \"line_color\": {\"value\": \"black\"}, \"fill_alpha\": {\"value\": 0.5}, \"line_width\": {\"value\": 2}}, \"id\": \"9a0985f8-4e7d-48a8-8bd0-b78e77f89327\"}, {\"type\": \"GlyphRenderer\", \"attributes\": {\"data_source\": {\"type\": \"ColumnDataSource\", \"id\": \"caa7c4fa-5807-49e1-9b87-031b84134c92\"}, \"glyph\": {\"type\": \"Line\", \"id\": \"6ec969ee-b84b-403c-ad7a-873f632dfe07\"}, \"hover_glyph\": null, \"selection_glyph\": null, \"nonselection_glyph\": {\"type\": \"Line\", \"id\": \"b9166090-cd77-43c4-8484-70cce602d885\"}}, \"id\": \"25c91b12-e3e2-4513-99c9-7b9a82eb2510\"}, {\"type\": \"ResizeTool\", \"attributes\": {\"plot\": {\"subtype\": \"Figure\", \"type\": \"Plot\", \"id\": \"2396483f-b560-49a8-9e71-f03db5f14d61\"}}, \"id\": \"0554314d-0978-4a30-a9ec-986fe82c2c6a\"}]}, \"title\": \"Bokeh Application\", \"version\": \"0.11.0\"}};\n",
       "            var render_items = [{\"docid\": \"d7c24ceb-2900-4266-869e-00293b765273\", \"modelid\": \"2396483f-b560-49a8-9e71-f03db5f14d61\", \"elementid\": \"dbbb5c9a-0f11-44df-aec7-c4f33a4a3c03\", \"notebook_comms_target\": \"17910202-a545-47dd-9761-07476dded4a5\"}];\n",
       "            \n",
       "            Bokeh.embed.embed_items(docs_json, render_items);\n",
       "        });\n",
       "      },\n",
       "      function(Bokeh) {\n",
       "      }\n",
       "    ];\n",
       "  \n",
       "    function run_inline_js() {\n",
       "      for (var i = 0; i < inline_js.length; i++) {\n",
       "        inline_js[i](window.Bokeh);\n",
       "      }\n",
       "    }\n",
       "  \n",
       "    if (window._bokeh_is_loading === 0) {\n",
       "      console.log(\"Bokeh: BokehJS loaded, going straight to plotting\");\n",
       "      run_inline_js();\n",
       "    } else {\n",
       "      load_libs(js_urls, function() {\n",
       "        console.log(\"Bokeh: BokehJS plotting callback run at\", now());\n",
       "        run_inline_js();\n",
       "      });\n",
       "    }\n",
       "  }(this));\n",
       "</script>"
      ]
     },
     "metadata": {},
     "output_type": "display_data"
    },
    {
     "data": {
      "text/plain": [
       "<bokeh.io._CommsHandle at 0x98ec748>"
      ]
     },
     "execution_count": 6,
     "metadata": {},
     "output_type": "execute_result"
    }
   ],
   "source": [
    "weq = pMPLa(LA)\n",
    "titletxt = \"Ricardo Viner\"\n",
    "ymax = 1.25\n",
    "rv = figure(title=titletxt, tools=TOOLS,width=600, height=400)\n",
    "rv.x_range = Range1d(0, LbarMax)\n",
    "rv.y_range = Range1d(0, ymax)\n",
    "rv.line(La, pMPLa(La),line_width=3,legend=\"Ag LD\")\n",
    "rv.line(La, MPLm(Lbar-La),line_width=3, color = 'red',legend=\"Mf LD\")\n",
    "rv.line([Lbar,Lbar],[0,ymax], line_width=3, color='black')\n",
    "rv.line([0,Lbar],[weq,weq], line_width=1, line_dash=[4, 4], color='black')\n",
    "rv.line([LA, LA],[0, weq], line_width=1, line_dash=[4, 4], color='black')\n",
    "rv.xaxis.axis_label = 'Labor'\n",
    "rv.yaxis.axis_label = 'real wage'\n",
    "\n",
    "print(\"Real equilibrium wage: ( w/Pm ={0:5.2f}, w/Pa ={1:5.2f} )\".format(weq, weq/p))\n",
    "print(\"Labor allocations : ( La ={0:5.0f}, Lm ={1:5.0f} )\".format(LA, Lbar-LA))\n",
    "show(rv)"
   ]
  },
  {
   "cell_type": "code",
   "execution_count": null,
   "metadata": {
    "collapsed": false
   },
   "outputs": [],
   "source": []
  },
  {
   "cell_type": "code",
   "execution_count": null,
   "metadata": {
    "collapsed": true
   },
   "outputs": [],
   "source": []
  }
 ],
 "metadata": {
  "kernelspec": {
   "display_name": "Python 3",
   "language": "python",
   "name": "python3"
  },
  "language_info": {
   "codemirror_mode": {
    "name": "ipython",
    "version": 3
   },
   "file_extension": ".py",
   "mimetype": "text/x-python",
   "name": "python",
   "nbconvert_exporter": "python",
   "pygments_lexer": "ipython3",
   "version": "3.4.4"
  }
 },
 "nbformat": 4,
 "nbformat_minor": 0
}
