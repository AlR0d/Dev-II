{
 "cells": [
  {
   "cell_type": "markdown",
   "metadata": {},
   "source": [
    "# discarded or content otherwise not yet in use"
   ]
  },
  {
   "cell_type": "markdown",
   "metadata": {},
   "source": [
    "The content you are looking was created as a [Jupyter Notebook](http://jupyter.org/), a web application that allows one \"to create and share documents that contain live code, equations, visualizations and explanatory text.\" Different computer languages can be made to work with Jupyter but almost all of the code examples in this collection of notebooks were (and will be) created using scientific python via the [ipython kernel](http://ipython.org/notebook.html) and to less of an extent the [stata kernel](https://github.com/TiesdeKok/ipystata).  \n",
    "\n",
    "One great feature of jupyter notebooks is that they can be easily converted to other formats to give you a range of ways to view and interact with the content.  Depending on how you reached this document you may be sitting in front of a live (executable) jupyter notebook on your own machine or a cloud server (perhaps on the Graduate Center's [DHBox](http://dhbox.org/), described below), a static version of it on the github repository for the class at\n",
    "\n",
    "[https://github.com/jhconning/Dev-II](https://github.com/jhconning/Dev-II)\n",
    "\n",
    "where you can read this very document [here](https://github.com/jhconning/Dev-II/blob/master/jupyter_notebooks.ipynb).  Or perhaps you are reading this a a prettified (but non-executable) [static HTML rendering in the cloud](http://dev-ii-seminar.readthedocs.org/en/latest/).  You may even be reading this as a PDF version made to look [like a book](http://readthedocs.org/projects/dev-ii-seminar/downloads/pdf/latest/).  \n",
    "\n",
    "In this PhD Development seminar we will read and study many published and unpublished academic articles in depth.   Critical reading plus pencil and paper methods should always be the starting point or any analysis but at times it will be fund and helpful to also build simulations and visualizations of amodel or to read in the data to replicate and extend an empirical analysis.  \n",
    "\n",
    "\n",
    "\n",
    "The Jupyter notebook project evolved from the earlier [ipython notebook](http://ipython.org/notebook.html) notebook which was in turn influenced by the [Mathematica notebook](https://reference.wolfram.com/language/tutorial/UsingANotebookInterface.html) and other influences. Python is a very popular and powerful modern general programming language with a huge and fast evolving ecosystem of open-source scientific programming libraries.  The scientific computing toolkit that you can today easily install in your machine or run on the cloud provides a free open-source alternative to expensive proprietary software solutions such as MATLAB, Mathematica, Stata and others.  Python is easy to understand and learn and, along with languages like R, is widely used in the natural sciences and in data analytics and cloud computing.  Like other languages you can run python scripts from the computer command line or from inside an integrated development environment (IDE) such as the one many economists are familiar with in Stata. The ipython notebook (now Jupyter notebook) is a useful alternative/complement to such an IDE-based development strategy as you can mix code, documentation and output all in one place. Many people argue that tools like Jupyter notebooks are the key to making research more replicable, and to encourage scientific collaboration.  Several full length academic [books and articles](https://github.com/ipython/ipython/wiki/A-gallery-of-interesting-IPython-Notebooks#entire-books-or-other-large-collections-of-notebooks-on-a-topic) have already been written entirely using jupyter (and associated tools). You should be able to read a PDF formatted version of this and   \n",
    "\n",
    "\n",
    "Here is a quick illustration of how useful this can be. A key question in the growth and development literature is whether incomes per-capita are converging across countries or not.  If incomes per capita are converging across countries then countries that had lower GDP per capita in, say, 1960 ought to have grown more rapidly in the subsequent period than countries that started out with higher levels of GDP per capita.  A scatter plot of GDP per capita in 1960 versus average GDP growth over the period XX-YY ought to suggest a downward sloping relationship if incomes per capita are converging and an upward sloping relationship if they are diverging. \n",
    "\n",
    "Let's check with an actual data.  The python [pandas](http://pandas.pydata.org/) library provides a method to load a stata dataset file directly into a pandas dataframe"
   ]
  }
 ],
 "metadata": {
  "kernelspec": {
   "display_name": "Python 3",
   "language": "python",
   "name": "python3"
  },
  "language_info": {
   "codemirror_mode": {
    "name": "ipython",
    "version": 3
   },
   "file_extension": ".py",
   "mimetype": "text/x-python",
   "name": "python",
   "nbconvert_exporter": "python",
   "pygments_lexer": "ipython3",
   "version": "3.5.1"
  }
 },
 "nbformat": 4,
 "nbformat_minor": 0
}
